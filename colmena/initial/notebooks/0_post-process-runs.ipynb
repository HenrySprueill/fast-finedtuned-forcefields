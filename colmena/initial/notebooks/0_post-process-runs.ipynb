{
 "cells": [
  {
   "cell_type": "markdown",
   "id": "ebff7536-f0d8-42ed-8dde-0e3b1daab680",
   "metadata": {},
   "source": [
    "# Analyze experiments\n",
    "Run the post-processing needed to compare different runs."
   ]
  },
  {
   "cell_type": "code",
   "execution_count": 1,
   "id": "1263d002-6759-4fbf-85c7-87c79edbf7a0",
   "metadata": {
    "execution": {
     "iopub.execute_input": "2023-03-22T11:41:16.706710Z",
     "iopub.status.busy": "2023-03-22T11:41:16.706614Z",
     "iopub.status.idle": "2023-03-22T11:41:18.035132Z",
     "shell.execute_reply": "2023-03-22T11:41:18.034621Z"
    }
   },
   "outputs": [
    {
     "name": "stderr",
     "output_type": "stream",
     "text": [
      "/home/lward/miniconda3/envs/fastforce/lib/python3.10/site-packages/tqdm/auto.py:22: TqdmWarning: IProgress not found. Please update jupyter and ipywidgets. See https://ipywidgets.readthedocs.io/en/stable/user_install.html\n",
      "  from .autonotebook import tqdm as notebook_tqdm\n"
     ]
    }
   ],
   "source": [
    "%matplotlib inline\n",
    "from fff.learning.gc.functions import GCSchNetForcefield\n",
    "from matplotlib import pyplot as plt\n",
    "from collections import defaultdict\n",
    "from shutil import rmtree\n",
    "from pathlib import Path\n",
    "from tqdm import tqdm\n",
    "from ase.io import read\n",
    "import pandas as pd\n",
    "import numpy as np\n",
    "import torch\n",
    "import json"
   ]
  },
  {
   "cell_type": "markdown",
   "id": "a44c2fbb-a3fb-47cb-9ed6-5eef4255e5c1",
   "metadata": {},
   "source": [
    "Configuration"
   ]
  },
  {
   "cell_type": "code",
   "execution_count": 2,
   "id": "b5b38aba-6b13-48d6-aa5a-15d850c82d34",
   "metadata": {
    "execution": {
     "iopub.execute_input": "2023-03-22T11:41:18.037471Z",
     "iopub.status.busy": "2023-03-22T11:41:18.037224Z",
     "iopub.status.idle": "2023-03-22T11:41:18.039767Z",
     "shell.execute_reply": "2023-03-22T11:41:18.039350Z"
    },
    "tags": []
   },
   "outputs": [],
   "source": [
    "run_dir = Path('prod-runs/ttm_md-10000_thr-0.001_T-500/')"
   ]
  },
  {
   "cell_type": "markdown",
   "id": "7b5a2b76-784c-4f81-ac2c-e19880a7c23d",
   "metadata": {},
   "source": [
    "## Load in the Results\n",
    "We want the runtimes and system hostnames so we can measure how many tasks are running concurrently"
   ]
  },
  {
   "cell_type": "code",
   "execution_count": 3,
   "id": "8d458556-ad97-4a7f-8b77-bce3cc898860",
   "metadata": {
    "execution": {
     "iopub.execute_input": "2023-03-22T11:41:18.041217Z",
     "iopub.status.busy": "2023-03-22T11:41:18.041115Z",
     "iopub.status.idle": "2023-03-22T11:41:18.045005Z",
     "shell.execute_reply": "2023-03-22T11:41:18.044700Z"
    }
   },
   "outputs": [],
   "source": [
    "def load_results(path: Path) -> pd.DataFrame:\n",
    "    \"\"\"Load the results for a certain run\n",
    "    \n",
    "    Args:\n",
    "        path: Path to the run\n",
    "    Returns:\n",
    "        Dataframe of all results\n",
    "    \"\"\"\n",
    "    \n",
    "    # Loop over inference, training, and simulation\n",
    "    output = []\n",
    "    for task in ['inference', 'training', 'simulation', 'sampling']:\n",
    "        # Get the results\n",
    "        data = path / f'{task}-results.json'\n",
    "        if not data.is_file():\n",
    "            continue \n",
    "        results = pd.read_json(path / f'{task}-results.json', lines=True)\n",
    "        \n",
    "        # Store make some metadata easier to get\n",
    "        results['task'] = task\n",
    "        results['hostname'] = results['worker_info'].apply(lambda x: x.get('hostname', 'nidXXXXX') if x is not None else 'nidXXXXX')\n",
    "        \n",
    "        # Mark the machine running\n",
    "        def _get_machine(hostname):\n",
    "            if hostname.startswith('lambda'):\n",
    "                return 'lambda'\n",
    "            elif hostname.startswith('nid'):\n",
    "                return 'theta'\n",
    "            elif hostname.startswith('thetagpu'):\n",
    "                return 'thetagpu'\n",
    "            elif hostname.startswith('venti'):\n",
    "                return 'venti'\n",
    "            else:\n",
    "                return hostname\n",
    "        results['machine'] = results['hostname'].apply(_get_machine)\n",
    "                \n",
    "        # Make a shorter name for the task type\n",
    "        def _get_task(method):\n",
    "            if method == 'run_calculator':\n",
    "                return 'simulation'\n",
    "            elif method.startswith('evaluate'):\n",
    "                return 'inference'\n",
    "            elif 'train' in method:\n",
    "                return 'training'\n",
    "            else:\n",
    "                return 'sampling'\n",
    "        \n",
    "        results['task_type'] = results['method'].apply(_get_task)\n",
    "        output.append(results)\n",
    "        \n",
    "    # Return sorted by \n",
    "    output = pd.concat(output)\n",
    "    output.sort_values('time_compute_started', inplace=True, ignore_index=True)\n",
    "    return output"
   ]
  },
  {
   "cell_type": "code",
   "execution_count": 4,
   "id": "f6551ee3-a2f4-444e-9734-4efee591227c",
   "metadata": {
    "execution": {
     "iopub.execute_input": "2023-03-22T11:41:18.046541Z",
     "iopub.status.busy": "2023-03-22T11:41:18.046242Z",
     "iopub.status.idle": "2023-03-22T11:41:19.197014Z",
     "shell.execute_reply": "2023-03-22T11:41:19.196474Z"
    }
   },
   "outputs": [],
   "source": [
    "results = load_results(run_dir)"
   ]
  },
  {
   "cell_type": "markdown",
   "id": "8cd7bb7f-4f8f-41c2-8479-60176bb65cf5",
   "metadata": {},
   "source": [
    "Load in the metadata"
   ]
  },
  {
   "cell_type": "code",
   "execution_count": 5,
   "id": "b538f664-41ff-4cea-b9c0-203565e08dee",
   "metadata": {
    "execution": {
     "iopub.execute_input": "2023-03-22T11:41:19.198999Z",
     "iopub.status.busy": "2023-03-22T11:41:19.198884Z",
     "iopub.status.idle": "2023-03-22T11:41:19.201236Z",
     "shell.execute_reply": "2023-03-22T11:41:19.200892Z"
    }
   },
   "outputs": [],
   "source": [
    "metadata = json.loads((run_dir / 'runparams.json').read_text())"
   ]
  },
  {
   "cell_type": "markdown",
   "id": "c466314a-acd0-42e2-9ff4-0269a3edf20d",
   "metadata": {},
   "source": [
    "## Plot the Utilization over Time\n",
    "Without factoring out queue times.\n",
    "\n",
    "First step is to mark when the utilization changes (at the beginning and end of jobs)"
   ]
  },
  {
   "cell_type": "code",
   "execution_count": 6,
   "id": "65591eca-bdda-427f-98df-d7623c836168",
   "metadata": {
    "execution": {
     "iopub.execute_input": "2023-03-22T11:41:19.202656Z",
     "iopub.status.busy": "2023-03-22T11:41:19.202554Z",
     "iopub.status.idle": "2023-03-22T11:41:19.206706Z",
     "shell.execute_reply": "2023-03-22T11:41:19.206354Z"
    }
   },
   "outputs": [],
   "source": [
    "def get_utilization_over_time(results: pd.DataFrame) -> pd.DataFrame:\n",
    "    \"\"\"Get the utilization of all machines over time.\n",
    "    \n",
    "    Args:\n",
    "        results: Result data for all tasks\n",
    "    Returns:\n",
    "        Utilization of each system over time\n",
    "    \"\"\"\n",
    "    \n",
    "    # Store the times at which tasks begin or end\n",
    "    steps = []\n",
    "    for rid, task in results.iterrows():\n",
    "        for t, c in zip([task['time_compute_started'], \n",
    "                         task['time_compute_started'] + task['time_async_resolve_proxies'] + task['time_deserialize_inputs'] + task['time_running'] + task['time_serialize_results']],\n",
    "                        [1, -1]):\n",
    "            steps.append({\n",
    "                'task_type': task['task_type'],\n",
    "                'timestamp': t,\n",
    "                'machine': task['machine'],\n",
    "                'hostname': task['hostname'],\n",
    "                'change': c\n",
    "            })\n",
    "    \n",
    "    # Sort by timestamp\n",
    "    steps = pd.DataFrame(steps)\n",
    "    steps.sort_values('timestamp', inplace=True, ignore_index=True)\n",
    "    \n",
    "    # Normalize the walltimes for the results and the \n",
    "    steps['walltime'] = steps['timestamp'] - steps['timestamp'].min()\n",
    "    results['walltime'] = results['time_result_received'] - steps['timestamp'].min()\n",
    "    \n",
    "    # Get the utilization for machine and by task\n",
    "    machines = list(set(steps['machine']))\n",
    "    task_types = set(steps['task_type'])\n",
    "    total_used = dict((x, 0) for x in list(machines) + list(task_types))\n",
    "    utilization = []\n",
    "    for rid, row in steps.iterrows():\n",
    "        total_used[row['machine']] += row['change']\n",
    "        total_used[row['task_type']] += row['change']\n",
    "        utilization.append(total_used.copy())\n",
    "    utilization = pd.DataFrame(utilization)\n",
    "    utilization['total'] = utilization[machines].sum(axis=1)\n",
    "    \n",
    "    # Append it to the tracking\n",
    "    utilization = pd.concat((steps, utilization), axis=1)\n",
    "    \n",
    "    return utilization"
   ]
  },
  {
   "cell_type": "code",
   "execution_count": 7,
   "id": "d33ce8c3-f8f2-4251-9481-297f22762210",
   "metadata": {
    "execution": {
     "iopub.execute_input": "2023-03-22T11:41:19.208252Z",
     "iopub.status.busy": "2023-03-22T11:41:19.207986Z",
     "iopub.status.idle": "2023-03-22T11:41:21.002649Z",
     "shell.execute_reply": "2023-03-22T11:41:21.002101Z"
    }
   },
   "outputs": [],
   "source": [
    "utilization = get_utilization_over_time(results)"
   ]
  },
  {
   "cell_type": "markdown",
   "id": "47c623b0-9852-4134-b0a2-71b86fa144e0",
   "metadata": {},
   "source": [
    "Factor out the idle times (due to jobs waiting in queue)"
   ]
  },
  {
   "cell_type": "code",
   "execution_count": 8,
   "id": "dc1fc4b4-a0ad-491e-bccb-63a97b285e2d",
   "metadata": {
    "execution": {
     "iopub.execute_input": "2023-03-22T11:41:21.004821Z",
     "iopub.status.busy": "2023-03-22T11:41:21.004677Z",
     "iopub.status.idle": "2023-03-22T11:41:21.015659Z",
     "shell.execute_reply": "2023-03-22T11:41:21.015225Z"
    }
   },
   "outputs": [],
   "source": [
    "def remove_queue_times(utilization: pd.DataFrame, results: pd.DataFrame, minimum_span=60):\n",
    "    \"\"\"Remove the times the system was stuck waiting for nodes to be available\n",
    "    \n",
    "    Args:\n",
    "        utilization: Dataframe containing the utilization over time\n",
    "        results: Dataframe containing the task information\n",
    "        minimum_span: Minimum time to declare a utilization absence due to queues\n",
    "    \"\"\"\n",
    "    \n",
    "    # Get the times where the system is completely idle\n",
    "    stop_use = utilization.query('total==0').index[0:-1]  # Last one is shutdown\n",
    "    \n",
    "    # Find those where the downtime is honger than the minimum span\n",
    "    is_longer = (utilization.loc[stop_use + 1, 'walltime'].values - utilization.loc[stop_use, 'walltime']) > minimum_span\n",
    "    queue_stops = stop_use[is_longer]\n",
    "    \n",
    "    # Compute the time spent in queue for each pause\n",
    "    queue_times = utilization.loc[queue_stops + 1, 'walltime'].values - utilization.loc[queue_stops, 'walltime']\n",
    "    \n",
    "    # Remove that time from jobs that occur after each time\n",
    "    queue_starts = utilization.loc[queue_stops, 'walltime']\n",
    "    for frame in (utilization, results):\n",
    "        frame['time_queueing'] = 0\n",
    "        for queue_start, queue_time in zip(queue_starts, queue_times):\n",
    "            frame.loc[frame['walltime'] > queue_start, 'time_queueing'] += queue_time\n",
    "        \n",
    "        frame['walltime'] -= frame['time_queueing']\n",
    "remove_queue_times(utilization, results)"
   ]
  },
  {
   "cell_type": "markdown",
   "id": "b825fac1-15bf-4b4b-868e-b14eb546b633",
   "metadata": {},
   "source": [
    "Plot by the machine and task type"
   ]
  },
  {
   "cell_type": "code",
   "execution_count": 9,
   "id": "9b470406-0a16-4ce2-8e58-f63b0d515a62",
   "metadata": {
    "execution": {
     "iopub.execute_input": "2023-03-22T11:41:21.017138Z",
     "iopub.status.busy": "2023-03-22T11:41:21.017035Z",
     "iopub.status.idle": "2023-03-22T11:41:21.232353Z",
     "shell.execute_reply": "2023-03-22T11:41:21.232006Z"
    }
   },
   "outputs": [
    {
     "data": {
      "image/png": "[encoded data removed]",
      "text/plain": [
       "<Figure size 350x250 with 1 Axes>"
      ]
     },
     "metadata": {},
     "output_type": "display_data"
    }
   ],
   "source": [
    "fig, ax = plt.subplots(figsize=(3.5, 2.5))\n",
    "\n",
    "for machine in set(results['machine']):\n",
    "#    if machine != \"thetagpu\": continue\n",
    "    ax.fill_between(utilization['walltime'], utilization[machine], step='post', label=machine.capitalize(), alpha=0.5)\n",
    "\n",
    "#ax.set_xlim(0, 100)\n",
    "ax.set_xlabel('Time (s)')\n",
    "ax.set_ylabel('Active Workers')\n",
    "#ax.set_xlim(3600, 7200)\n",
    "\n",
    "ax.legend(loc='center')\n",
    "fig.savefig('figures/theta-utilization.png', dpi=320)"
   ]
  },
  {
   "cell_type": "code",
   "execution_count": 10,
   "id": "beb0956c-3625-48be-ad7c-57a0729b67f7",
   "metadata": {
    "execution": {
     "iopub.execute_input": "2023-03-22T11:41:21.233892Z",
     "iopub.status.busy": "2023-03-22T11:41:21.233779Z",
     "iopub.status.idle": "2023-03-22T11:41:21.389717Z",
     "shell.execute_reply": "2023-03-22T11:41:21.389242Z"
    }
   },
   "outputs": [
    {
     "data": {
      "image/png": "[encoded data removed]",
      "text/plain": [
       "<Figure size 350x250 with 1 Axes>"
      ]
     },
     "metadata": {},
     "output_type": "display_data"
    }
   ],
   "source": [
    "fig, ax = plt.subplots(figsize=(3.5, 2.5))\n",
    "\n",
    "for task_type in set(results['task_type']):\n",
    "    ax.fill_between(utilization['walltime'] / 3600, utilization[task_type], step='post', label=task_type.capitalize(), alpha=0.5)\n",
    "\n",
    "#ax.set_xlim(0, 0.3)\n",
    "#ax.set_ylim(0, 8)\n",
    "\n",
    "\n",
    "ax.set_xlabel('Walltime (hr)')\n",
    "ax.set_ylabel('Tasks Running')\n",
    "\n",
    "ax.legend()\n",
    "fig.tight_layout()"
   ]
  },
  {
   "cell_type": "markdown",
   "id": "0f5c991c-91c7-4c0c-a393-0ff1cca87cee",
   "metadata": {},
   "source": [
    "## Compute System Utilization\n",
    "We are targeting HPC systems where nodes are allocated in blocks. That means you get charged for the full block regardless of how many jobs are running. \n",
    "\n",
    "The following function computes the resource costs under this condition"
   ]
  },
  {
   "cell_type": "code",
   "execution_count": 11,
   "id": "8c69a666-8c6c-46f8-85f1-bfe478bd906e",
   "metadata": {
    "execution": {
     "iopub.execute_input": "2023-03-22T11:41:21.391265Z",
     "iopub.status.busy": "2023-03-22T11:41:21.391155Z",
     "iopub.status.idle": "2023-03-22T11:41:21.545471Z",
     "shell.execute_reply": "2023-03-22T11:41:21.544982Z"
    }
   },
   "outputs": [],
   "source": [
    "def compute_cost(utilization: pd.DataFrame, results: pd.DataFrame, idletime: float = 120): \n",
    "    \"\"\"Compute the charge from a supercomputer center based on utilization\n",
    "    \n",
    "    We get charged for all nodes enven if you're not using them.\n",
    "    \n",
    "    Args:\n",
    "        utilization: Dataframe containing the utilization over time\n",
    "        results: Dataframe containing \n",
    "        idletime: How long to wait before halting charges on a ndoe\n",
    "    \"\"\"\n",
    "    # Process each machine separately\n",
    "    for machine, group in utilization.groupby('machine'):\n",
    "        # Mark the points idletime after the machine just became idle\n",
    "        ref_points = group[np.all(np.stack([\n",
    "            group.change < 0,\n",
    "            group[machine] == 0,\n",
    "            np.logical_not(group.walltime.isnull())\n",
    "        ], axis=1), axis=1)].timestamp + idletime\n",
    "        \n",
    "        # Combine these with the points where the machine had at least one task\n",
    "        #  to determine the \"Active Spans\" where there has been an unbroken time\n",
    "        #  between when the machine was active with brakes smaller than the overall\n",
    "        active_starts = group[np.logical_and(\n",
    "            group[machine] > 0,\n",
    "            np.logical_not(group.walltime.isnull())\n",
    "        )].timestamp\n",
    "        active_times = np.sort(np.hstack([active_starts, ref_points]))\n",
    "        \n",
    "        # Find the points where the times between an \"active\" point is greater than the idletime\n",
    "        #  These are where a job started.\n",
    "        elapsed = np.diff(active_times)\n",
    "        start_points = np.where(elapsed > idletime)[0] + 1\n",
    "        \n",
    "        # Get the time where the last job ended\n",
    "        end_points = start_points - 1\n",
    "        \n",
    "        # Record these spans knowning that the first activity period started at the first point\n",
    "        #  and the last active period ended at the last actiity time\n",
    "        if len(start_points) == 0:\n",
    "            continue\n",
    "        spans = list(zip(active_times[start_points],\n",
    "                         active_times[end_points[1:]]))\n",
    "        spans.insert(0, (active_times[0], active_times[end_points[0]]))\n",
    "        spans.append((active_times[start_points[-1]], active_times[-1]))\n",
    "        \n",
    "        # Sort by the time \n",
    "        spans = np.array(spans)\n",
    "        assert np.all(spans[1:, 0] >= spans[:-1, 1])\n",
    "        assert np.all(np.diff(spans[:, 0]) > 0)\n",
    "        assert np.all(spans[:, 1] >= spans[:, 0]), spans[:, 1] - spans[: , 0]\n",
    "        \n",
    "        # Use these to compute the amount of elapsed resource utilization for each result\n",
    "        node_count = group[machine].max()\n",
    "        def _get_time_used(x: float) -> float:\n",
    "            \"\"\"Get the amount of compute used up to a certain point\"\"\"\n",
    "            output = 0\n",
    "            \n",
    "            # If the compute hasn't been used yet\n",
    "            if x < spans[0][0]:\n",
    "                return 0\n",
    "            \n",
    "            # Add up from all of the previous spans\n",
    "            for span in spans:\n",
    "                if x > span[1]:\n",
    "                    output += node_count * (span[1] - span[0])\n",
    "                elif x > span[0]:\n",
    "                    output += node_count * (x - span[0])\n",
    "            return output / 3600\n",
    "        results[f'{machine}_usage'] = results['time_result_received'].apply(_get_time_used)\n",
    "compute_cost(utilization, results)"
   ]
  },
  {
   "cell_type": "markdown",
   "id": "e071f058-a31d-43be-958e-226fefe88514",
   "metadata": {},
   "source": [
    "Plot the usage over time"
   ]
  },
  {
   "cell_type": "code",
   "execution_count": 12,
   "id": "5ba7ede8-aeaa-4ae8-b703-782319ae5bbc",
   "metadata": {
    "execution": {
     "iopub.execute_input": "2023-03-22T11:41:21.547221Z",
     "iopub.status.busy": "2023-03-22T11:41:21.547108Z",
     "iopub.status.idle": "2023-03-22T11:41:21.609430Z",
     "shell.execute_reply": "2023-03-22T11:41:21.608971Z"
    }
   },
   "outputs": [
    {
     "data": {
      "text/plain": [
       "Text(0, 0.5, 'Resources Used')"
      ]
     },
     "execution_count": 12,
     "metadata": {},
     "output_type": "execute_result"
    },
    {
     "data": {
      "image/png": "[encoded data removed]",
      "text/plain": [
       "<Figure size 350x250 with 1 Axes>"
      ]
     },
     "metadata": {},
     "output_type": "display_data"
    }
   ],
   "source": [
    "fig, ax = plt.subplots(figsize=(3.5, 2.5))\n",
    "\n",
    "start_time = results['time_created'].min()\n",
    "results.sort_values('time_result_received', inplace=True)\n",
    "#ax.step(results['time_result_received'] - start_time, results['bettik-linux_usage'])\n",
    "\n",
    "ax.set_xlabel('Time Elapsed (s)')\n",
    "ax.set_ylabel('Resources Used')"
   ]
  },
  {
   "cell_type": "markdown",
   "id": "3a5dd338-e4fd-4416-bbe4-4fef43434559",
   "metadata": {},
   "source": [
    "## Get the Overhead per Task\n",
    "Compute the time not spent running as task"
   ]
  },
  {
   "cell_type": "code",
   "execution_count": 13,
   "id": "7f0fb4f6-7d51-4e69-8865-e2eafa6ffeb1",
   "metadata": {
    "execution": {
     "iopub.execute_input": "2023-03-22T11:41:21.611269Z",
     "iopub.status.busy": "2023-03-22T11:41:21.610973Z",
     "iopub.status.idle": "2023-03-22T11:41:21.689063Z",
     "shell.execute_reply": "2023-03-22T11:41:21.688545Z"
    }
   },
   "outputs": [
    {
     "data": {
      "text/html": [
       "<div>\n",
       "<style scoped>\n",
       "    .dataframe tbody tr th:only-of-type {\n",
       "        vertical-align: middle;\n",
       "    }\n",
       "\n",
       "    .dataframe tbody tr th {\n",
       "        vertical-align: top;\n",
       "    }\n",
       "\n",
       "    .dataframe thead th {\n",
       "        text-align: right;\n",
       "    }\n",
       "</style>\n",
       "<table border=\"1\" class=\"dataframe\">\n",
       "  <thead>\n",
       "    <tr style=\"text-align: right;\">\n",
       "      <th></th>\n",
       "      <th>time_created</th>\n",
       "      <th>time_running</th>\n",
       "      <th>time_input_resolution</th>\n",
       "      <th>time_output_resolution</th>\n",
       "      <th>overhead_total</th>\n",
       "      <th>overhead_sending</th>\n",
       "      <th>overhead_serialization</th>\n",
       "      <th>overhead_reporting</th>\n",
       "    </tr>\n",
       "  </thead>\n",
       "  <tbody>\n",
       "    <tr>\n",
       "      <th>count</th>\n",
       "      <td>1.999500e+04</td>\n",
       "      <td>19995.000000</td>\n",
       "      <td>19995.000000</td>\n",
       "      <td>19995.000000</td>\n",
       "      <td>19995.000000</td>\n",
       "      <td>19995.000000</td>\n",
       "      <td>19995.000000</td>\n",
       "      <td>19995.000000</td>\n",
       "    </tr>\n",
       "    <tr>\n",
       "      <th>mean</th>\n",
       "      <td>1.679417e+09</td>\n",
       "      <td>3.870149</td>\n",
       "      <td>0.089375</td>\n",
       "      <td>0.081702</td>\n",
       "      <td>0.731844</td>\n",
       "      <td>0.506366</td>\n",
       "      <td>0.057894</td>\n",
       "      <td>0.292910</td>\n",
       "    </tr>\n",
       "    <tr>\n",
       "      <th>std</th>\n",
       "      <td>1.446790e+03</td>\n",
       "      <td>44.360154</td>\n",
       "      <td>1.346639</td>\n",
       "      <td>0.602930</td>\n",
       "      <td>15.957248</td>\n",
       "      <td>15.819493</td>\n",
       "      <td>1.415548</td>\n",
       "      <td>2.138002</td>\n",
       "    </tr>\n",
       "    <tr>\n",
       "      <th>min</th>\n",
       "      <td>1.679414e+09</td>\n",
       "      <td>0.166670</td>\n",
       "      <td>0.005460</td>\n",
       "      <td>0.000000</td>\n",
       "      <td>0.048628</td>\n",
       "      <td>0.022568</td>\n",
       "      <td>0.009897</td>\n",
       "      <td>0.028870</td>\n",
       "    </tr>\n",
       "    <tr>\n",
       "      <th>25%</th>\n",
       "      <td>1.679416e+09</td>\n",
       "      <td>0.248374</td>\n",
       "      <td>0.060032</td>\n",
       "      <td>0.065825</td>\n",
       "      <td>0.120724</td>\n",
       "      <td>0.071304</td>\n",
       "      <td>0.021764</td>\n",
       "      <td>0.100991</td>\n",
       "    </tr>\n",
       "    <tr>\n",
       "      <th>50%</th>\n",
       "      <td>1.679417e+09</td>\n",
       "      <td>1.006676</td>\n",
       "      <td>0.064836</td>\n",
       "      <td>0.071604</td>\n",
       "      <td>0.147628</td>\n",
       "      <td>0.076728</td>\n",
       "      <td>0.029313</td>\n",
       "      <td>0.127389</td>\n",
       "    </tr>\n",
       "    <tr>\n",
       "      <th>75%</th>\n",
       "      <td>1.679418e+09</td>\n",
       "      <td>2.847149</td>\n",
       "      <td>0.070738</td>\n",
       "      <td>0.079193</td>\n",
       "      <td>0.288546</td>\n",
       "      <td>0.083338</td>\n",
       "      <td>0.036452</td>\n",
       "      <td>0.268118</td>\n",
       "    </tr>\n",
       "    <tr>\n",
       "      <th>max</th>\n",
       "      <td>1.679420e+09</td>\n",
       "      <td>1409.546953</td>\n",
       "      <td>95.282356</td>\n",
       "      <td>60.037355</td>\n",
       "      <td>753.111591</td>\n",
       "      <td>752.239123</td>\n",
       "      <td>95.902607</td>\n",
       "      <td>96.191742</td>\n",
       "    </tr>\n",
       "  </tbody>\n",
       "</table>\n",
       "</div>"
      ],
      "text/plain": [
       "       time_created  time_running  time_input_resolution  \\\n",
       "count  1.999500e+04  19995.000000           19995.000000   \n",
       "mean   1.679417e+09      3.870149               0.089375   \n",
       "std    1.446790e+03     44.360154               1.346639   \n",
       "min    1.679414e+09      0.166670               0.005460   \n",
       "25%    1.679416e+09      0.248374               0.060032   \n",
       "50%    1.679417e+09      1.006676               0.064836   \n",
       "75%    1.679418e+09      2.847149               0.070738   \n",
       "max    1.679420e+09   1409.546953              95.282356   \n",
       "\n",
       "       time_output_resolution  overhead_total  overhead_sending  \\\n",
       "count            19995.000000    19995.000000      19995.000000   \n",
       "mean                 0.081702        0.731844          0.506366   \n",
       "std                  0.602930       15.957248         15.819493   \n",
       "min                  0.000000        0.048628          0.022568   \n",
       "25%                  0.065825        0.120724          0.071304   \n",
       "50%                  0.071604        0.147628          0.076728   \n",
       "75%                  0.079193        0.288546          0.083338   \n",
       "max                 60.037355      753.111591        752.239123   \n",
       "\n",
       "       overhead_serialization  overhead_reporting  \n",
       "count            19995.000000        19995.000000  \n",
       "mean                 0.057894            0.292910  \n",
       "std                  1.415548            2.138002  \n",
       "min                  0.009897            0.028870  \n",
       "25%                  0.021764            0.100991  \n",
       "50%                  0.029313            0.127389  \n",
       "75%                  0.036452            0.268118  \n",
       "max                 95.902607           96.191742  "
      ]
     },
     "execution_count": 13,
     "metadata": {},
     "output_type": "execute_result"
    }
   ],
   "source": [
    "def get_overhead_times(results: pd.DataFrame) -> pd.DataFrame:\n",
    "    \"\"\"Get the time spent doing things besides running tasks.\n",
    "    \n",
    "        - Starting: Time taken to start a task on a workflow system\n",
    "        - Serialization: Time taken to serialize results\n",
    "        - Reporting: Time taken for the completed, serialized task to be reported\n",
    "    \n",
    "    Args:\n",
    "        results: Results file\n",
    "    Returns:\n",
    "        Many different analyses for each type of tasks. These include\n",
    "    \"\"\"\n",
    "    \n",
    "    # Load in all of the tasks\n",
    "    tasks = results.copy()\n",
    "    \n",
    "    # Load compute the total proxy resolution time for inputs\n",
    "    def _get_resolve_time(x):\n",
    "        if x is None or len(x) == 0: \n",
    "            return 0\n",
    "        return sum(x['resolve']['avg_time_ms'] * x['resolve']['calls'] for x in x.values() if 'resolve' in x) / 1000\n",
    "    tasks['time_input_resolution'] = tasks['proxy_timing'].apply(_get_resolve_time)\n",
    "    \n",
    "    # Get the time waiting for the result to show up\n",
    "    def _get_resolve(x):\n",
    "        if 'result_proxy_stats' not in x or 'resolve' not in x['result_proxy_stats']:\n",
    "            return 0\n",
    "        return x['result_proxy_stats']['resolve']['avg_time_ms'] / 1000\n",
    "    tasks['time_output_resolution'] = tasks['task_info'].apply(_get_resolve)\n",
    "    \n",
    "    # Get the total overhead\n",
    "    #  Total elapsed: (Result received + + all outputs resolved) - time started\n",
    "    #  Total running: Time running - time to resolve inputs\n",
    "    tasks['overhead_total'] = tasks['time_result_received'] - tasks['time_created'] - (tasks['time_running'] - tasks['time_input_resolution'])\n",
    "    tasks['overhead_sending'] = tasks['time_compute_started'] - tasks['time_created'] - tasks['time_serialize_inputs'] + tasks['time_input_resolution']\n",
    "    \n",
    "    # Compute the time compute finished\n",
    "    tasks['time_compute_done'] = tasks['time_compute_started'] + tasks['time_deserialize_inputs'] + tasks['time_async_resolve_proxies'] + tasks['time_running']\n",
    "    \n",
    "    # Compute the difference between the completion time and when it was received by the thinker\n",
    "    serialization_cols = [c for c in tasks.columns if 'serialize' in c]\n",
    "    tasks['overhead_serialization'] = tasks[serialization_cols].sum(axis=1)\n",
    "    \n",
    "    # Compute the receiving component\n",
    "    tasks['overhead_reporting'] = tasks['time_result_received'] - tasks['time_compute_done'] + tasks['time_output_resolution']\n",
    "    \n",
    "    # Only return a subset of the calculations\n",
    "    overhead_cols = [c for c in tasks.columns if c.startswith('overhead')]\n",
    "    return tasks[['method', 'machine', 'time_created', 'time_running', 'time_input_resolution', 'time_output_resolution'] + overhead_cols]\n",
    "get_overhead_times(results).describe()"
   ]
  },
  {
   "cell_type": "markdown",
   "id": "c2ee575d-1512-43ed-bfaa-6937b11db0af",
   "metadata": {},
   "source": [
    "## Get the Final Model Performance\n",
    "See how well the model produced using all of the data works on a molecular dyanmics challenge problem."
   ]
  },
  {
   "cell_type": "code",
   "execution_count": 14,
   "id": "bcecd3ac-eb49-42d7-ad7d-2cd95ac01e31",
   "metadata": {
    "execution": {
     "iopub.execute_input": "2023-03-22T11:41:21.690976Z",
     "iopub.status.busy": "2023-03-22T11:41:21.690823Z",
     "iopub.status.idle": "2023-03-22T11:41:21.694622Z",
     "shell.execute_reply": "2023-03-22T11:41:21.694262Z"
    }
   },
   "outputs": [],
   "source": [
    "log = pd.read_csv(run_dir / 'final-model' / 'train_log.csv')"
   ]
  },
  {
   "cell_type": "code",
   "execution_count": 15,
   "id": "5b36076c-d9d9-4708-8c4a-426f6a997f5e",
   "metadata": {
    "execution": {
     "iopub.execute_input": "2023-03-22T11:41:21.696305Z",
     "iopub.status.busy": "2023-03-22T11:41:21.696200Z",
     "iopub.status.idle": "2023-03-22T11:41:21.995089Z",
     "shell.execute_reply": "2023-03-22T11:41:21.994580Z"
    }
   },
   "outputs": [
    {
     "data": {
      "image/png": "[encoded data removed]",
      "text/plain": [
       "<Figure size 350x250 with 1 Axes>"
      ]
     },
     "metadata": {},
     "output_type": "display_data"
    }
   ],
   "source": [
    "fig, ax = plt.subplots(figsize=(3.5, 2.5))\n",
    "\n",
    "ax.plot(log['epoch'], log['train_loss_total'], '--', color='k', lw=1, label='Train')\n",
    "ax.plot(log['epoch'], log['valid_loss_total'], '-', color='r', label='Validation')\n",
    "\n",
    "ax.set_yscale('log')\n",
    "\n",
    "ax.set_xlabel('Epoch')\n",
    "ax.set_ylabel('Loss')\n",
    "fig.tight_layout()"
   ]
  },
  {
   "cell_type": "code",
   "execution_count": 16,
   "id": "4f09a74a-56b0-49d2-ab2d-57077c133e2a",
   "metadata": {
    "execution": {
     "iopub.execute_input": "2023-03-22T11:41:21.996625Z",
     "iopub.status.busy": "2023-03-22T11:41:21.996518Z",
     "iopub.status.idle": "2023-03-22T11:41:22.003124Z",
     "shell.execute_reply": "2023-03-22T11:41:22.002764Z"
    }
   },
   "outputs": [],
   "source": [
    "def compare_against_benchmark(run_dir: Path, device: str = 'cuda') -> pd.DataFrame:\n",
    "    \"\"\"Compare the performance of the final model against some benchmark data\n",
    "    \n",
    "    Args:\n",
    "        run_dir: Path to the run directory\n",
    "        device: Device on which to run forcefield\n",
    "        \n",
    "    Returns:\n",
    "        ML and DFT energies for each frame\n",
    "    \"\"\"\n",
    "    \n",
    "    # Load in the model\n",
    "    model_path = run_dir / 'final-model' / 'model'\n",
    "    if not model_path.exists():\n",
    "        raise ValueError('Final model has not been trained')\n",
    "    model = torch.load(model_path, map_location='cpu')\n",
    "    \n",
    "    # Load in the metadata\n",
    "    run_params = json.loads((run_dir / 'runparams.json').read_text())\n",
    "    \n",
    "    # Load in the initial model\n",
    "    init_model_path = Path('..') / '../../notebooks/initial-models/' / run_params['calculator'] / 'tuned' / 'model'\n",
    "    init_model = torch.load(init_model_path, map_location='cpu')\n",
    "    \n",
    "    # Make the interface to running the models\n",
    "    schnet = GCSchNetForcefield()\n",
    "    \n",
    "    # Find which structures are relevant\n",
    "    test_set_dir = Path('../../../notebooks/test-sets/trajectories/')\n",
    "    test_dbs = list(test_set_dir.glob(f'{run_params[\"calculator\"]}*db'))\n",
    "    \n",
    "    if 'methane' in run_params['search_space']:\n",
    "        test_set_dir = Path('../../../notebooks/introduce-methane/trajectories/')\n",
    "        test_dbs.extend(\n",
    "            list(test_set_dir.glob(f'{run_params[\"calculator\"]}*db'))\n",
    "        )\n",
    "    \n",
    "    # Loop over the benchmarks\n",
    "    output = defaultdict(list)\n",
    "    for db in test_dbs:\n",
    "        # Read in the test data\n",
    "        atoms = read(db, ':')\n",
    "        output['traj'].extend([db.name[:-3]] * len(atoms))\n",
    "        output['frame'].extend(range(len(atoms)))\n",
    "        \n",
    "        # Store the true values\n",
    "        dft_energy = [a.get_potential_energy() for a in atoms]\n",
    "        output['energy_dft'].extend(dft_energy)\n",
    "        dft_forces = [a.get_forces() for a in atoms]\n",
    "        output['force_dft'].extend(dft_forces)\n",
    "            \n",
    "        # Get the ML predictions of the final model\n",
    "        ml_energy, ml_forces = schnet.evaluate(model, atoms, device=device)\n",
    "        output['energy_ml'].extend(ml_energy)\n",
    "        output['force_ml'].extend(ml_forces)\n",
    "        output['energy_error_per_atom'].extend(np.subtract(ml_energy, dft_energy) / len(atoms[0]))\n",
    "        \n",
    "        # Compute the RMSD forces\n",
    "        forces_err = np.linalg.norm(np.subtract(dft_forces, ml_forces), axis=-1)\n",
    "        forces_rmsd = np.sqrt(np.power(forces_err, 2).mean(axis=-1))\n",
    "        output['force_rmsd'].extend(forces_rmsd)\n",
    "        \n",
    "        # Get the ML predictions of the initial model\n",
    "        ml_energy, ml_forces = schnet.evaluate(init_model, atoms, device=device)\n",
    "        output['energy_ml-init'].extend(ml_energy)\n",
    "        output['energy_error_per_atom-init'].extend(np.subtract(ml_energy, dft_energy) / len(atoms[0]))\n",
    "        output['force_ml-init'].extend(ml_forces)\n",
    "        \n",
    "        # Compute the RMSD forces\n",
    "        forces_err = np.linalg.norm(np.subtract(dft_forces, ml_forces), axis=-1)\n",
    "        forces_rmsd = np.sqrt(np.power(forces_err, 2).mean(axis=-1))\n",
    "        output['force_rmsd-init'].extend(forces_rmsd)\n",
    "        \n",
    "    return pd.DataFrame(output)"
   ]
  },
  {
   "cell_type": "code",
   "execution_count": 17,
   "id": "d48b2abc-6c4f-46aa-85d4-7aabcaa8e6e2",
   "metadata": {
    "execution": {
     "iopub.execute_input": "2023-03-22T11:41:22.004651Z",
     "iopub.status.busy": "2023-03-22T11:41:22.004395Z",
     "iopub.status.idle": "2023-03-22T11:42:07.222547Z",
     "shell.execute_reply": "2023-03-22T11:42:07.222181Z"
    }
   },
   "outputs": [
    {
     "name": "stdout",
     "output_type": "stream",
     "text": [
      "CPU times: user 40.7 s, sys: 1.83 s, total: 42.5 s\n",
      "Wall time: 45.2 s\n"
     ]
    }
   ],
   "source": [
    "%%time\n",
    "results = compare_against_benchmark(run_dir)"
   ]
  },
  {
   "cell_type": "markdown",
   "id": "ce64c437-7e1a-420b-a50a-dfd67d05c514",
   "metadata": {},
   "source": [
    "Plot a trajectory"
   ]
  },
  {
   "cell_type": "code",
   "execution_count": 18,
   "id": "65279bfe-305d-49a1-a5cf-651a4fb883d9",
   "metadata": {
    "execution": {
     "iopub.execute_input": "2023-03-22T11:42:07.224907Z",
     "iopub.status.busy": "2023-03-22T11:42:07.224774Z",
     "iopub.status.idle": "2023-03-22T11:42:07.232276Z",
     "shell.execute_reply": "2023-03-22T11:42:07.232017Z"
    }
   },
   "outputs": [
    {
     "data": {
      "text/html": [
       "<div>\n",
       "<style scoped>\n",
       "    .dataframe tbody tr th:only-of-type {\n",
       "        vertical-align: middle;\n",
       "    }\n",
       "\n",
       "    .dataframe tbody tr th {\n",
       "        vertical-align: top;\n",
       "    }\n",
       "\n",
       "    .dataframe thead th {\n",
       "        text-align: right;\n",
       "    }\n",
       "</style>\n",
       "<table border=\"1\" class=\"dataframe\">\n",
       "  <thead>\n",
       "    <tr style=\"text-align: right;\">\n",
       "      <th></th>\n",
       "      <th>energy_error_per_atom</th>\n",
       "      <th>energy_error_per_atom-init</th>\n",
       "    </tr>\n",
       "  </thead>\n",
       "  <tbody>\n",
       "    <tr>\n",
       "      <th>count</th>\n",
       "      <td>1.494000e+04</td>\n",
       "      <td>1.494000e+04</td>\n",
       "    </tr>\n",
       "    <tr>\n",
       "      <th>mean</th>\n",
       "      <td>4.412205e-04</td>\n",
       "      <td>6.118049e-04</td>\n",
       "    </tr>\n",
       "    <tr>\n",
       "      <th>std</th>\n",
       "      <td>3.561829e-04</td>\n",
       "      <td>4.936360e-04</td>\n",
       "    </tr>\n",
       "    <tr>\n",
       "      <th>min</th>\n",
       "      <td>7.886549e-09</td>\n",
       "      <td>3.308641e-07</td>\n",
       "    </tr>\n",
       "    <tr>\n",
       "      <th>25%</th>\n",
       "      <td>1.740232e-04</td>\n",
       "      <td>2.246033e-04</td>\n",
       "    </tr>\n",
       "    <tr>\n",
       "      <th>50%</th>\n",
       "      <td>3.599925e-04</td>\n",
       "      <td>4.935259e-04</td>\n",
       "    </tr>\n",
       "    <tr>\n",
       "      <th>75%</th>\n",
       "      <td>6.229996e-04</td>\n",
       "      <td>8.859013e-04</td>\n",
       "    </tr>\n",
       "    <tr>\n",
       "      <th>max</th>\n",
       "      <td>3.182328e-03</td>\n",
       "      <td>3.401502e-03</td>\n",
       "    </tr>\n",
       "  </tbody>\n",
       "</table>\n",
       "</div>"
      ],
      "text/plain": [
       "       energy_error_per_atom  energy_error_per_atom-init\n",
       "count           1.494000e+04                1.494000e+04\n",
       "mean            4.412205e-04                6.118049e-04\n",
       "std             3.561829e-04                4.936360e-04\n",
       "min             7.886549e-09                3.308641e-07\n",
       "25%             1.740232e-04                2.246033e-04\n",
       "50%             3.599925e-04                4.935259e-04\n",
       "75%             6.229996e-04                8.859013e-04\n",
       "max             3.182328e-03                3.401502e-03"
      ]
     },
     "execution_count": 18,
     "metadata": {},
     "output_type": "execute_result"
    }
   ],
   "source": [
    "results[['energy_error_per_atom', 'energy_error_per_atom-init']].abs().describe()"
   ]
  },
  {
   "cell_type": "code",
   "execution_count": 19,
   "id": "2a93a54d-d8fa-42b4-9f3f-0d4dc5478e03",
   "metadata": {
    "execution": {
     "iopub.execute_input": "2023-03-22T11:42:07.234530Z",
     "iopub.status.busy": "2023-03-22T11:42:07.234397Z",
     "iopub.status.idle": "2023-03-22T11:42:07.331140Z",
     "shell.execute_reply": "2023-03-22T11:42:07.330838Z"
    }
   },
   "outputs": [
    {
     "data": {
      "image/png": "[encoded data removed]",
      "text/plain": [
       "<Figure size 350x250 with 1 Axes>"
      ]
     },
     "metadata": {},
     "output_type": "display_data"
    }
   ],
   "source": [
    "fig, ax = plt.subplots(figsize=(3.5, 2.5))\n",
    "\n",
    "subset = results.query('traj == \"ttm_n=28_T=300K-625f3ef24285bda750ee7874\"')\n",
    "\n",
    "ax.plot(subset['frame'] * 0.1 * 25, subset['energy_dft'] - subset['energy_dft'].iloc[0], 'k--', label='DFT')\n",
    "ax.plot(subset['frame'] * 0.1 * 25, subset['energy_ml'] - subset['energy_dft'].iloc[0], label='After')\n",
    "ax.plot(subset['frame'] * 0.1 * 25, subset['energy_ml-init'] - subset['energy_dft'].iloc[0], label='Before')\n",
    "\n",
    "#ax.set_xlim([50, 70])\n",
    "#ax.set_ylim([-1, 1])\n",
    "\n",
    "ax.legend()\n",
    "\n",
    "ax.set_xlabel('Time (fs)')\n",
    "ax.set_ylabel('Energy (eV)')\n",
    "\n",
    "fig.tight_layout()"
   ]
  },
  {
   "cell_type": "markdown",
   "id": "385e1cd9-c58b-42d2-92bc-0dc51ad1a22b",
   "metadata": {},
   "source": [
    "Also evaluate the forces"
   ]
  },
  {
   "cell_type": "code",
   "execution_count": 20,
   "id": "fbd47ae0-0b4f-48b0-b01d-a6b1dcef5437",
   "metadata": {
    "execution": {
     "iopub.execute_input": "2023-03-22T11:42:07.332693Z",
     "iopub.status.busy": "2023-03-22T11:42:07.332594Z",
     "iopub.status.idle": "2023-03-22T11:42:07.338673Z",
     "shell.execute_reply": "2023-03-22T11:42:07.338439Z"
    }
   },
   "outputs": [
    {
     "data": {
      "text/html": [
       "<div>\n",
       "<style scoped>\n",
       "    .dataframe tbody tr th:only-of-type {\n",
       "        vertical-align: middle;\n",
       "    }\n",
       "\n",
       "    .dataframe tbody tr th {\n",
       "        vertical-align: top;\n",
       "    }\n",
       "\n",
       "    .dataframe thead th {\n",
       "        text-align: right;\n",
       "    }\n",
       "</style>\n",
       "<table border=\"1\" class=\"dataframe\">\n",
       "  <thead>\n",
       "    <tr style=\"text-align: right;\">\n",
       "      <th></th>\n",
       "      <th>force_rmsd</th>\n",
       "      <th>force_rmsd-init</th>\n",
       "    </tr>\n",
       "  </thead>\n",
       "  <tbody>\n",
       "    <tr>\n",
       "      <th>count</th>\n",
       "      <td>14940.000000</td>\n",
       "      <td>14940.000000</td>\n",
       "    </tr>\n",
       "    <tr>\n",
       "      <th>mean</th>\n",
       "      <td>0.123344</td>\n",
       "      <td>0.295862</td>\n",
       "    </tr>\n",
       "    <tr>\n",
       "      <th>std</th>\n",
       "      <td>0.030170</td>\n",
       "      <td>0.065640</td>\n",
       "    </tr>\n",
       "    <tr>\n",
       "      <th>min</th>\n",
       "      <td>0.038066</td>\n",
       "      <td>0.105342</td>\n",
       "    </tr>\n",
       "    <tr>\n",
       "      <th>25%</th>\n",
       "      <td>0.099066</td>\n",
       "      <td>0.242545</td>\n",
       "    </tr>\n",
       "    <tr>\n",
       "      <th>50%</th>\n",
       "      <td>0.124094</td>\n",
       "      <td>0.296335</td>\n",
       "    </tr>\n",
       "    <tr>\n",
       "      <th>75%</th>\n",
       "      <td>0.145343</td>\n",
       "      <td>0.351286</td>\n",
       "    </tr>\n",
       "    <tr>\n",
       "      <th>max</th>\n",
       "      <td>0.396851</td>\n",
       "      <td>0.449789</td>\n",
       "    </tr>\n",
       "  </tbody>\n",
       "</table>\n",
       "</div>"
      ],
      "text/plain": [
       "         force_rmsd  force_rmsd-init\n",
       "count  14940.000000     14940.000000\n",
       "mean       0.123344         0.295862\n",
       "std        0.030170         0.065640\n",
       "min        0.038066         0.105342\n",
       "25%        0.099066         0.242545\n",
       "50%        0.124094         0.296335\n",
       "75%        0.145343         0.351286\n",
       "max        0.396851         0.449789"
      ]
     },
     "execution_count": 20,
     "metadata": {},
     "output_type": "execute_result"
    }
   ],
   "source": [
    "results[['force_rmsd', 'force_rmsd-init']].describe()"
   ]
  },
  {
   "cell_type": "code",
   "execution_count": 21,
   "id": "eecea356-bd69-4244-bf4f-21220961d616",
   "metadata": {
    "execution": {
     "iopub.execute_input": "2023-03-22T11:42:07.340163Z",
     "iopub.status.busy": "2023-03-22T11:42:07.339964Z",
     "iopub.status.idle": "2023-03-22T11:42:07.425948Z",
     "shell.execute_reply": "2023-03-22T11:42:07.425654Z"
    },
    "tags": []
   },
   "outputs": [
    {
     "data": {
      "image/png": "[encoded data removed]",
      "text/plain": [
       "<Figure size 350x250 with 1 Axes>"
      ]
     },
     "metadata": {},
     "output_type": "display_data"
    }
   ],
   "source": [
    "fig, ax = plt.subplots(figsize=(3.5, 2.5))\n",
    "\n",
    "ax.plot(subset['frame'] * 0.1 * 25, subset['force_rmsd'], label='After')\n",
    "ax.plot(subset['frame'] * 0.1 * 25, subset['force_rmsd-init'], label='Before')\n",
    "\n",
    "#ax.set_xlim([0, 4000])\n",
    "#ax.set_ylim([-2, 4])\n",
    "\n",
    "ax.legend()\n",
    "\n",
    "ax.set_xlabel('Time (fs)')\n",
    "ax.set_ylabel('Force RMSD (eV/$\\AA$)')\n",
    "\n",
    "fig.tight_layout()"
   ]
  },
  {
   "cell_type": "markdown",
   "id": "322000fd-b4d9-4308-9056-7524d4437397",
   "metadata": {},
   "source": [
    "## Run analysis all for experiments\n",
    "Now that we have these functions, run them for all available experiments"
   ]
  },
  {
   "cell_type": "code",
   "execution_count": 22,
   "id": "c7dad4e0-b789-4ed4-a11e-8dbdf1962b04",
   "metadata": {
    "execution": {
     "iopub.execute_input": "2023-03-22T11:42:07.427865Z",
     "iopub.status.busy": "2023-03-22T11:42:07.427768Z",
     "iopub.status.idle": "2023-03-22T11:42:07.431562Z",
     "shell.execute_reply": "2023-03-22T11:42:07.431315Z"
    }
   },
   "outputs": [
    {
     "name": "stdout",
     "output_type": "stream",
     "text": [
      "Found 43 experiments\n"
     ]
    }
   ],
   "source": [
    "experiment_dirs = [x for x in Path('../runs').iterdir() if x.is_dir() and not x.name.startswith('.')]\n",
    "print(f'Found {len(experiment_dirs)} experiments')"
   ]
  },
  {
   "cell_type": "code",
   "execution_count": 23,
   "id": "f73d2fd0-c75f-4bb9-ac8c-c167fe877a2d",
   "metadata": {
    "execution": {
     "iopub.execute_input": "2023-03-22T11:42:07.433463Z",
     "iopub.status.busy": "2023-03-22T11:42:07.433248Z",
     "iopub.status.idle": "2023-03-22T11:44:52.713538Z",
     "shell.execute_reply": "2023-03-22T11:44:52.713098Z"
    }
   },
   "outputs": [
    {
     "name": "stderr",
     "output_type": "stream",
     "text": [
      "  5%|███████████▊                                                                                                                                                                                                                                                  | 2/43 [00:03<01:07,  1.65s/it]"
     ]
    },
    {
     "name": "stdout",
     "output_type": "stream",
     "text": [
      "Processing failed for ../runs/ttm-md-23Mar01-134528-362e3b. Final model has not been trained\n"
     ]
    },
    {
     "name": "stderr",
     "output_type": "stream",
     "text": [
      " 37%|██████████████████████████████████████████████████████████████████████████████████████████████▏                                                                                                                                                              | 16/43 [00:33<01:20,  3.00s/it]"
     ]
    },
    {
     "name": "stdout",
     "output_type": "stream",
     "text": [
      "Processing failed for ../runs/ttm-md-23Mar04-175212-4fe870. Final model has not been trained\n"
     ]
    },
    {
     "name": "stderr",
     "output_type": "stream",
     "text": [
      " 49%|███████████████████████████████████████████████████████████████████████████████████████████████████████████████████████████▌                                                                                                                                 | 21/43 [02:06<03:05,  8.42s/it]"
     ]
    },
    {
     "name": "stdout",
     "output_type": "stream",
     "text": [
      "Processing failed for ../runs/ttm-md-23Feb28-190327-25329a. Final model has not been trained\n"
     ]
    },
    {
     "name": "stderr",
     "output_type": "stream",
     "text": [
      " 51%|█████████████████████████████████████████████████████████████████████████████████████████████████████████████████████████████████▍                                                                                                                           | 22/43 [02:08<02:19,  6.66s/it]"
     ]
    },
    {
     "name": "stdout",
     "output_type": "stream",
     "text": [
      "Processing failed for ../runs/ttm-mctbp-23Mar12-221612-25543a. Final model has not been trained\n"
     ]
    },
    {
     "name": "stderr",
     "output_type": "stream",
     "text": [
      " 74%|████████████████████████████████████████████████████████████████████████████████████████████████████████████████████████████████████████████████████████████████████████████████████████████▎                                                                | 32/43 [02:29<00:19,  1.75s/it]"
     ]
    },
    {
     "name": "stdout",
     "output_type": "stream",
     "text": [
      "Processing failed for ../runs/ttm-mctbp-23Mar06-022351-bb4ab4. Final model has not been trained\n"
     ]
    },
    {
     "name": "stderr",
     "output_type": "stream",
     "text": [
      " 93%|███████████████████████████████████████████████████████████████████████████████████████████████████████████████████████████████████████████████████████████████████████████████████████████████████████████████████████████████████████████▎                 | 40/43 [02:41<00:03,  1.32s/it]"
     ]
    },
    {
     "name": "stdout",
     "output_type": "stream",
     "text": [
      "Processing failed for ../runs/ttm-md-23Mar14-163602-24b53d. Final model has not been trained\n"
     ]
    },
    {
     "name": "stderr",
     "output_type": "stream",
     "text": [
      "100%|█████████████████████████████████████████████████████████████████████████████████████████████████████████████████████████████████████████████████████████████████████████████████████████████████████████████████████████████████████████████████████████████| 43/43 [02:45<00:00,  3.84s/it]\n"
     ]
    }
   ],
   "source": [
    "metadata = []\n",
    "for experiment in tqdm(experiment_dirs):\n",
    "    # Clear the old processed results directory\n",
    "    results_dir = experiment / 'processed-results'\n",
    "    if results_dir.exists():\n",
    "        rmtree(results_dir)\n",
    "    results_dir.mkdir()\n",
    "    \n",
    "    # Add the run parameters to the metadata list\n",
    "    record = {'experiment': experiment.name}\n",
    "    with (experiment / 'runparams.json').open() as fp:\n",
    "        record.update(json.load(fp))\n",
    "        metadata.append(record)\n",
    "    \n",
    "    # Compute the statistics\n",
    "    try:\n",
    "        results = load_results(experiment)\n",
    "        \n",
    "        if not (experiment / 'final-model' / 'benchmark.csv').is_file():\n",
    "            benchmark = compare_against_benchmark(experiment)\n",
    "        \n",
    "        utilization = get_utilization_over_time(results)\n",
    "        remove_queue_times(utilization, results)\n",
    "        compute_cost(utilization, results)\n",
    "\n",
    "        simulation_results = results.query('task_type == \"simulation\" and success').copy()\n",
    "        simulation_results.sort_values('walltime', inplace=True)\n",
    "        \n",
    "        overheads = get_overhead_times(results)\n",
    "        \n",
    "    except Exception as e:\n",
    "        print(f'Processing failed for {experiment}. {e}')\n",
    "        continue\n",
    "    \n",
    "    # Store the results\n",
    "    results.to_csv(results_dir / 'all-tasks.csv', index=False)\n",
    "    utilization.to_csv(results_dir / 'utilization.csv', index=False)\n",
    "    simulation_results.to_csv(results_dir / 'simulation-tasks.csv', index=False)\n",
    "    if not (experiment / 'final-model' / 'benchmark.csv').is_file():    \n",
    "        benchmark.to_csv(experiment / 'final-model' / 'benchmark.csv', index=False)\n",
    "    overheads.to_csv(results_dir / 'overheads.csv', index=False)"
   ]
  },
  {
   "cell_type": "markdown",
   "id": "f2dcaa41-f79e-4772-ac58-7193b82b6f22",
   "metadata": {},
   "source": [
    "Save the metadata summary"
   ]
  },
  {
   "cell_type": "code",
   "execution_count": 24,
   "id": "eb352e1a-726e-4aeb-b3bf-dcd25fee45a9",
   "metadata": {
    "execution": {
     "iopub.execute_input": "2023-03-22T11:44:52.715275Z",
     "iopub.status.busy": "2023-03-22T11:44:52.715162Z",
     "iopub.status.idle": "2023-03-22T11:44:52.720018Z",
     "shell.execute_reply": "2023-03-22T11:44:52.719678Z"
    }
   },
   "outputs": [],
   "source": [
    "metadata = pd.DataFrame(metadata)\n",
    "metadata.to_csv('run_summary.csv', index=False)"
   ]
  },
  {
   "cell_type": "markdown",
   "id": "9b97e902-bdcd-4fd2-bab3-ad202c27791f",
   "metadata": {
    "tags": []
   },
   "source": [
    "## Match Production Runs to Duplicates\n",
    "I've repeated the \"production runs\" several times so we can get better statistics.\n",
    "This script looks for runs with the same config"
   ]
  },
  {
   "cell_type": "code",
   "execution_count": 25,
   "id": "f0f6d94c-374d-452e-928d-488d985c113c",
   "metadata": {
    "execution": {
     "iopub.execute_input": "2023-03-22T11:44:52.721693Z",
     "iopub.status.busy": "2023-03-22T11:44:52.721358Z",
     "iopub.status.idle": "2023-03-22T11:44:52.752415Z",
     "shell.execute_reply": "2023-03-22T11:44:52.752049Z"
    }
   },
   "outputs": [
    {
     "name": "stdout",
     "output_type": "stream",
     "text": [
      "Found 1 for ttm_md-1000_thr-0.020\n",
      "Found 2 for ttm_md-3000_thr-0.001_T-200\n",
      "Found 2 for ttm_md-3000_thr-0.001_T-500\n",
      "Found 1 for ttm_md-1000_thr-0.001\n",
      "Found 1 for ttm-md-5000\n",
      "Found 1 for ttm_md-3000_thr-0.001_T-1000\n",
      "Found 3 for ttm_mctbp-3000_thr-0.001\n",
      "Found 1 for ttm-mhm-5000\n",
      "Found 1 for ttm_md-10000_thr-0.001_T-500\n",
      "Found 1 for ttm_md-3000_thr-0.001_T-600\n",
      "Found 1 for ttm_md-3000_thr-0.001\n",
      "Found 2 for ttm_md-1000_thr-0.005\n",
      "Found 1 for ttm_md-1000_thr-0.001_T-500\n",
      "Found 1 for ttm_md-1000_thr-0.0025\n",
      "Found 1 for ttm_md-3000_thr-0.001_T-700\n",
      "Found 1 for ttm_mctbp-1000_thr-0.0025\n",
      "Found 1 for ttm_md-3000_thr-0.001_T-400\n",
      "Found 1 for ttm_md-3000_thr-0.001_T-50\n",
      "Found 1 for ttm_md-3000_thr-0.001_T-100\n",
      "Found 1 for ttm_md-3000_thr-0.001_T-800\n",
      "Found 3 for ttm_mhm-3000_thr-0.001\n",
      "Found 1 for ttm_md-1000_thr-0.015\n",
      "Found 1 for ttm_md-3000_thr-0.001_T-900\n",
      "Found 1 for ttm_md-5000_thr-0.001_T-500\n",
      "Found 1 for ttm_mctbp-25000_128-nodes\n",
      "Found 1 for ttm_mhm-1000_thr-0.0025\n",
      "Found 1 for ttm_md-1000_thr-0.010\n",
      "Found 1 for ttm_md-20000_thr-0.001_T-500\n",
      "Found 1 for ttm_md-15000_thr-0.001_T-500\n"
     ]
    }
   ],
   "source": [
    "for collection in ['prod-runs']:\n",
    "    for runs in Path(collection).iterdir():\n",
    "        if runs.name.startswith('.') or not runs.is_dir():\n",
    "            continue\n",
    "\n",
    "        # Load the original config\n",
    "        run_config = json.loads(runs.joinpath('runparams.json').read_text())\n",
    "\n",
    "        # Find all runs that match it\n",
    "        matches = [\n",
    "            str(path.absolute().resolve()) for path in experiment_dirs\n",
    "            if run_config == json.loads(path.joinpath('runparams.json').read_text())\n",
    "        ]\n",
    "        print(f'Found {len(matches)} for {runs.name}')\n",
    "\n",
    "        # Save the duplicate paths\n",
    "        with open(runs / 'duplicates.json', 'w') as fp:\n",
    "            json.dump(matches, fp)"
   ]
  },
  {
   "cell_type": "code",
   "execution_count": null,
   "id": "b31e5d30-048f-4e59-ba5f-72ac53d1dcc9",
   "metadata": {},
   "outputs": [],
   "source": []
  }
 ],
 "metadata": {
  "kernelspec": {
   "display_name": "Python 3 (ipykernel)",
   "language": "python",
   "name": "python3"
  },
  "language_info": {
   "codemirror_mode": {
    "name": "ipython",
    "version": 3
   },
   "file_extension": ".py",
   "mimetype": "text/x-python",
   "name": "python",
   "nbconvert_exporter": "python",
   "pygments_lexer": "ipython3",
   "version": "3.10.8"
  }
 },
 "nbformat": 4,
 "nbformat_minor": 5
}
