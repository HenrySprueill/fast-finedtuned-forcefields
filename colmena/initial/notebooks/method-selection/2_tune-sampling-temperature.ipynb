{
 "cells": [
  {
   "cell_type": "markdown",
   "id": "4cea8ffd-3b11-40fb-ac88-148d0e569187",
   "metadata": {},
   "source": [
    "# Evaluate the Effect of Temperature\n",
    "We can choose different temperature for MD sampling, which has an effect of the energy of the structures created.\n",
    "Higher temperature $\\rightarrow$ higher energy."
   ]
  },
  {
   "cell_type": "code",
   "execution_count": 1,
   "id": "bf7d656f-8756-45f3-9c22-2c23a66302e9",
   "metadata": {
    "execution": {
     "iopub.execute_input": "2023-03-22T11:50:58.621480Z",
     "iopub.status.busy": "2023-03-22T11:50:58.621361Z",
     "iopub.status.idle": "2023-03-22T11:50:59.015460Z",
     "shell.execute_reply": "2023-03-22T11:50:59.014968Z"
    }
   },
   "outputs": [],
   "source": [
    "%matplotlib inline\n",
    "from matplotlib import pyplot as plt\n",
    "from pathlib import Path\n",
    "import pandas as pd\n",
    "import utils\n",
    "import json"
   ]
  },
  {
   "cell_type": "markdown",
   "id": "bb6cff87-7a9c-4257-be38-bbd55ea6f49f",
   "metadata": {},
   "source": [
    "## Get the runs\n",
    "We want the runs named `ttm_md-1000_thr-*`"
   ]
  },
  {
   "cell_type": "code",
   "execution_count": 2,
   "id": "63dac336-0f54-480d-8d3d-18e63141fc70",
   "metadata": {
    "execution": {
     "iopub.execute_input": "2023-03-22T11:50:59.018148Z",
     "iopub.status.busy": "2023-03-22T11:50:59.017945Z",
     "iopub.status.idle": "2023-03-22T11:50:59.020906Z",
     "shell.execute_reply": "2023-03-22T11:50:59.020471Z"
    }
   },
   "outputs": [
    {
     "name": "stdout",
     "output_type": "stream",
     "text": [
      "Found 11 runs\n"
     ]
    }
   ],
   "source": [
    "runs = list(Path('../prod-runs/').glob('ttm_md-3000_thr-0.001*'))\n",
    "print(f'Found {len(runs)} runs')"
   ]
  },
  {
   "cell_type": "markdown",
   "id": "cd7b6344-5f0a-4ae2-9a58-92584129b823",
   "metadata": {},
   "source": [
    "Make sure training parameters for the network were the same"
   ]
  },
  {
   "cell_type": "code",
   "execution_count": 3,
   "id": "152bd890-6019-4110-97c8-ed2ecb384ee1",
   "metadata": {
    "execution": {
     "iopub.execute_input": "2023-03-22T11:50:59.022732Z",
     "iopub.status.busy": "2023-03-22T11:50:59.022368Z",
     "iopub.status.idle": "2023-03-22T11:50:59.027878Z",
     "shell.execute_reply": "2023-03-22T11:50:59.027483Z"
    }
   },
   "outputs": [],
   "source": [
    "params = json.loads((runs[0] / 'final-model' / 'params.json').read_text())\n",
    "for p in ['run_dir', 'overwrite']:\n",
    "    params.pop(p)\n",
    "for run in runs:\n",
    "    duplicates = json.loads((run / 'duplicates.json').read_text())\n",
    "    for dup in duplicates:\n",
    "        dup = Path(dup)\n",
    "        my_params = json.loads((dup / 'final-model' / 'params.json').read_text())\n",
    "        for p in ['run_dir', 'overwrite']:\n",
    "            my_params.pop(p)\n",
    "        assert my_params == params, f'{dup} is different than {runs[0]}. {my_params} != {params}'"
   ]
  },
  {
   "cell_type": "markdown",
   "id": "f2dc9fad-f620-4a8c-8977-2d153e4167ba",
   "metadata": {},
   "source": [
    "## Measure the Errors on a Hold-out Set\n",
    "Get the errors for each network in force and energy for a set of structures produced by running molecular dynamics with TTM."
   ]
  },
  {
   "cell_type": "code",
   "execution_count": 4,
   "id": "01a9345d-c60e-41d8-9cc6-edb664f1bb1d",
   "metadata": {
    "execution": {
     "iopub.execute_input": "2023-03-22T11:50:59.029492Z",
     "iopub.status.busy": "2023-03-22T11:50:59.029392Z",
     "iopub.status.idle": "2023-03-22T11:51:05.320881Z",
     "shell.execute_reply": "2023-03-22T11:51:05.320279Z"
    }
   },
   "outputs": [],
   "source": [
    "data = utils.assess_against_holdout(runs, ['dynamics_temp']).sort_values('dynamics_temp')"
   ]
  },
  {
   "cell_type": "markdown",
   "id": "7909b3f6-171f-42b4-909d-ace51d11290a",
   "metadata": {},
   "source": [
    "We now have the errors and for each error tolerance"
   ]
  },
  {
   "cell_type": "code",
   "execution_count": 5,
   "id": "bbee2cd6-5e9f-48c5-8f43-2f958a38d366",
   "metadata": {
    "execution": {
     "iopub.execute_input": "2023-03-22T11:51:05.323177Z",
     "iopub.status.busy": "2023-03-22T11:51:05.323039Z",
     "iopub.status.idle": "2023-03-22T11:51:05.331463Z",
     "shell.execute_reply": "2023-03-22T11:51:05.331068Z"
    }
   },
   "outputs": [
    {
     "data": {
      "text/html": [
       "<div>\n",
       "<style scoped>\n",
       "    .dataframe tbody tr th:only-of-type {\n",
       "        vertical-align: middle;\n",
       "    }\n",
       "\n",
       "    .dataframe tbody tr th {\n",
       "        vertical-align: top;\n",
       "    }\n",
       "\n",
       "    .dataframe thead th {\n",
       "        text-align: right;\n",
       "    }\n",
       "</style>\n",
       "<table border=\"1\" class=\"dataframe\">\n",
       "  <thead>\n",
       "    <tr style=\"text-align: right;\">\n",
       "      <th></th>\n",
       "      <th>dynamics_temp</th>\n",
       "      <th>n_duplicates</th>\n",
       "      <th>energy_error_per_atom-mean</th>\n",
       "      <th>energy_error_per_atom-sem</th>\n",
       "      <th>force_rmsd-mean</th>\n",
       "      <th>force_rmsd-sem</th>\n",
       "      <th>energy_error_per_atom-init-mean</th>\n",
       "      <th>energy_error_per_atom-init-sem</th>\n",
       "      <th>force_rmsd-init-mean</th>\n",
       "      <th>force_rmsd-init-sem</th>\n",
       "    </tr>\n",
       "  </thead>\n",
       "  <tbody>\n",
       "    <tr>\n",
       "      <th>7</th>\n",
       "      <td>50.0</td>\n",
       "      <td>1</td>\n",
       "      <td>0.465706</td>\n",
       "      <td>0.023245</td>\n",
       "      <td>0.166156</td>\n",
       "      <td>0.003102</td>\n",
       "      <td>0.611805</td>\n",
       "      <td>0.025899</td>\n",
       "      <td>0.295862</td>\n",
       "      <td>0.007720</td>\n",
       "    </tr>\n",
       "    <tr>\n",
       "      <th>8</th>\n",
       "      <td>100.0</td>\n",
       "      <td>1</td>\n",
       "      <td>0.466565</td>\n",
       "      <td>0.021347</td>\n",
       "      <td>0.163516</td>\n",
       "      <td>0.003130</td>\n",
       "      <td>0.611805</td>\n",
       "      <td>0.025899</td>\n",
       "      <td>0.295862</td>\n",
       "      <td>0.007720</td>\n",
       "    </tr>\n",
       "    <tr>\n",
       "      <th>0</th>\n",
       "      <td>200.0</td>\n",
       "      <td>2</td>\n",
       "      <td>0.483536</td>\n",
       "      <td>0.017019</td>\n",
       "      <td>0.154224</td>\n",
       "      <td>0.002111</td>\n",
       "      <td>0.611805</td>\n",
       "      <td>0.018236</td>\n",
       "      <td>0.295862</td>\n",
       "      <td>0.005436</td>\n",
       "    </tr>\n",
       "    <tr>\n",
       "      <th>4</th>\n",
       "      <td>300.0</td>\n",
       "      <td>1</td>\n",
       "      <td>0.513566</td>\n",
       "      <td>0.023117</td>\n",
       "      <td>0.141537</td>\n",
       "      <td>0.003034</td>\n",
       "      <td>0.611805</td>\n",
       "      <td>0.025899</td>\n",
       "      <td>0.295862</td>\n",
       "      <td>0.007720</td>\n",
       "    </tr>\n",
       "    <tr>\n",
       "      <th>6</th>\n",
       "      <td>400.0</td>\n",
       "      <td>1</td>\n",
       "      <td>0.527109</td>\n",
       "      <td>0.025014</td>\n",
       "      <td>0.139018</td>\n",
       "      <td>0.003069</td>\n",
       "      <td>0.611804</td>\n",
       "      <td>0.025899</td>\n",
       "      <td>0.295861</td>\n",
       "      <td>0.007720</td>\n",
       "    </tr>\n",
       "    <tr>\n",
       "      <th>1</th>\n",
       "      <td>500.0</td>\n",
       "      <td>2</td>\n",
       "      <td>0.496435</td>\n",
       "      <td>0.015670</td>\n",
       "      <td>0.150502</td>\n",
       "      <td>0.001935</td>\n",
       "      <td>0.611805</td>\n",
       "      <td>0.018236</td>\n",
       "      <td>0.295862</td>\n",
       "      <td>0.005436</td>\n",
       "    </tr>\n",
       "    <tr>\n",
       "      <th>3</th>\n",
       "      <td>600.0</td>\n",
       "      <td>1</td>\n",
       "      <td>0.430360</td>\n",
       "      <td>0.026365</td>\n",
       "      <td>0.148872</td>\n",
       "      <td>0.002832</td>\n",
       "      <td>0.611805</td>\n",
       "      <td>0.025899</td>\n",
       "      <td>0.295862</td>\n",
       "      <td>0.007720</td>\n",
       "    </tr>\n",
       "    <tr>\n",
       "      <th>5</th>\n",
       "      <td>700.0</td>\n",
       "      <td>1</td>\n",
       "      <td>0.492297</td>\n",
       "      <td>0.029514</td>\n",
       "      <td>0.131481</td>\n",
       "      <td>0.004013</td>\n",
       "      <td>0.611805</td>\n",
       "      <td>0.025899</td>\n",
       "      <td>0.295862</td>\n",
       "      <td>0.007720</td>\n",
       "    </tr>\n",
       "    <tr>\n",
       "      <th>9</th>\n",
       "      <td>800.0</td>\n",
       "      <td>1</td>\n",
       "      <td>0.457058</td>\n",
       "      <td>0.024996</td>\n",
       "      <td>0.146616</td>\n",
       "      <td>0.003193</td>\n",
       "      <td>0.611805</td>\n",
       "      <td>0.025899</td>\n",
       "      <td>0.295862</td>\n",
       "      <td>0.007720</td>\n",
       "    </tr>\n",
       "    <tr>\n",
       "      <th>10</th>\n",
       "      <td>900.0</td>\n",
       "      <td>1</td>\n",
       "      <td>0.470590</td>\n",
       "      <td>0.027508</td>\n",
       "      <td>0.150816</td>\n",
       "      <td>0.003073</td>\n",
       "      <td>0.611805</td>\n",
       "      <td>0.025899</td>\n",
       "      <td>0.295862</td>\n",
       "      <td>0.007720</td>\n",
       "    </tr>\n",
       "    <tr>\n",
       "      <th>2</th>\n",
       "      <td>1000.0</td>\n",
       "      <td>1</td>\n",
       "      <td>0.439737</td>\n",
       "      <td>0.024258</td>\n",
       "      <td>0.153802</td>\n",
       "      <td>0.002623</td>\n",
       "      <td>0.611805</td>\n",
       "      <td>0.025899</td>\n",
       "      <td>0.295862</td>\n",
       "      <td>0.007720</td>\n",
       "    </tr>\n",
       "  </tbody>\n",
       "</table>\n",
       "</div>"
      ],
      "text/plain": [
       "    dynamics_temp  n_duplicates  energy_error_per_atom-mean  \\\n",
       "7            50.0             1                    0.465706   \n",
       "8           100.0             1                    0.466565   \n",
       "0           200.0             2                    0.483536   \n",
       "4           300.0             1                    0.513566   \n",
       "6           400.0             1                    0.527109   \n",
       "1           500.0             2                    0.496435   \n",
       "3           600.0             1                    0.430360   \n",
       "5           700.0             1                    0.492297   \n",
       "9           800.0             1                    0.457058   \n",
       "10          900.0             1                    0.470590   \n",
       "2          1000.0             1                    0.439737   \n",
       "\n",
       "    energy_error_per_atom-sem  force_rmsd-mean  force_rmsd-sem  \\\n",
       "7                    0.023245         0.166156        0.003102   \n",
       "8                    0.021347         0.163516        0.003130   \n",
       "0                    0.017019         0.154224        0.002111   \n",
       "4                    0.023117         0.141537        0.003034   \n",
       "6                    0.025014         0.139018        0.003069   \n",
       "1                    0.015670         0.150502        0.001935   \n",
       "3                    0.026365         0.148872        0.002832   \n",
       "5                    0.029514         0.131481        0.004013   \n",
       "9                    0.024996         0.146616        0.003193   \n",
       "10                   0.027508         0.150816        0.003073   \n",
       "2                    0.024258         0.153802        0.002623   \n",
       "\n",
       "    energy_error_per_atom-init-mean  energy_error_per_atom-init-sem  \\\n",
       "7                          0.611805                        0.025899   \n",
       "8                          0.611805                        0.025899   \n",
       "0                          0.611805                        0.018236   \n",
       "4                          0.611805                        0.025899   \n",
       "6                          0.611804                        0.025899   \n",
       "1                          0.611805                        0.018236   \n",
       "3                          0.611805                        0.025899   \n",
       "5                          0.611805                        0.025899   \n",
       "9                          0.611805                        0.025899   \n",
       "10                         0.611805                        0.025899   \n",
       "2                          0.611805                        0.025899   \n",
       "\n",
       "    force_rmsd-init-mean  force_rmsd-init-sem  \n",
       "7               0.295862             0.007720  \n",
       "8               0.295862             0.007720  \n",
       "0               0.295862             0.005436  \n",
       "4               0.295862             0.007720  \n",
       "6               0.295861             0.007720  \n",
       "1               0.295862             0.005436  \n",
       "3               0.295862             0.007720  \n",
       "5               0.295862             0.007720  \n",
       "9               0.295862             0.007720  \n",
       "10              0.295862             0.007720  \n",
       "2               0.295862             0.007720  "
      ]
     },
     "execution_count": 5,
     "metadata": {},
     "output_type": "execute_result"
    }
   ],
   "source": [
    "data"
   ]
  },
  {
   "cell_type": "markdown",
   "id": "2dbf9db5-505b-4eba-96ae-3d7cd11c7302",
   "metadata": {},
   "source": [
    "Make a figure"
   ]
  },
  {
   "cell_type": "code",
   "execution_count": 6,
   "id": "adc9061d-7086-45e4-b3f1-da838039aa90",
   "metadata": {
    "execution": {
     "iopub.execute_input": "2023-03-22T11:51:05.333206Z",
     "iopub.status.busy": "2023-03-22T11:51:05.332923Z",
     "iopub.status.idle": "2023-03-22T11:51:05.449766Z",
     "shell.execute_reply": "2023-03-22T11:51:05.449238Z"
    }
   },
   "outputs": [
    {
     "data": {
      "text/plain": [
       "Text(0.5, 0, 'MD Temperature')"
      ]
     },
     "execution_count": 6,
     "metadata": {},
     "output_type": "execute_result"
    },
    {
     "data": {
      "image/png": "[encoded data removed]",
      "text/plain": [
       "<Figure size 350x275 with 2 Axes>"
      ]
     },
     "metadata": {},
     "output_type": "display_data"
    }
   ],
   "source": [
    "fig, axs = plt.subplots(2, 1, sharex=True, figsize=(3.5, 2.75))\n",
    "\n",
    "#axs[0].set_xlim([0, 21])\n",
    "for ax, t in zip(axs, ['energy_error_per_atom', 'force_rmsd']):\n",
    "    # Plot the initial model\n",
    "    ax.errorbar(data['dynamics_temp'], data[f'{t}-mean'], fmt='--o', yerr=data[f'{t}-sem'])\n",
    "    \n",
    "    # Plot the initial model\n",
    "    row = data.iloc[0]\n",
    "    ax.fill_between(ax.get_xlim(),\n",
    "                    y1=row[f'{t}-init-mean'] + row[f'{t}-init-sem'],\n",
    "                    y2=row[f'{t}-init-mean'] - row[f'{t}-init-sem'],\n",
    "                   color='gray', alpha=0.5)\n",
    "    ax.text(150, row[f'{t}-init-mean'] + row[f'{t}-init-sem'], 'Starting\\nModel',\n",
    "           ha='right', va='bottom', fontsize=8)\n",
    "    \n",
    "axs[0].set_ylabel('Energy MAE\\n(meV/atom)')\n",
    "axs[1].set_ylabel('Force RMSD\\n(eV/Ang)')\n",
    "axs[-1].set_xlabel('MD Temperature')"
   ]
  },
  {
   "cell_type": "markdown",
   "id": "ce62a4f4-7b8d-4978-be79-2095b8a261fb",
   "metadata": {},
   "source": [
    "Lower temperatures seem to give us better agreement with energies, higher temperature with forces. Not sure why, but at least the effect isn't huge."
   ]
  },
  {
   "cell_type": "markdown",
   "id": "45e17e45-7837-43da-95fa-dd8305e25dff",
   "metadata": {},
   "source": [
    "## Evaluate suitability for basin hopping\n",
    "We ran MCTBP with each potential for 100 steps then evaluated the energy of the minima it proposed using TTM. \n",
    "We measure the performance of the model based on a few different metrics:\n",
    "- Energy and Force error between ML and TTM for the proposed minima to measure the quality of the potential for these structures.\n",
    "- Maximum force for the proposed structure, as computed with TTM. A measure of how close to the relaxed geometry we are\n",
    "- Ranking performance: Whether the minima ordered by energy via ML is close to the ranking via TTM. "
   ]
  },
  {
   "cell_type": "code",
   "execution_count": 7,
   "id": "45b88405-31af-445c-b218-f7e7b8c091d3",
   "metadata": {
    "execution": {
     "iopub.execute_input": "2023-03-22T11:51:05.451390Z",
     "iopub.status.busy": "2023-03-22T11:51:05.451258Z",
     "iopub.status.idle": "2023-03-22T11:51:10.064977Z",
     "shell.execute_reply": "2023-03-22T11:51:10.064560Z"
    }
   },
   "outputs": [],
   "source": [
    "data = utils.assess_from_mctbp_runs(runs, ['dynamics_temp']).sort_values('dynamics_temp')"
   ]
  },
  {
   "cell_type": "markdown",
   "id": "9dcd33fe-f3eb-4860-b038-e50565386a03",
   "metadata": {},
   "source": [
    "Summarize all runs"
   ]
  },
  {
   "cell_type": "code",
   "execution_count": 8,
   "id": "2886dc1e-4601-429d-99a3-f28a9fd9b129",
   "metadata": {
    "execution": {
     "iopub.execute_input": "2023-03-22T11:51:10.066999Z",
     "iopub.status.busy": "2023-03-22T11:51:10.066816Z",
     "iopub.status.idle": "2023-03-22T11:51:10.073936Z",
     "shell.execute_reply": "2023-03-22T11:51:10.073632Z"
    }
   },
   "outputs": [
    {
     "data": {
      "text/html": [
       "<div>\n",
       "<style scoped>\n",
       "    .dataframe tbody tr th:only-of-type {\n",
       "        vertical-align: middle;\n",
       "    }\n",
       "\n",
       "    .dataframe tbody tr th {\n",
       "        vertical-align: top;\n",
       "    }\n",
       "\n",
       "    .dataframe thead th {\n",
       "        text-align: right;\n",
       "    }\n",
       "</style>\n",
       "<table border=\"1\" class=\"dataframe\">\n",
       "  <thead>\n",
       "    <tr style=\"text-align: right;\">\n",
       "      <th></th>\n",
       "      <th>dynamics_temp</th>\n",
       "      <th>n_duplicates</th>\n",
       "      <th>number_sampled</th>\n",
       "      <th>energy_error-mean</th>\n",
       "      <th>energy_error-sem</th>\n",
       "      <th>force_error-mean</th>\n",
       "      <th>force_error-sem</th>\n",
       "      <th>max_force-mean</th>\n",
       "      <th>max_force-sem</th>\n",
       "      <th>tau-mean</th>\n",
       "      <th>tau-sem</th>\n",
       "    </tr>\n",
       "  </thead>\n",
       "  <tbody>\n",
       "    <tr>\n",
       "      <th>7</th>\n",
       "      <td>50.0</td>\n",
       "      <td>1</td>\n",
       "      <td>1611</td>\n",
       "      <td>49.160678</td>\n",
       "      <td>1.463861</td>\n",
       "      <td>5.654162</td>\n",
       "      <td>0.109387</td>\n",
       "      <td>2.737692</td>\n",
       "      <td>0.059035</td>\n",
       "      <td>0.499351</td>\n",
       "      <td>0.047977</td>\n",
       "    </tr>\n",
       "    <tr>\n",
       "      <th>8</th>\n",
       "      <td>100.0</td>\n",
       "      <td>1</td>\n",
       "      <td>1323</td>\n",
       "      <td>23.979775</td>\n",
       "      <td>0.898778</td>\n",
       "      <td>3.949812</td>\n",
       "      <td>0.101795</td>\n",
       "      <td>1.879957</td>\n",
       "      <td>0.055739</td>\n",
       "      <td>0.360029</td>\n",
       "      <td>0.083211</td>\n",
       "    </tr>\n",
       "    <tr>\n",
       "      <th>0</th>\n",
       "      <td>200.0</td>\n",
       "      <td>2</td>\n",
       "      <td>2606</td>\n",
       "      <td>40.562289</td>\n",
       "      <td>1.115243</td>\n",
       "      <td>5.347366</td>\n",
       "      <td>0.100018</td>\n",
       "      <td>2.623681</td>\n",
       "      <td>0.052442</td>\n",
       "      <td>0.264983</td>\n",
       "      <td>0.070028</td>\n",
       "    </tr>\n",
       "    <tr>\n",
       "      <th>4</th>\n",
       "      <td>300.0</td>\n",
       "      <td>1</td>\n",
       "      <td>1540</td>\n",
       "      <td>33.545950</td>\n",
       "      <td>0.934974</td>\n",
       "      <td>4.779817</td>\n",
       "      <td>0.106228</td>\n",
       "      <td>2.364543</td>\n",
       "      <td>0.055548</td>\n",
       "      <td>0.541316</td>\n",
       "      <td>0.042616</td>\n",
       "    </tr>\n",
       "    <tr>\n",
       "      <th>6</th>\n",
       "      <td>400.0</td>\n",
       "      <td>1</td>\n",
       "      <td>1548</td>\n",
       "      <td>38.769296</td>\n",
       "      <td>1.074239</td>\n",
       "      <td>5.233631</td>\n",
       "      <td>0.102344</td>\n",
       "      <td>2.703477</td>\n",
       "      <td>0.053723</td>\n",
       "      <td>0.431588</td>\n",
       "      <td>0.066634</td>\n",
       "    </tr>\n",
       "    <tr>\n",
       "      <th>1</th>\n",
       "      <td>500.0</td>\n",
       "      <td>2</td>\n",
       "      <td>2556</td>\n",
       "      <td>36.075195</td>\n",
       "      <td>1.054133</td>\n",
       "      <td>5.182968</td>\n",
       "      <td>0.098045</td>\n",
       "      <td>2.749347</td>\n",
       "      <td>0.057874</td>\n",
       "      <td>0.360685</td>\n",
       "      <td>0.063243</td>\n",
       "    </tr>\n",
       "    <tr>\n",
       "      <th>3</th>\n",
       "      <td>600.0</td>\n",
       "      <td>1</td>\n",
       "      <td>1611</td>\n",
       "      <td>30.662288</td>\n",
       "      <td>0.736356</td>\n",
       "      <td>4.959483</td>\n",
       "      <td>0.093110</td>\n",
       "      <td>2.585641</td>\n",
       "      <td>0.052334</td>\n",
       "      <td>0.522775</td>\n",
       "      <td>0.053147</td>\n",
       "    </tr>\n",
       "    <tr>\n",
       "      <th>5</th>\n",
       "      <td>700.0</td>\n",
       "      <td>1</td>\n",
       "      <td>1549</td>\n",
       "      <td>33.891357</td>\n",
       "      <td>1.010176</td>\n",
       "      <td>4.672820</td>\n",
       "      <td>0.094777</td>\n",
       "      <td>2.483550</td>\n",
       "      <td>0.054640</td>\n",
       "      <td>0.506966</td>\n",
       "      <td>0.070095</td>\n",
       "    </tr>\n",
       "    <tr>\n",
       "      <th>9</th>\n",
       "      <td>800.0</td>\n",
       "      <td>1</td>\n",
       "      <td>1124</td>\n",
       "      <td>69.841052</td>\n",
       "      <td>2.891307</td>\n",
       "      <td>6.736836</td>\n",
       "      <td>0.265428</td>\n",
       "      <td>3.129231</td>\n",
       "      <td>0.159457</td>\n",
       "      <td>-0.093123</td>\n",
       "      <td>0.086771</td>\n",
       "    </tr>\n",
       "    <tr>\n",
       "      <th>10</th>\n",
       "      <td>900.0</td>\n",
       "      <td>1</td>\n",
       "      <td>1093</td>\n",
       "      <td>53.131719</td>\n",
       "      <td>2.406825</td>\n",
       "      <td>8.499142</td>\n",
       "      <td>1.023737</td>\n",
       "      <td>4.836028</td>\n",
       "      <td>0.722844</td>\n",
       "      <td>0.154700</td>\n",
       "      <td>0.087967</td>\n",
       "    </tr>\n",
       "    <tr>\n",
       "      <th>2</th>\n",
       "      <td>1000.0</td>\n",
       "      <td>1</td>\n",
       "      <td>1497</td>\n",
       "      <td>25.066537</td>\n",
       "      <td>0.712211</td>\n",
       "      <td>4.155958</td>\n",
       "      <td>0.088557</td>\n",
       "      <td>2.102962</td>\n",
       "      <td>0.051584</td>\n",
       "      <td>0.424190</td>\n",
       "      <td>0.074532</td>\n",
       "    </tr>\n",
       "  </tbody>\n",
       "</table>\n",
       "</div>"
      ],
      "text/plain": [
       "    dynamics_temp  n_duplicates  number_sampled  energy_error-mean  \\\n",
       "7            50.0             1            1611          49.160678   \n",
       "8           100.0             1            1323          23.979775   \n",
       "0           200.0             2            2606          40.562289   \n",
       "4           300.0             1            1540          33.545950   \n",
       "6           400.0             1            1548          38.769296   \n",
       "1           500.0             2            2556          36.075195   \n",
       "3           600.0             1            1611          30.662288   \n",
       "5           700.0             1            1549          33.891357   \n",
       "9           800.0             1            1124          69.841052   \n",
       "10          900.0             1            1093          53.131719   \n",
       "2          1000.0             1            1497          25.066537   \n",
       "\n",
       "    energy_error-sem  force_error-mean  force_error-sem  max_force-mean  \\\n",
       "7           1.463861          5.654162         0.109387        2.737692   \n",
       "8           0.898778          3.949812         0.101795        1.879957   \n",
       "0           1.115243          5.347366         0.100018        2.623681   \n",
       "4           0.934974          4.779817         0.106228        2.364543   \n",
       "6           1.074239          5.233631         0.102344        2.703477   \n",
       "1           1.054133          5.182968         0.098045        2.749347   \n",
       "3           0.736356          4.959483         0.093110        2.585641   \n",
       "5           1.010176          4.672820         0.094777        2.483550   \n",
       "9           2.891307          6.736836         0.265428        3.129231   \n",
       "10          2.406825          8.499142         1.023737        4.836028   \n",
       "2           0.712211          4.155958         0.088557        2.102962   \n",
       "\n",
       "    max_force-sem  tau-mean   tau-sem  \n",
       "7        0.059035  0.499351  0.047977  \n",
       "8        0.055739  0.360029  0.083211  \n",
       "0        0.052442  0.264983  0.070028  \n",
       "4        0.055548  0.541316  0.042616  \n",
       "6        0.053723  0.431588  0.066634  \n",
       "1        0.057874  0.360685  0.063243  \n",
       "3        0.052334  0.522775  0.053147  \n",
       "5        0.054640  0.506966  0.070095  \n",
       "9        0.159457 -0.093123  0.086771  \n",
       "10       0.722844  0.154700  0.087967  \n",
       "2        0.051584  0.424190  0.074532  "
      ]
     },
     "execution_count": 8,
     "metadata": {},
     "output_type": "execute_result"
    }
   ],
   "source": [
    "data"
   ]
  },
  {
   "cell_type": "markdown",
   "id": "f4bf6eff-1583-446f-9a15-c325d5797f4b",
   "metadata": {},
   "source": [
    "Plot the errors"
   ]
  },
  {
   "cell_type": "code",
   "execution_count": 9,
   "id": "db3a9bf5-9fc8-4091-ba01-0ab19da92743",
   "metadata": {
    "execution": {
     "iopub.execute_input": "2023-03-22T11:51:10.075460Z",
     "iopub.status.busy": "2023-03-22T11:51:10.075243Z",
     "iopub.status.idle": "2023-03-22T11:51:10.313441Z",
     "shell.execute_reply": "2023-03-22T11:51:10.313044Z"
    }
   },
   "outputs": [
    {
     "data": {
      "image/png": "[encoded data removed]",
      "text/plain": [
       "<Figure size 350x425 with 4 Axes>"
      ]
     },
     "metadata": {},
     "output_type": "display_data"
    }
   ],
   "source": [
    "fig, axs = plt.subplots(4, 1, sharex=True, figsize=(3.5, 4.25))\n",
    "\n",
    "for ax, t in zip(axs, ['energy_error', 'force_error', 'max_force', 'tau']):\n",
    "    ax.errorbar(data['dynamics_temp'], data[f'{t}-mean'], fmt='--o', yerr=data[f'{t}-sem'])\n",
    "    \n",
    "axs[0].set_ylabel('Energy MAE\\n(meV/atom)')\n",
    "axs[1].set_ylabel('Force RMSD\\n(eV/Ang)')\n",
    "axs[2].set_ylabel('Max Force\\n(eV/Ang)')\n",
    "axs[3].set_ylabel('Ranking\\nPerformance')\n",
    "axs[-1].set_xlabel('MD Temperature (K)')\n",
    "\n",
    "fig.tight_layout()"
   ]
  },
  {
   "cell_type": "markdown",
   "id": "8ed2aa8c-d2ad-41c8-a4b7-b51e4abc12a4",
   "metadata": {},
   "source": [
    "The MCTBP performance increases with MD run temperature. Seems we need those higher-energy configurations to get the relaxations correct."
   ]
  }
 ],
 "metadata": {
  "kernelspec": {
   "display_name": "Python 3 (ipykernel)",
   "language": "python",
   "name": "python3"
  },
  "language_info": {
   "codemirror_mode": {
    "name": "ipython",
    "version": 3
   },
   "file_extension": ".py",
   "mimetype": "text/x-python",
   "name": "python",
   "nbconvert_exporter": "python",
   "pygments_lexer": "ipython3",
   "version": "3.10.8"
  }
 },
 "nbformat": 4,
 "nbformat_minor": 5
}
