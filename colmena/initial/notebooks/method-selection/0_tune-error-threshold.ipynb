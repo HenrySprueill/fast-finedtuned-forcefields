{
 "cells": [
  {
   "cell_type": "markdown",
   "id": "4cea8ffd-3b11-40fb-ac88-148d0e569187",
   "metadata": {},
   "source": [
    "# Evaluate the Effect of Error Threshold\n",
    "A decision in training is how much we should trade off between structures which are similar to the training set and those which might be unrealistic. \n",
    "We control this tradeoff by changing how large of an error we target when producing new structures.\n"
   ]
  },
  {
   "cell_type": "code",
   "execution_count": 1,
   "id": "bf7d656f-8756-45f3-9c22-2c23a66302e9",
   "metadata": {},
   "outputs": [],
   "source": [
    "%matplotlib inline\n",
    "from matplotlib import pyplot as plt\n",
    "from pathlib import Path\n",
    "import pandas as pd\n",
    "import json"
   ]
  },
  {
   "cell_type": "markdown",
   "id": "bb6cff87-7a9c-4257-be38-bbd55ea6f49f",
   "metadata": {},
   "source": [
    "## Get the runs\n",
    "We want the runs named `ttm_md-1000_thr-*`"
   ]
  },
  {
   "cell_type": "code",
   "execution_count": 2,
   "id": "63dac336-0f54-480d-8d3d-18e63141fc70",
   "metadata": {},
   "outputs": [
    {
     "name": "stdout",
     "output_type": "stream",
     "text": [
      "Found 4 runs\n"
     ]
    }
   ],
   "source": [
    "runs = list(Path('../prod-runs/').glob('ttm_md-1000_thr-*'))\n",
    "print(f'Found {len(runs)} runs')"
   ]
  },
  {
   "cell_type": "markdown",
   "id": "cd7b6344-5f0a-4ae2-9a58-92584129b823",
   "metadata": {},
   "source": [
    "Make sure training parameters for the network were the same"
   ]
  },
  {
   "cell_type": "code",
   "execution_count": 3,
   "id": "152bd890-6019-4110-97c8-ed2ecb384ee1",
   "metadata": {},
   "outputs": [],
   "source": [
    "params = json.loads((runs[0] / 'final-model' / 'params.json').read_text())\n",
    "params.pop('run_dir')\n",
    "for run in runs:\n",
    "    my_params = json.loads((run / 'final-model' / 'params.json').read_text())\n",
    "    my_params.pop('run_dir')\n",
    "    assert my_params == params, f'{run} is different'"
   ]
  },
  {
   "cell_type": "markdown",
   "id": "f2dc9fad-f620-4a8c-8977-2d153e4167ba",
   "metadata": {},
   "source": [
    "## Measure the Errors on a Hold-out Set\n",
    "Get the errors for each network in force and energy"
   ]
  },
  {
   "cell_type": "code",
   "execution_count": 4,
   "id": "01a9345d-c60e-41d8-9cc6-edb664f1bb1d",
   "metadata": {},
   "outputs": [],
   "source": [
    "data = []\n",
    "for run in runs:\n",
    "    # Get the energy tolerance of my run\n",
    "    params = json.loads((run / 'runparams.json').read_text())\n",
    "    energy_tol = params['energy_tolerance']\n",
    "    \n",
    "    try:\n",
    "        # Get the mean error in energy and force for all trajectories\n",
    "        eval_data = pd.read_csv(run / 'processed-results' / 'benchmark.csv')\n",
    "        eval_data['energy_error_per_atom'] = eval_data['energy_error_per_atom'].abs() * 1000\n",
    "        eval_data['energy_error_per_atom-init'] = eval_data['energy_error_per_atom-init'].abs() * 1000\n",
    "        all_errors = eval_data.groupby('traj')[['energy_error_per_atom', 'force_rmsd', 'energy_error_per_atom-init', 'force_rmsd-init']].mean()\n",
    "        \n",
    "        # Store the mean and SEM for each\n",
    "        record = {'energy_tol': energy_tol}\n",
    "        for c in all_errors.columns:\n",
    "            record[f'{c}-mean'] = all_errors[c].mean()\n",
    "            record[f'{c}-sem'] = all_errors[c].sem()\n",
    "        data.append(record)\n",
    "        \n",
    "    except FileNotFoundError:\n",
    "        continue\n",
    "data = pd.DataFrame(data).sort_values('energy_tol')"
   ]
  },
  {
   "cell_type": "markdown",
   "id": "7909b3f6-171f-42b4-909d-ace51d11290a",
   "metadata": {},
   "source": [
    "We now have the errors and for each error tolerance"
   ]
  },
  {
   "cell_type": "code",
   "execution_count": 5,
   "id": "bbee2cd6-5e9f-48c5-8f43-2f958a38d366",
   "metadata": {},
   "outputs": [
    {
     "data": {
      "text/html": [
       "<div>\n",
       "<style scoped>\n",
       "    .dataframe tbody tr th:only-of-type {\n",
       "        vertical-align: middle;\n",
       "    }\n",
       "\n",
       "    .dataframe tbody tr th {\n",
       "        vertical-align: top;\n",
       "    }\n",
       "\n",
       "    .dataframe thead th {\n",
       "        text-align: right;\n",
       "    }\n",
       "</style>\n",
       "<table border=\"1\" class=\"dataframe\">\n",
       "  <thead>\n",
       "    <tr style=\"text-align: right;\">\n",
       "      <th></th>\n",
       "      <th>energy_tol</th>\n",
       "      <th>energy_error_per_atom-mean</th>\n",
       "      <th>energy_error_per_atom-sem</th>\n",
       "      <th>force_rmsd-mean</th>\n",
       "      <th>force_rmsd-sem</th>\n",
       "      <th>energy_error_per_atom-init-mean</th>\n",
       "      <th>energy_error_per_atom-init-sem</th>\n",
       "      <th>force_rmsd-init-mean</th>\n",
       "      <th>force_rmsd-init-sem</th>\n",
       "    </tr>\n",
       "  </thead>\n",
       "  <tbody>\n",
       "    <tr>\n",
       "      <th>2</th>\n",
       "      <td>0.0025</td>\n",
       "      <td>0.480486</td>\n",
       "      <td>0.025678</td>\n",
       "      <td>0.153233</td>\n",
       "      <td>0.003570</td>\n",
       "      <td>0.611804</td>\n",
       "      <td>0.025899</td>\n",
       "      <td>0.295861</td>\n",
       "      <td>0.00772</td>\n",
       "    </tr>\n",
       "    <tr>\n",
       "      <th>1</th>\n",
       "      <td>0.0050</td>\n",
       "      <td>0.847481</td>\n",
       "      <td>0.034911</td>\n",
       "      <td>0.252033</td>\n",
       "      <td>0.011402</td>\n",
       "      <td>0.611804</td>\n",
       "      <td>0.025899</td>\n",
       "      <td>0.295861</td>\n",
       "      <td>0.00772</td>\n",
       "    </tr>\n",
       "    <tr>\n",
       "      <th>3</th>\n",
       "      <td>0.0100</td>\n",
       "      <td>0.595829</td>\n",
       "      <td>0.049985</td>\n",
       "      <td>0.233876</td>\n",
       "      <td>0.008889</td>\n",
       "      <td>0.611804</td>\n",
       "      <td>0.025899</td>\n",
       "      <td>0.295861</td>\n",
       "      <td>0.00772</td>\n",
       "    </tr>\n",
       "    <tr>\n",
       "      <th>0</th>\n",
       "      <td>0.0200</td>\n",
       "      <td>2.058102</td>\n",
       "      <td>0.133091</td>\n",
       "      <td>0.495910</td>\n",
       "      <td>0.023578</td>\n",
       "      <td>0.611804</td>\n",
       "      <td>0.025899</td>\n",
       "      <td>0.295861</td>\n",
       "      <td>0.00772</td>\n",
       "    </tr>\n",
       "  </tbody>\n",
       "</table>\n",
       "</div>"
      ],
      "text/plain": [
       "   energy_tol  energy_error_per_atom-mean  energy_error_per_atom-sem  \\\n",
       "2      0.0025                    0.480486                   0.025678   \n",
       "1      0.0050                    0.847481                   0.034911   \n",
       "3      0.0100                    0.595829                   0.049985   \n",
       "0      0.0200                    2.058102                   0.133091   \n",
       "\n",
       "   force_rmsd-mean  force_rmsd-sem  energy_error_per_atom-init-mean  \\\n",
       "2         0.153233        0.003570                         0.611804   \n",
       "1         0.252033        0.011402                         0.611804   \n",
       "3         0.233876        0.008889                         0.611804   \n",
       "0         0.495910        0.023578                         0.611804   \n",
       "\n",
       "   energy_error_per_atom-init-sem  force_rmsd-init-mean  force_rmsd-init-sem  \n",
       "2                        0.025899              0.295861              0.00772  \n",
       "1                        0.025899              0.295861              0.00772  \n",
       "3                        0.025899              0.295861              0.00772  \n",
       "0                        0.025899              0.295861              0.00772  "
      ]
     },
     "execution_count": 5,
     "metadata": {},
     "output_type": "execute_result"
    }
   ],
   "source": [
    "data"
   ]
  },
  {
   "cell_type": "markdown",
   "id": "2dbf9db5-505b-4eba-96ae-3d7cd11c7302",
   "metadata": {},
   "source": [
    "Make a figure"
   ]
  },
  {
   "cell_type": "code",
   "execution_count": 6,
   "id": "adc9061d-7086-45e4-b3f1-da838039aa90",
   "metadata": {},
   "outputs": [
    {
     "data": {
      "text/plain": [
       "Text(0.5, 0, 'Target Error (meV/atom)')"
      ]
     },
     "execution_count": 6,
     "metadata": {},
     "output_type": "execute_result"
    },
    {
     "data": {
      "image/png": "[encoded data removed]",
      "text/plain": [
       "<Figure size 350x275 with 2 Axes>"
      ]
     },
     "metadata": {},
     "output_type": "display_data"
    }
   ],
   "source": [
    "fig, axs = plt.subplots(2, 1, sharex=True, figsize=(3.5, 2.75))\n",
    "\n",
    "axs[0].set_xlim([0, 21])\n",
    "for ax, t in zip(axs, ['energy_error_per_atom', 'force_rmsd']):\n",
    "    # Plot the initial model\n",
    "    ax.errorbar(data['energy_tol'] * 1000, data[f'{t}-mean'], fmt='--o', yerr=data[f'{t}-sem'])\n",
    "    \n",
    "    # Plot the initial model\n",
    "    row = data.iloc[0]\n",
    "    ax.fill_between(ax.get_xlim(),\n",
    "                    y1=row[f'{t}-init-mean'] + row[f'{t}-init-sem'],\n",
    "                    y2=row[f'{t}-init-mean'] - row[f'{t}-init-sem'],\n",
    "                   color='gray', alpha=0.5)\n",
    "    ax.text(20, row[f'{t}-init-mean'] + row[f'{t}-init-sem'], 'Starting\\nModel',\n",
    "           ha='right', va='bottom', fontsize=8)\n",
    "    \n",
    "axs[0].set_ylabel('Energy MAE\\n(meV/atom)')\n",
    "axs[1].set_ylabel('Force RMSD\\n(eV/Ang)')\n",
    "axs[-1].set_xlabel('Target Error (meV/atom)')"
   ]
  },
  {
   "cell_type": "code",
   "execution_count": null,
   "id": "252c5211-256f-4404-bdd8-d5eb93a1657d",
   "metadata": {},
   "outputs": [],
   "source": []
  }
 ],
 "metadata": {
  "kernelspec": {
   "display_name": "Python 3 (ipykernel)",
   "language": "python",
   "name": "python3"
  },
  "language_info": {
   "codemirror_mode": {
    "name": "ipython",
    "version": 3
   },
   "file_extension": ".py",
   "mimetype": "text/x-python",
   "name": "python",
   "nbconvert_exporter": "python",
   "pygments_lexer": "ipython3",
   "version": "3.10.8"
  }
 },
 "nbformat": 4,
 "nbformat_minor": 5
}
