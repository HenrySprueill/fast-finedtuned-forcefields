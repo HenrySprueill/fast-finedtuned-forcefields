{
 "cells": [
  {
   "cell_type": "markdown",
   "id": "03f2eced-0e6c-494d-9c14-b6a96f273b01",
   "metadata": {},
   "source": [
    "# Select Sampling Method\n",
    "We have several routes for producing new structures:\n",
    "1. Molecular dynamics (MD), which does not intentionally create unrealistic structures\n",
    "2. Monte Carlo Thermal Basin Paving (MCTBP), which creates unrealistic structures by perturbing the atomic positions of a water at the beginning of each step\n",
    "3. Minima Hoping Method (MHM), which is somewhere between those two\n",
    "Arguments can be made for both \"unrealistic\" structures being key for training because they ensure the model is taught to avoid them,\n",
    "or deterimental because they induce a model to waste learning capacity in regions that should never be sampled.\n",
    "Our goal here is to bypass theory and just measure which performs better."
   ]
  },
  {
   "cell_type": "code",
   "execution_count": 1,
   "id": "42ba3b25-3214-4685-9acc-23ea8cfcb0c3",
   "metadata": {
    "execution": {
     "iopub.execute_input": "2023-03-22T11:50:50.814220Z",
     "iopub.status.busy": "2023-03-22T11:50:50.814132Z",
     "iopub.status.idle": "2023-03-22T11:50:51.217605Z",
     "shell.execute_reply": "2023-03-22T11:50:51.217237Z"
    }
   },
   "outputs": [],
   "source": [
    "%matplotlib inline\n",
    "from matplotlib import pyplot as plt\n",
    "from pathlib import Path\n",
    "import pandas as pd\n",
    "import utils\n",
    "import json"
   ]
  },
  {
   "cell_type": "markdown",
   "id": "6d60d163-8a7b-453d-9ae0-500ffb0baa18",
   "metadata": {},
   "source": [
    "## Load in Examples\n",
    "We only vary the sampling method, keeping the number of structures produced and the target error constant.\n",
    "We selected a target error of 2.5 meV/atom because it gave us a model that performed well against a hold-out set and produced better structure when used for MCTBP."
   ]
  },
  {
   "cell_type": "code",
   "execution_count": 2,
   "id": "fd1f7c63-82b9-4ccb-9311-fb2b6968e57a",
   "metadata": {
    "execution": {
     "iopub.execute_input": "2023-03-22T11:50:51.219134Z",
     "iopub.status.busy": "2023-03-22T11:50:51.218984Z",
     "iopub.status.idle": "2023-03-22T11:50:51.221538Z",
     "shell.execute_reply": "2023-03-22T11:50:51.221275Z"
    }
   },
   "outputs": [
    {
     "name": "stdout",
     "output_type": "stream",
     "text": [
      "Found 3 runs\n"
     ]
    }
   ],
   "source": [
    "runs = list(Path('../prod-runs/').glob('ttm_*-3000_thr-0.001'))\n",
    "print(f'Found {len(runs)} runs')"
   ]
  },
  {
   "cell_type": "markdown",
   "id": "5229b173-e450-4a7a-b39e-e00f37c3c458",
   "metadata": {},
   "source": [
    "Make sure training parameters for the network were the same"
   ]
  },
  {
   "cell_type": "code",
   "execution_count": 3,
   "id": "43b35fd5-ffee-4941-be5e-8fa23636f17c",
   "metadata": {
    "execution": {
     "iopub.execute_input": "2023-03-22T11:50:51.222688Z",
     "iopub.status.busy": "2023-03-22T11:50:51.222593Z",
     "iopub.status.idle": "2023-03-22T11:50:51.226648Z",
     "shell.execute_reply": "2023-03-22T11:50:51.226397Z"
    }
   },
   "outputs": [],
   "source": [
    "params = json.loads((runs[0] / 'final-model' / 'params.json').read_text())\n",
    "params.pop('run_dir')\n",
    "for run in runs:\n",
    "    duplicates = json.loads((run / 'duplicates.json').read_text())\n",
    "    for dup in duplicates:\n",
    "        dup = Path(dup)\n",
    "        my_params = json.loads((dup / 'final-model' / 'params.json').read_text())\n",
    "        my_params.pop('run_dir')\n",
    "        assert my_params == params, f'{dup} is different than {runs[0]}. {params} != {my_params}'"
   ]
  },
  {
   "cell_type": "markdown",
   "id": "6d8b8b58-1221-4ec5-b645-35deb73f3782",
   "metadata": {},
   "source": [
    "## Compare Against Hold-out Set\n",
    "Using the same procedure as last notebook"
   ]
  },
  {
   "cell_type": "code",
   "execution_count": 4,
   "id": "80547419-82b9-40b0-8732-e509cfa03732",
   "metadata": {
    "execution": {
     "iopub.execute_input": "2023-03-22T11:50:51.227949Z",
     "iopub.status.busy": "2023-03-22T11:50:51.227855Z",
     "iopub.status.idle": "2023-03-22T11:50:54.652845Z",
     "shell.execute_reply": "2023-03-22T11:50:54.652311Z"
    }
   },
   "outputs": [],
   "source": [
    "data = utils.assess_against_holdout(runs, ['sampling_method'])"
   ]
  },
  {
   "cell_type": "markdown",
   "id": "894eeeac-c040-4664-acaf-e216a752a3cd",
   "metadata": {},
   "source": [
    "We now have the errors and for each error tolerance"
   ]
  },
  {
   "cell_type": "code",
   "execution_count": 5,
   "id": "dcb4b25b-153e-4fdd-aefd-5a62e0c7f45f",
   "metadata": {
    "execution": {
     "iopub.execute_input": "2023-03-22T11:50:54.654917Z",
     "iopub.status.busy": "2023-03-22T11:50:54.654775Z",
     "iopub.status.idle": "2023-03-22T11:50:54.661878Z",
     "shell.execute_reply": "2023-03-22T11:50:54.661525Z"
    }
   },
   "outputs": [
    {
     "data": {
      "text/html": [
       "<div>\n",
       "<style scoped>\n",
       "    .dataframe tbody tr th:only-of-type {\n",
       "        vertical-align: middle;\n",
       "    }\n",
       "\n",
       "    .dataframe tbody tr th {\n",
       "        vertical-align: top;\n",
       "    }\n",
       "\n",
       "    .dataframe thead th {\n",
       "        text-align: right;\n",
       "    }\n",
       "</style>\n",
       "<table border=\"1\" class=\"dataframe\">\n",
       "  <thead>\n",
       "    <tr style=\"text-align: right;\">\n",
       "      <th></th>\n",
       "      <th>sampling_method</th>\n",
       "      <th>n_duplicates</th>\n",
       "      <th>energy_error_per_atom-mean</th>\n",
       "      <th>energy_error_per_atom-sem</th>\n",
       "      <th>force_rmsd-mean</th>\n",
       "      <th>force_rmsd-sem</th>\n",
       "      <th>energy_error_per_atom-init-mean</th>\n",
       "      <th>energy_error_per_atom-init-sem</th>\n",
       "      <th>force_rmsd-init-mean</th>\n",
       "      <th>force_rmsd-init-sem</th>\n",
       "    </tr>\n",
       "  </thead>\n",
       "  <tbody>\n",
       "    <tr>\n",
       "      <th>0</th>\n",
       "      <td>mctbp</td>\n",
       "      <td>3</td>\n",
       "      <td>2.030405</td>\n",
       "      <td>0.067306</td>\n",
       "      <td>0.320491</td>\n",
       "      <td>0.007675</td>\n",
       "      <td>0.611805</td>\n",
       "      <td>0.014869</td>\n",
       "      <td>0.295862</td>\n",
       "      <td>0.004432</td>\n",
       "    </tr>\n",
       "    <tr>\n",
       "      <th>1</th>\n",
       "      <td>md</td>\n",
       "      <td>1</td>\n",
       "      <td>0.513566</td>\n",
       "      <td>0.023117</td>\n",
       "      <td>0.141537</td>\n",
       "      <td>0.003034</td>\n",
       "      <td>0.611805</td>\n",
       "      <td>0.025899</td>\n",
       "      <td>0.295862</td>\n",
       "      <td>0.007720</td>\n",
       "    </tr>\n",
       "    <tr>\n",
       "      <th>2</th>\n",
       "      <td>mhm</td>\n",
       "      <td>3</td>\n",
       "      <td>1.655311</td>\n",
       "      <td>0.036627</td>\n",
       "      <td>0.329508</td>\n",
       "      <td>0.007849</td>\n",
       "      <td>0.611805</td>\n",
       "      <td>0.014869</td>\n",
       "      <td>0.295862</td>\n",
       "      <td>0.004432</td>\n",
       "    </tr>\n",
       "  </tbody>\n",
       "</table>\n",
       "</div>"
      ],
      "text/plain": [
       "  sampling_method  n_duplicates  energy_error_per_atom-mean  \\\n",
       "0           mctbp             3                    2.030405   \n",
       "1              md             1                    0.513566   \n",
       "2             mhm             3                    1.655311   \n",
       "\n",
       "   energy_error_per_atom-sem  force_rmsd-mean  force_rmsd-sem  \\\n",
       "0                   0.067306         0.320491        0.007675   \n",
       "1                   0.023117         0.141537        0.003034   \n",
       "2                   0.036627         0.329508        0.007849   \n",
       "\n",
       "   energy_error_per_atom-init-mean  energy_error_per_atom-init-sem  \\\n",
       "0                         0.611805                        0.014869   \n",
       "1                         0.611805                        0.025899   \n",
       "2                         0.611805                        0.014869   \n",
       "\n",
       "   force_rmsd-init-mean  force_rmsd-init-sem  \n",
       "0              0.295862             0.004432  \n",
       "1              0.295862             0.007720  \n",
       "2              0.295862             0.004432  "
      ]
     },
     "execution_count": 5,
     "metadata": {},
     "output_type": "execute_result"
    }
   ],
   "source": [
    "data"
   ]
  },
  {
   "cell_type": "markdown",
   "id": "161e8f10-8c7a-4727-a3f0-742b518bd831",
   "metadata": {},
   "source": [
    "Make a figure"
   ]
  },
  {
   "cell_type": "code",
   "execution_count": 6,
   "id": "e41c54ef-c0f6-42d0-9e60-95505be1bbea",
   "metadata": {
    "execution": {
     "iopub.execute_input": "2023-03-22T11:50:54.663375Z",
     "iopub.status.busy": "2023-03-22T11:50:54.663191Z",
     "iopub.status.idle": "2023-03-22T11:50:54.755956Z",
     "shell.execute_reply": "2023-03-22T11:50:54.755511Z"
    }
   },
   "outputs": [
    {
     "data": {
      "text/plain": [
       "Text(0.5, 0, 'Sampling Method')"
      ]
     },
     "execution_count": 6,
     "metadata": {},
     "output_type": "execute_result"
    },
    {
     "data": {
      "image/png": "[encoded data removed]",
      "text/plain": [
       "<Figure size 350x275 with 2 Axes>"
      ]
     },
     "metadata": {},
     "output_type": "display_data"
    }
   ],
   "source": [
    "fig, axs = plt.subplots(2, 1, sharex=True, figsize=(3.5, 2.75))\n",
    "\n",
    "axs[0].set_xlim([-0.5, 2.5])\n",
    "for ax, t in zip(axs, ['energy_error_per_atom', 'force_rmsd']):\n",
    "    # Plot the initial model\n",
    "    ax.bar(range(3), data[f'{t}-mean'], yerr=data[f'{t}-sem'])\n",
    "    \n",
    "    # Plot the initial model\n",
    "    row = data.iloc[0]\n",
    "    ax.fill_between(ax.get_xlim(),\n",
    "                    y1=row[f'{t}-init-mean'] + row[f'{t}-init-sem'],\n",
    "                    y2=row[f'{t}-init-mean'] - row[f'{t}-init-sem'],\n",
    "                   color='gray', alpha=0.5)\n",
    "    ax.text(0.1, row[f'{t}-init-mean'] + row[f'{t}-init-sem'], 'Starting\\nModel',\n",
    "           ha='right', va='bottom', fontsize=8)\n",
    "    \n",
    "axs[-1].set_xticks(range(3))\n",
    "axs[-1].set_xticklabels(data['sampling_method'].str.upper())\n",
    "    \n",
    "axs[0].set_ylabel('Energy MAE\\n(meV/atom)')\n",
    "axs[1].set_ylabel('Force RMSD\\n(eV/Ang)')\n",
    "axs[-1].set_xlabel('Sampling Method')"
   ]
  },
  {
   "cell_type": "markdown",
   "id": "75cffe79-b26b-4731-9775-bae08dfa4260",
   "metadata": {},
   "source": [
    "## Repeat with MCTBP\n",
    "See if the sampling methods improve performance"
   ]
  },
  {
   "cell_type": "code",
   "execution_count": 7,
   "id": "54395776-4d50-40dc-bcb1-43f56c0c5101",
   "metadata": {
    "execution": {
     "iopub.execute_input": "2023-03-22T11:50:54.757411Z",
     "iopub.status.busy": "2023-03-22T11:50:54.757207Z",
     "iopub.status.idle": "2023-03-22T11:50:57.394813Z",
     "shell.execute_reply": "2023-03-22T11:50:57.394306Z"
    }
   },
   "outputs": [],
   "source": [
    "data = utils.assess_from_mctbp_runs(runs, ['sampling_method'])"
   ]
  },
  {
   "cell_type": "markdown",
   "id": "6f6c533f-c08c-47f2-ada6-a8d5c3b0bddc",
   "metadata": {},
   "source": [
    "Summarize all runs"
   ]
  },
  {
   "cell_type": "code",
   "execution_count": 8,
   "id": "451ba1da-5f62-435e-9cd9-4aefd02a02b9",
   "metadata": {
    "execution": {
     "iopub.execute_input": "2023-03-22T11:50:57.396724Z",
     "iopub.status.busy": "2023-03-22T11:50:57.396613Z",
     "iopub.status.idle": "2023-03-22T11:50:57.402443Z",
     "shell.execute_reply": "2023-03-22T11:50:57.402094Z"
    }
   },
   "outputs": [
    {
     "data": {
      "text/html": [
       "<div>\n",
       "<style scoped>\n",
       "    .dataframe tbody tr th:only-of-type {\n",
       "        vertical-align: middle;\n",
       "    }\n",
       "\n",
       "    .dataframe tbody tr th {\n",
       "        vertical-align: top;\n",
       "    }\n",
       "\n",
       "    .dataframe thead th {\n",
       "        text-align: right;\n",
       "    }\n",
       "</style>\n",
       "<table border=\"1\" class=\"dataframe\">\n",
       "  <thead>\n",
       "    <tr style=\"text-align: right;\">\n",
       "      <th></th>\n",
       "      <th>sampling_method</th>\n",
       "      <th>n_duplicates</th>\n",
       "      <th>number_sampled</th>\n",
       "      <th>energy_error-mean</th>\n",
       "      <th>energy_error-sem</th>\n",
       "      <th>force_error-mean</th>\n",
       "      <th>force_error-sem</th>\n",
       "      <th>max_force-mean</th>\n",
       "      <th>max_force-sem</th>\n",
       "      <th>tau-mean</th>\n",
       "      <th>tau-sem</th>\n",
       "    </tr>\n",
       "  </thead>\n",
       "  <tbody>\n",
       "    <tr>\n",
       "      <th>0</th>\n",
       "      <td>mctbp</td>\n",
       "      <td>3</td>\n",
       "      <td>4750</td>\n",
       "      <td>76.953050</td>\n",
       "      <td>1.176458</td>\n",
       "      <td>8.933284</td>\n",
       "      <td>0.094050</td>\n",
       "      <td>3.888127</td>\n",
       "      <td>0.036909</td>\n",
       "      <td>0.197511</td>\n",
       "      <td>0.053553</td>\n",
       "    </tr>\n",
       "    <tr>\n",
       "      <th>1</th>\n",
       "      <td>md</td>\n",
       "      <td>1</td>\n",
       "      <td>1540</td>\n",
       "      <td>33.545950</td>\n",
       "      <td>0.934974</td>\n",
       "      <td>4.779817</td>\n",
       "      <td>0.106228</td>\n",
       "      <td>2.364543</td>\n",
       "      <td>0.055548</td>\n",
       "      <td>0.541316</td>\n",
       "      <td>0.042616</td>\n",
       "    </tr>\n",
       "    <tr>\n",
       "      <th>2</th>\n",
       "      <td>mhm</td>\n",
       "      <td>3</td>\n",
       "      <td>4726</td>\n",
       "      <td>129.809599</td>\n",
       "      <td>1.510801</td>\n",
       "      <td>11.695563</td>\n",
       "      <td>0.092506</td>\n",
       "      <td>4.675914</td>\n",
       "      <td>0.033375</td>\n",
       "      <td>-0.003762</td>\n",
       "      <td>0.042692</td>\n",
       "    </tr>\n",
       "  </tbody>\n",
       "</table>\n",
       "</div>"
      ],
      "text/plain": [
       "  sampling_method  n_duplicates  number_sampled  energy_error-mean  \\\n",
       "0           mctbp             3            4750          76.953050   \n",
       "1              md             1            1540          33.545950   \n",
       "2             mhm             3            4726         129.809599   \n",
       "\n",
       "   energy_error-sem  force_error-mean  force_error-sem  max_force-mean  \\\n",
       "0          1.176458          8.933284         0.094050        3.888127   \n",
       "1          0.934974          4.779817         0.106228        2.364543   \n",
       "2          1.510801         11.695563         0.092506        4.675914   \n",
       "\n",
       "   max_force-sem  tau-mean   tau-sem  \n",
       "0       0.036909  0.197511  0.053553  \n",
       "1       0.055548  0.541316  0.042616  \n",
       "2       0.033375 -0.003762  0.042692  "
      ]
     },
     "execution_count": 8,
     "metadata": {},
     "output_type": "execute_result"
    }
   ],
   "source": [
    "data"
   ]
  },
  {
   "cell_type": "markdown",
   "id": "ec73711a-33b0-45fd-bcd7-b8425b300f39",
   "metadata": {},
   "source": [
    "Plot the errors"
   ]
  },
  {
   "cell_type": "code",
   "execution_count": 9,
   "id": "940b05fd-2632-4281-90c5-9142853d5bc3",
   "metadata": {
    "execution": {
     "iopub.execute_input": "2023-03-22T11:50:57.403978Z",
     "iopub.status.busy": "2023-03-22T11:50:57.403700Z",
     "iopub.status.idle": "2023-03-22T11:50:57.555134Z",
     "shell.execute_reply": "2023-03-22T11:50:57.554762Z"
    }
   },
   "outputs": [
    {
     "data": {
      "image/png": "[encoded data removed]",
      "text/plain": [
       "<Figure size 350x425 with 4 Axes>"
      ]
     },
     "metadata": {},
     "output_type": "display_data"
    }
   ],
   "source": [
    "fig, axs = plt.subplots(4, 1, sharex=True, figsize=(3.5, 4.25))\n",
    "\n",
    "axs[-1].set_xlim([-0.5, 2.5])\n",
    "for ax, t in zip(axs, ['energy_error', 'force_error', 'max_force', 'tau']):\n",
    "    ax.bar(range(3), data[f'{t}-mean'], yerr=data[f'{t}-sem'])\n",
    "    \n",
    "axs[-1].set_xticks(range(3))\n",
    "axs[-1].set_xticklabels(data['sampling_method'].str.upper())\n",
    "    \n",
    "axs[0].set_ylabel('Energy MAE\\n(meV/atom)')\n",
    "axs[1].set_ylabel('Force RMSD\\n(eV/Ang)')\n",
    "axs[2].set_ylabel('Max Force\\n(eV/Ang)')\n",
    "axs[3].set_ylabel('Ranking\\nPerformance')\n",
    "axs[-1].set_xlabel('Target Error (meV/atom)')\n",
    "\n",
    "fig.tight_layout()"
   ]
  },
  {
   "cell_type": "code",
   "execution_count": null,
   "id": "3fb1add4-c73b-4404-bc98-c6e2770dd4ee",
   "metadata": {},
   "outputs": [],
   "source": []
  }
 ],
 "metadata": {
  "kernelspec": {
   "display_name": "Python 3 (ipykernel)",
   "language": "python",
   "name": "python3"
  },
  "language_info": {
   "codemirror_mode": {
    "name": "ipython",
    "version": 3
   },
   "file_extension": ".py",
   "mimetype": "text/x-python",
   "name": "python",
   "nbconvert_exporter": "python",
   "pygments_lexer": "ipython3",
   "version": "3.10.8"
  }
 },
 "nbformat": 4,
 "nbformat_minor": 5
}
