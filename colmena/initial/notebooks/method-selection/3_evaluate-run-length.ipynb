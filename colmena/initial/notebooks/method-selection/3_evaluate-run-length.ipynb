{
 "cells": [
  {
   "cell_type": "markdown",
   "id": "4cea8ffd-3b11-40fb-ac88-148d0e569187",
   "metadata": {},
   "source": [
    "# Evaluate Effect of Run Length\n",
    "We should see it getting better with more samples acquired"
   ]
  },
  {
   "cell_type": "code",
   "execution_count": 1,
   "id": "bf7d656f-8756-45f3-9c22-2c23a66302e9",
   "metadata": {
    "execution": {
     "iopub.execute_input": "2023-03-22T11:51:11.417133Z",
     "iopub.status.busy": "2023-03-22T11:51:11.416770Z",
     "iopub.status.idle": "2023-03-22T11:51:11.862214Z",
     "shell.execute_reply": "2023-03-22T11:51:11.861709Z"
    }
   },
   "outputs": [],
   "source": [
    "%matplotlib inline\n",
    "from matplotlib import pyplot as plt\n",
    "from pathlib import Path\n",
    "import pandas as pd\n",
    "import utils\n",
    "import json"
   ]
  },
  {
   "cell_type": "markdown",
   "id": "bb6cff87-7a9c-4257-be38-bbd55ea6f49f",
   "metadata": {},
   "source": [
    "## Get the runs\n",
    "We want MD runs at T=500K with a target error of 1meV/atom"
   ]
  },
  {
   "cell_type": "code",
   "execution_count": 2,
   "id": "63dac336-0f54-480d-8d3d-18e63141fc70",
   "metadata": {
    "execution": {
     "iopub.execute_input": "2023-03-22T11:51:11.864276Z",
     "iopub.status.busy": "2023-03-22T11:51:11.864103Z",
     "iopub.status.idle": "2023-03-22T11:51:11.867179Z",
     "shell.execute_reply": "2023-03-22T11:51:11.866797Z"
    }
   },
   "outputs": [
    {
     "name": "stdout",
     "output_type": "stream",
     "text": [
      "Found 6 runs\n"
     ]
    }
   ],
   "source": [
    "runs = list(Path('../prod-runs/').glob('ttm_md-*_thr-0.001_T-500'))\n",
    "print(f'Found {len(runs)} runs')"
   ]
  },
  {
   "cell_type": "markdown",
   "id": "cd7b6344-5f0a-4ae2-9a58-92584129b823",
   "metadata": {},
   "source": [
    "Make sure training parameters for the network were the same"
   ]
  },
  {
   "cell_type": "code",
   "execution_count": 3,
   "id": "152bd890-6019-4110-97c8-ed2ecb384ee1",
   "metadata": {
    "execution": {
     "iopub.execute_input": "2023-03-22T11:51:11.868765Z",
     "iopub.status.busy": "2023-03-22T11:51:11.868510Z",
     "iopub.status.idle": "2023-03-22T11:51:11.871683Z",
     "shell.execute_reply": "2023-03-22T11:51:11.871339Z"
    }
   },
   "outputs": [],
   "source": [
    "params = json.loads((runs[0] / 'final-model' / 'params.json').read_text())\n",
    "for p in ['run_dir', 'overwrite']:\n",
    "    params.pop(p)\n",
    "for run in runs:\n",
    "    duplicates = json.loads((run / 'duplicates.json').read_text())\n",
    "    for dup in duplicates:\n",
    "        dup = Path(dup)\n",
    "        my_params = json.loads((dup / 'final-model' / 'params.json').read_text())\n",
    "        for p in ['run_dir', 'overwrite']:\n",
    "            my_params.pop(p)\n",
    "        assert my_params == params, f'{dup} is different than {runs[0]}. {my_params} != {params}'"
   ]
  },
  {
   "cell_type": "markdown",
   "id": "f2dc9fad-f620-4a8c-8977-2d153e4167ba",
   "metadata": {},
   "source": [
    "## Measure the Errors on a Hold-out Set\n",
    "Get the errors for each network in force and energy for a set of structures produced by running molecular dynamics with TTM."
   ]
  },
  {
   "cell_type": "code",
   "execution_count": 4,
   "id": "01a9345d-c60e-41d8-9cc6-edb664f1bb1d",
   "metadata": {
    "execution": {
     "iopub.execute_input": "2023-03-22T11:51:11.873155Z",
     "iopub.status.busy": "2023-03-22T11:51:11.872899Z",
     "iopub.status.idle": "2023-03-22T11:51:15.199815Z",
     "shell.execute_reply": "2023-03-22T11:51:15.199305Z"
    }
   },
   "outputs": [],
   "source": [
    "data = utils.assess_against_holdout(runs, ['num_to_run']).sort_values('num_to_run')"
   ]
  },
  {
   "cell_type": "markdown",
   "id": "7909b3f6-171f-42b4-909d-ace51d11290a",
   "metadata": {},
   "source": [
    "We now have the errors and for each error tolerance"
   ]
  },
  {
   "cell_type": "code",
   "execution_count": 5,
   "id": "bbee2cd6-5e9f-48c5-8f43-2f958a38d366",
   "metadata": {
    "execution": {
     "iopub.execute_input": "2023-03-22T11:51:15.201943Z",
     "iopub.status.busy": "2023-03-22T11:51:15.201803Z",
     "iopub.status.idle": "2023-03-22T11:51:15.209346Z",
     "shell.execute_reply": "2023-03-22T11:51:15.208961Z"
    }
   },
   "outputs": [
    {
     "data": {
      "text/html": [
       "<div>\n",
       "<style scoped>\n",
       "    .dataframe tbody tr th:only-of-type {\n",
       "        vertical-align: middle;\n",
       "    }\n",
       "\n",
       "    .dataframe tbody tr th {\n",
       "        vertical-align: top;\n",
       "    }\n",
       "\n",
       "    .dataframe thead th {\n",
       "        text-align: right;\n",
       "    }\n",
       "</style>\n",
       "<table border=\"1\" class=\"dataframe\">\n",
       "  <thead>\n",
       "    <tr style=\"text-align: right;\">\n",
       "      <th></th>\n",
       "      <th>num_to_run</th>\n",
       "      <th>n_duplicates</th>\n",
       "      <th>energy_error_per_atom-mean</th>\n",
       "      <th>energy_error_per_atom-sem</th>\n",
       "      <th>force_rmsd-mean</th>\n",
       "      <th>force_rmsd-sem</th>\n",
       "      <th>energy_error_per_atom-init-mean</th>\n",
       "      <th>energy_error_per_atom-init-sem</th>\n",
       "      <th>force_rmsd-init-mean</th>\n",
       "      <th>force_rmsd-init-sem</th>\n",
       "    </tr>\n",
       "  </thead>\n",
       "  <tbody>\n",
       "    <tr>\n",
       "      <th>2</th>\n",
       "      <td>1000</td>\n",
       "      <td>1</td>\n",
       "      <td>0.523048</td>\n",
       "      <td>0.023600</td>\n",
       "      <td>0.166045</td>\n",
       "      <td>0.002685</td>\n",
       "      <td>0.611805</td>\n",
       "      <td>0.025899</td>\n",
       "      <td>0.295862</td>\n",
       "      <td>0.007720</td>\n",
       "    </tr>\n",
       "    <tr>\n",
       "      <th>0</th>\n",
       "      <td>3000</td>\n",
       "      <td>2</td>\n",
       "      <td>0.496435</td>\n",
       "      <td>0.015670</td>\n",
       "      <td>0.150502</td>\n",
       "      <td>0.001935</td>\n",
       "      <td>0.611805</td>\n",
       "      <td>0.018236</td>\n",
       "      <td>0.295862</td>\n",
       "      <td>0.005436</td>\n",
       "    </tr>\n",
       "    <tr>\n",
       "      <th>3</th>\n",
       "      <td>5000</td>\n",
       "      <td>1</td>\n",
       "      <td>0.470070</td>\n",
       "      <td>0.024670</td>\n",
       "      <td>0.132117</td>\n",
       "      <td>0.002983</td>\n",
       "      <td>0.611805</td>\n",
       "      <td>0.025899</td>\n",
       "      <td>0.295862</td>\n",
       "      <td>0.007720</td>\n",
       "    </tr>\n",
       "    <tr>\n",
       "      <th>1</th>\n",
       "      <td>10000</td>\n",
       "      <td>1</td>\n",
       "      <td>0.441221</td>\n",
       "      <td>0.022179</td>\n",
       "      <td>0.123344</td>\n",
       "      <td>0.003115</td>\n",
       "      <td>0.611805</td>\n",
       "      <td>0.025899</td>\n",
       "      <td>0.295862</td>\n",
       "      <td>0.007720</td>\n",
       "    </tr>\n",
       "    <tr>\n",
       "      <th>5</th>\n",
       "      <td>15000</td>\n",
       "      <td>1</td>\n",
       "      <td>0.467054</td>\n",
       "      <td>0.025364</td>\n",
       "      <td>0.114611</td>\n",
       "      <td>0.002749</td>\n",
       "      <td>0.611805</td>\n",
       "      <td>0.025899</td>\n",
       "      <td>0.295862</td>\n",
       "      <td>0.007720</td>\n",
       "    </tr>\n",
       "    <tr>\n",
       "      <th>4</th>\n",
       "      <td>20000</td>\n",
       "      <td>1</td>\n",
       "      <td>0.585115</td>\n",
       "      <td>0.028886</td>\n",
       "      <td>0.120199</td>\n",
       "      <td>0.003179</td>\n",
       "      <td>0.611805</td>\n",
       "      <td>0.025899</td>\n",
       "      <td>0.295862</td>\n",
       "      <td>0.007720</td>\n",
       "    </tr>\n",
       "  </tbody>\n",
       "</table>\n",
       "</div>"
      ],
      "text/plain": [
       "   num_to_run  n_duplicates  energy_error_per_atom-mean  \\\n",
       "2        1000             1                    0.523048   \n",
       "0        3000             2                    0.496435   \n",
       "3        5000             1                    0.470070   \n",
       "1       10000             1                    0.441221   \n",
       "5       15000             1                    0.467054   \n",
       "4       20000             1                    0.585115   \n",
       "\n",
       "   energy_error_per_atom-sem  force_rmsd-mean  force_rmsd-sem  \\\n",
       "2                   0.023600         0.166045        0.002685   \n",
       "0                   0.015670         0.150502        0.001935   \n",
       "3                   0.024670         0.132117        0.002983   \n",
       "1                   0.022179         0.123344        0.003115   \n",
       "5                   0.025364         0.114611        0.002749   \n",
       "4                   0.028886         0.120199        0.003179   \n",
       "\n",
       "   energy_error_per_atom-init-mean  energy_error_per_atom-init-sem  \\\n",
       "2                         0.611805                        0.025899   \n",
       "0                         0.611805                        0.018236   \n",
       "3                         0.611805                        0.025899   \n",
       "1                         0.611805                        0.025899   \n",
       "5                         0.611805                        0.025899   \n",
       "4                         0.611805                        0.025899   \n",
       "\n",
       "   force_rmsd-init-mean  force_rmsd-init-sem  \n",
       "2              0.295862             0.007720  \n",
       "0              0.295862             0.005436  \n",
       "3              0.295862             0.007720  \n",
       "1              0.295862             0.007720  \n",
       "5              0.295862             0.007720  \n",
       "4              0.295862             0.007720  "
      ]
     },
     "execution_count": 5,
     "metadata": {},
     "output_type": "execute_result"
    }
   ],
   "source": [
    "data"
   ]
  },
  {
   "cell_type": "markdown",
   "id": "2dbf9db5-505b-4eba-96ae-3d7cd11c7302",
   "metadata": {},
   "source": [
    "Make a figure"
   ]
  },
  {
   "cell_type": "code",
   "execution_count": 6,
   "id": "adc9061d-7086-45e4-b3f1-da838039aa90",
   "metadata": {
    "execution": {
     "iopub.execute_input": "2023-03-22T11:51:15.210717Z",
     "iopub.status.busy": "2023-03-22T11:51:15.210616Z",
     "iopub.status.idle": "2023-03-22T11:51:15.323990Z",
     "shell.execute_reply": "2023-03-22T11:51:15.323521Z"
    }
   },
   "outputs": [
    {
     "data": {
      "text/plain": [
       "Text(0.5, 0, 'Run Length')"
      ]
     },
     "execution_count": 6,
     "metadata": {},
     "output_type": "execute_result"
    },
    {
     "data": {
      "image/png": "[encoded data removed]",
      "text/plain": [
       "<Figure size 350x275 with 2 Axes>"
      ]
     },
     "metadata": {},
     "output_type": "display_data"
    }
   ],
   "source": [
    "fig, axs = plt.subplots(2, 1, sharex=True, figsize=(3.5, 2.75))\n",
    "\n",
    "#axs[0].set_xlim([0, 21])\n",
    "for ax, t in zip(axs, ['energy_error_per_atom', 'force_rmsd']):\n",
    "    # Plot the initial model\n",
    "    ax.errorbar(data['num_to_run'], data[f'{t}-mean'], fmt='--o', yerr=data[f'{t}-sem'])\n",
    "    \n",
    "    # Plot the initial model\n",
    "    row = data.iloc[0]\n",
    "    ax.fill_between(ax.get_xlim(),\n",
    "                    y1=row[f'{t}-init-mean'] + row[f'{t}-init-sem'],\n",
    "                    y2=row[f'{t}-init-mean'] - row[f'{t}-init-sem'],\n",
    "                   color='gray', alpha=0.5)\n",
    "    ax.text(3000, row[f'{t}-init-mean'] - row[f'{t}-init-sem'], 'Starting\\nModel',\n",
    "           ha='right', va='top', fontsize=8)\n",
    "    \n",
    "axs[0].set_ylabel('Energy MAE\\n(meV/atom)')\n",
    "axs[1].set_ylabel('Force RMSD\\n(eV/Ang)')\n",
    "axs[-1].set_xlabel('Run Length')"
   ]
  },
  {
   "cell_type": "markdown",
   "id": "ce62a4f4-7b8d-4978-be79-2095b8a261fb",
   "metadata": {},
   "source": [
    "We tend to get better with more data, although the effects tend to diminish"
   ]
  },
  {
   "cell_type": "markdown",
   "id": "45e17e45-7837-43da-95fa-dd8305e25dff",
   "metadata": {},
   "source": [
    "## Evaluate suitability for basin hopping\n",
    "We ran MCTBP with each potential for 100 steps then evaluated the energy of the minima it proposed using TTM. \n",
    "We measure the performance of the model based on a few different metrics:\n",
    "- Energy and Force error between ML and TTM for the proposed minima to measure the quality of the potential for these structures.\n",
    "- Maximum force for the proposed structure, as computed with TTM. A measure of how close to the relaxed geometry we are\n",
    "- Ranking performance: Whether the minima ordered by energy via ML is close to the ranking via TTM. "
   ]
  },
  {
   "cell_type": "code",
   "execution_count": 7,
   "id": "45b88405-31af-445c-b218-f7e7b8c091d3",
   "metadata": {
    "execution": {
     "iopub.execute_input": "2023-03-22T11:51:15.325451Z",
     "iopub.status.busy": "2023-03-22T11:51:15.325340Z",
     "iopub.status.idle": "2023-03-22T11:51:17.728451Z",
     "shell.execute_reply": "2023-03-22T11:51:17.727974Z"
    }
   },
   "outputs": [],
   "source": [
    "data = utils.assess_from_mctbp_runs(runs, ['num_to_run']).sort_values('num_to_run')"
   ]
  },
  {
   "cell_type": "markdown",
   "id": "9dcd33fe-f3eb-4860-b038-e50565386a03",
   "metadata": {},
   "source": [
    "Summarize all runs"
   ]
  },
  {
   "cell_type": "code",
   "execution_count": 8,
   "id": "2886dc1e-4601-429d-99a3-f28a9fd9b129",
   "metadata": {
    "execution": {
     "iopub.execute_input": "2023-03-22T11:51:17.730376Z",
     "iopub.status.busy": "2023-03-22T11:51:17.730262Z",
     "iopub.status.idle": "2023-03-22T11:51:17.736375Z",
     "shell.execute_reply": "2023-03-22T11:51:17.736061Z"
    }
   },
   "outputs": [
    {
     "data": {
      "text/html": [
       "<div>\n",
       "<style scoped>\n",
       "    .dataframe tbody tr th:only-of-type {\n",
       "        vertical-align: middle;\n",
       "    }\n",
       "\n",
       "    .dataframe tbody tr th {\n",
       "        vertical-align: top;\n",
       "    }\n",
       "\n",
       "    .dataframe thead th {\n",
       "        text-align: right;\n",
       "    }\n",
       "</style>\n",
       "<table border=\"1\" class=\"dataframe\">\n",
       "  <thead>\n",
       "    <tr style=\"text-align: right;\">\n",
       "      <th></th>\n",
       "      <th>num_to_run</th>\n",
       "      <th>n_duplicates</th>\n",
       "      <th>number_sampled</th>\n",
       "      <th>energy_error-mean</th>\n",
       "      <th>energy_error-sem</th>\n",
       "      <th>force_error-mean</th>\n",
       "      <th>force_error-sem</th>\n",
       "      <th>max_force-mean</th>\n",
       "      <th>max_force-sem</th>\n",
       "      <th>tau-mean</th>\n",
       "      <th>tau-sem</th>\n",
       "    </tr>\n",
       "  </thead>\n",
       "  <tbody>\n",
       "    <tr>\n",
       "      <th>2</th>\n",
       "      <td>1000</td>\n",
       "      <td>1</td>\n",
       "      <td>1295</td>\n",
       "      <td>25.929193</td>\n",
       "      <td>0.813791</td>\n",
       "      <td>4.147820</td>\n",
       "      <td>0.097468</td>\n",
       "      <td>2.104237</td>\n",
       "      <td>0.055413</td>\n",
       "      <td>0.351084</td>\n",
       "      <td>0.068219</td>\n",
       "    </tr>\n",
       "    <tr>\n",
       "      <th>0</th>\n",
       "      <td>3000</td>\n",
       "      <td>2</td>\n",
       "      <td>2556</td>\n",
       "      <td>36.075195</td>\n",
       "      <td>1.054133</td>\n",
       "      <td>5.182968</td>\n",
       "      <td>0.098045</td>\n",
       "      <td>2.749347</td>\n",
       "      <td>0.057874</td>\n",
       "      <td>0.360685</td>\n",
       "      <td>0.063243</td>\n",
       "    </tr>\n",
       "    <tr>\n",
       "      <th>3</th>\n",
       "      <td>5000</td>\n",
       "      <td>1</td>\n",
       "      <td>1257</td>\n",
       "      <td>33.332980</td>\n",
       "      <td>1.443541</td>\n",
       "      <td>4.578926</td>\n",
       "      <td>0.142661</td>\n",
       "      <td>2.204410</td>\n",
       "      <td>0.072705</td>\n",
       "      <td>0.352212</td>\n",
       "      <td>0.113486</td>\n",
       "    </tr>\n",
       "    <tr>\n",
       "      <th>1</th>\n",
       "      <td>10000</td>\n",
       "      <td>1</td>\n",
       "      <td>1236</td>\n",
       "      <td>27.536399</td>\n",
       "      <td>1.439862</td>\n",
       "      <td>3.753878</td>\n",
       "      <td>0.129097</td>\n",
       "      <td>1.782376</td>\n",
       "      <td>0.066595</td>\n",
       "      <td>0.413986</td>\n",
       "      <td>0.103197</td>\n",
       "    </tr>\n",
       "    <tr>\n",
       "      <th>5</th>\n",
       "      <td>15000</td>\n",
       "      <td>1</td>\n",
       "      <td>1461</td>\n",
       "      <td>16.567386</td>\n",
       "      <td>0.614960</td>\n",
       "      <td>2.831474</td>\n",
       "      <td>0.073447</td>\n",
       "      <td>1.422017</td>\n",
       "      <td>0.043392</td>\n",
       "      <td>0.589930</td>\n",
       "      <td>0.053993</td>\n",
       "    </tr>\n",
       "    <tr>\n",
       "      <th>4</th>\n",
       "      <td>20000</td>\n",
       "      <td>1</td>\n",
       "      <td>1366</td>\n",
       "      <td>3.488304</td>\n",
       "      <td>0.110239</td>\n",
       "      <td>1.307309</td>\n",
       "      <td>0.023601</td>\n",
       "      <td>0.492921</td>\n",
       "      <td>0.013382</td>\n",
       "      <td>0.780967</td>\n",
       "      <td>0.038109</td>\n",
       "    </tr>\n",
       "  </tbody>\n",
       "</table>\n",
       "</div>"
      ],
      "text/plain": [
       "   num_to_run  n_duplicates  number_sampled  energy_error-mean  \\\n",
       "2        1000             1            1295          25.929193   \n",
       "0        3000             2            2556          36.075195   \n",
       "3        5000             1            1257          33.332980   \n",
       "1       10000             1            1236          27.536399   \n",
       "5       15000             1            1461          16.567386   \n",
       "4       20000             1            1366           3.488304   \n",
       "\n",
       "   energy_error-sem  force_error-mean  force_error-sem  max_force-mean  \\\n",
       "2          0.813791          4.147820         0.097468        2.104237   \n",
       "0          1.054133          5.182968         0.098045        2.749347   \n",
       "3          1.443541          4.578926         0.142661        2.204410   \n",
       "1          1.439862          3.753878         0.129097        1.782376   \n",
       "5          0.614960          2.831474         0.073447        1.422017   \n",
       "4          0.110239          1.307309         0.023601        0.492921   \n",
       "\n",
       "   max_force-sem  tau-mean   tau-sem  \n",
       "2       0.055413  0.351084  0.068219  \n",
       "0       0.057874  0.360685  0.063243  \n",
       "3       0.072705  0.352212  0.113486  \n",
       "1       0.066595  0.413986  0.103197  \n",
       "5       0.043392  0.589930  0.053993  \n",
       "4       0.013382  0.780967  0.038109  "
      ]
     },
     "execution_count": 8,
     "metadata": {},
     "output_type": "execute_result"
    }
   ],
   "source": [
    "data"
   ]
  },
  {
   "cell_type": "markdown",
   "id": "f4bf6eff-1583-446f-9a15-c325d5797f4b",
   "metadata": {},
   "source": [
    "Plot the errors"
   ]
  },
  {
   "cell_type": "code",
   "execution_count": 9,
   "id": "db3a9bf5-9fc8-4091-ba01-0ab19da92743",
   "metadata": {
    "execution": {
     "iopub.execute_input": "2023-03-22T11:51:17.737658Z",
     "iopub.status.busy": "2023-03-22T11:51:17.737556Z",
     "iopub.status.idle": "2023-03-22T11:51:17.959186Z",
     "shell.execute_reply": "2023-03-22T11:51:17.958694Z"
    }
   },
   "outputs": [
    {
     "data": {
      "image/png": "[encoded data removed]",
      "text/plain": [
       "<Figure size 350x425 with 4 Axes>"
      ]
     },
     "metadata": {},
     "output_type": "display_data"
    }
   ],
   "source": [
    "fig, axs = plt.subplots(4, 1, sharex=True, figsize=(3.5, 4.25))\n",
    "\n",
    "for ax, t in zip(axs, ['energy_error', 'force_error', 'max_force', 'tau']):\n",
    "    ax.errorbar(data['num_to_run'], data[f'{t}-mean'], fmt='--o', yerr=data[f'{t}-sem'])\n",
    "    \n",
    "axs[0].set_ylabel('Energy MAE\\n(meV/atom)')\n",
    "axs[1].set_ylabel('Force RMSD\\n(eV/Ang)')\n",
    "axs[2].set_ylabel('Max Force\\n(eV/Ang)')\n",
    "axs[3].set_ylabel('Ranking\\nPerformance')\n",
    "axs[-1].set_xlabel('Run Length')\n",
    "\n",
    "fig.tight_layout()"
   ]
  },
  {
   "cell_type": "markdown",
   "id": "8ed2aa8c-d2ad-41c8-a4b7-b51e4abc12a4",
   "metadata": {},
   "source": [
    "On the other hand, more data makes the optimization of structures noticeably better!"
   ]
  },
  {
   "cell_type": "code",
   "execution_count": null,
   "id": "ca74c7ea-2a06-4423-972b-86333c1e0c1e",
   "metadata": {},
   "outputs": [],
   "source": []
  }
 ],
 "metadata": {
  "kernelspec": {
   "display_name": "Python 3 (ipykernel)",
   "language": "python",
   "name": "python3"
  },
  "language_info": {
   "codemirror_mode": {
    "name": "ipython",
    "version": 3
   },
   "file_extension": ".py",
   "mimetype": "text/x-python",
   "name": "python",
   "nbconvert_exporter": "python",
   "pygments_lexer": "ipython3",
   "version": "3.10.8"
  }
 },
 "nbformat": 4,
 "nbformat_minor": 5
}
