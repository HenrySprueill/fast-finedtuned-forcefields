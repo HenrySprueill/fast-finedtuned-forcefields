{
 "cells": [
  {
   "cell_type": "markdown",
   "id": "babd0081-6295-4618-9f5d-634cb0aeee6a",
   "metadata": {},
   "source": [
    "# Get Atomref Energies for Psi4\n",
    "SchNet normalizes the output energies using the energies of isolated atoms, which it terms \"atomrefs\". This notebook computes those for Psi4 and then updates the network accordingly"
   ]
  },
  {
   "cell_type": "code",
   "execution_count": 1,
   "id": "393e7512-adb0-4677-80a5-8b56cca5ce63",
   "metadata": {},
   "outputs": [
    {
     "name": "stderr",
     "output_type": "stream",
     "text": [
      "/home/lward/miniconda3/envs/fastforce/lib/python3.10/site-packages/tqdm/auto.py:22: TqdmWarning: IProgress not found. Please update jupyter and ipywidgets. See https://ipywidgets.readthedocs.io/en/stable/user_install.html\n",
      "  from .autonotebook import tqdm as notebook_tqdm\n"
     ]
    }
   ],
   "source": [
    "from schnetpack.interfaces.ase_interface import SpkCalculator\n",
    "from ase.calculators.psi4 import Psi4\n",
    "from ase.db import connect\n",
    "from ase import Atoms, units, build\n",
    "import numpy as np\n",
    "import torch"
   ]
  },
  {
   "cell_type": "markdown",
   "id": "dafb66cd-f9e6-44d5-96b4-a5ecb3c36df7",
   "metadata": {},
   "source": [
    "## Get the isolated atom energies\n",
    "Used to normalize the energies of SchNetPack models"
   ]
  },
  {
   "cell_type": "code",
   "execution_count": 2,
   "id": "5f5fcbf1-38f9-473f-a348-f3983a706d53",
   "metadata": {},
   "outputs": [
    {
     "name": "stdout",
     "output_type": "stream",
     "text": [
      "  Threads set to 1 by Python driver.\n",
      "  Threads set to 1 by Python driver.\n"
     ]
    },
    {
     "name": "stderr",
     "output_type": "stream",
     "text": [
      "/home/lward/miniconda3/envs/fastforce/lib/python3.10/site-packages/psi4/driver/procrouting/empirical_dispersion.py:212: FutureWarning: Using the `local_options` keyword argument is deprecated in favor of using `task_config`, in version 0.30.0 it will stop working.\n",
      "  jobrec = qcng.compute(\n",
      "/home/lward/miniconda3/envs/fastforce/lib/python3.10/site-packages/psi4/driver/procrouting/empirical_dispersion.py:212: FutureWarning: Using the `local_options` keyword argument is deprecated in favor of using `task_config`, in version 0.30.0 it will stop working.\n",
      "  jobrec = qcng.compute(\n"
     ]
    },
    {
     "data": {
      "text/plain": [
       "{'H': -13.61313070407502, 'O': -2042.4411812386718}"
      ]
     },
     "execution_count": 2,
     "metadata": {},
     "output_type": "execute_result"
    }
   ],
   "source": [
    "atomref = {}\n",
    "for elem, multi in {'H': 2, 'O': 3}.items():\n",
    "    calc = Psi4(method='b3lyp-d3', basis='6-31g', multiplicity=multi, reference='uhf')\n",
    "    atoms = Atoms(symbols=elem, positions=[[0,0,0]])\n",
    "    eng = calc.get_potential_energy(atoms)\n",
    "    atomref[elem] = eng\n",
    "atomref"
   ]
  },
  {
   "cell_type": "markdown",
   "id": "9f87453b-fe3b-4f6c-bcc4-cb1e2872ffe6",
   "metadata": {},
   "source": [
    "## Update these values in the network\n",
    "The atomrefs are stored as an \"Embedding\" layer"
   ]
  },
  {
   "cell_type": "code",
   "execution_count": 3,
   "id": "ab790a20-48bf-4507-8882-0587e23246f3",
   "metadata": {},
   "outputs": [],
   "source": [
    "model = torch.load('../train-schnetpack/runs/full-N128-n16-512eee/best_model', map_location='cpu')"
   ]
  },
  {
   "cell_type": "markdown",
   "id": "5c946439-1339-4130-8160-5bc498cb68b4",
   "metadata": {},
   "source": [
    "Make a calculator to show how poorly it works"
   ]
  },
  {
   "cell_type": "code",
   "execution_count": 4,
   "id": "e64dd77c-e954-4364-bf2e-7947146375e0",
   "metadata": {},
   "outputs": [],
   "source": [
    "water = build.molecule('H2O')"
   ]
  },
  {
   "cell_type": "code",
   "execution_count": 5,
   "id": "c48a5b10-88a4-403f-b74d-587071d7eb12",
   "metadata": {},
   "outputs": [
    {
     "name": "stderr",
     "output_type": "stream",
     "text": [
      "/home/lward/miniconda3/envs/fastforce/lib/python3.10/site-packages/psi4/driver/procrouting/empirical_dispersion.py:212: FutureWarning: Using the `local_options` keyword argument is deprecated in favor of using `task_config`, in version 0.30.0 it will stop working.\n",
      "  jobrec = qcng.compute(\n"
     ]
    }
   ],
   "source": [
    "psi4_eng = Psi4(method='b3lyp-d3', basis='6-31g').get_potential_energy(water)"
   ]
  },
  {
   "cell_type": "code",
   "execution_count": 6,
   "id": "cbfa47c1-6003-4606-944c-0b023412bc34",
   "metadata": {},
   "outputs": [],
   "source": [
    "spk_calc = SpkCalculator(model, energy='energy', forces='forces')\n",
    "spk_eng = spk_calc.get_potential_energy(atoms)"
   ]
  },
  {
   "cell_type": "code",
   "execution_count": 7,
   "id": "e2b41a7d-b2c6-41c6-a87a-0e7b5e3eb530",
   "metadata": {},
   "outputs": [
    {
     "name": "stdout",
     "output_type": "stream",
     "text": [
      "Energy of water - Psi4: -2078.55 eV, SchNet -0.12 eV\n"
     ]
    }
   ],
   "source": [
    "print(f'Energy of water - Psi4: {psi4_eng:.2f} eV, SchNet {spk_eng:.2f} eV')"
   ]
  },
  {
   "cell_type": "markdown",
   "id": "89ccda9d-7394-47e5-912c-453a2c6b0a17",
   "metadata": {},
   "source": [
    "Huge difference. Let's adjust SchNet so that it adds in isolated energies for O and H to the energy\n",
    "\n",
    "We do that by a vector of reference energies where the key is the atomic number, then adding it to the network"
   ]
  },
  {
   "cell_type": "code",
   "execution_count": 8,
   "id": "0e9557d0-e4df-43ce-9e58-52c41143dd8e",
   "metadata": {},
   "outputs": [],
   "source": [
    "atomrefs = np.zeros((32,), dtype=np.float32)\n",
    "atomrefs[1] = atomref['H']\n",
    "atomrefs[8] = atomref['O']"
   ]
  },
  {
   "cell_type": "code",
   "execution_count": 9,
   "id": "edcfa80c-dc13-43a6-acdc-ebb61b2081b9",
   "metadata": {},
   "outputs": [],
   "source": [
    "before_atomrefs = model.output_modules[0].atomref\n",
    "model.output_modules[0].atomref = torch.nn.Embedding.from_pretrained(torch.from_numpy(atomrefs[:, None]))"
   ]
  },
  {
   "cell_type": "code",
   "execution_count": 10,
   "id": "bc203d18-69d1-4c7d-ac58-38e5eea1d337",
   "metadata": {},
   "outputs": [],
   "source": [
    "spk_calc = SpkCalculator(model, energy='energy', forces='forces')\n",
    "spk_eng_new = spk_calc.get_potential_energy(atoms)"
   ]
  },
  {
   "cell_type": "code",
   "execution_count": 11,
   "id": "7a382f6f-002f-4896-ad85-8d2c34f5cd7a",
   "metadata": {},
   "outputs": [
    {
     "name": "stdout",
     "output_type": "stream",
     "text": [
      "Energy of water - Psi4: -2078.55 eV, SchNet -2042.56 eV\n"
     ]
    }
   ],
   "source": [
    "print(f'Energy of water - Psi4: {psi4_eng:.2f} eV, SchNet {spk_eng_new:.2f} eV')"
   ]
  },
  {
   "cell_type": "markdown",
   "id": "bbf701a5-902e-4380-8f41-cf2625c10c6f",
   "metadata": {},
   "source": [
    "They are now much closer. There are differences, presumably due to bond length issues, but we are at least in the right ballpark"
   ]
  },
  {
   "cell_type": "markdown",
   "id": "9312fe08-c031-4713-b306-05c2f22fbf25",
   "metadata": {},
   "source": [
    "## Update the mean and standard deviation\n",
    "These are other features that will adjust for TTM and DFT having different energies per water (0 for TTM, ~-9 eV for others)"
   ]
  },
  {
   "cell_type": "code",
   "execution_count": 12,
   "id": "508a6009-2bc1-42b8-8f8e-be3f45a729a0",
   "metadata": {},
   "outputs": [],
   "source": [
    "dft_energy_per_atom = []\n",
    "with connect('../initial-database/initial-psi4-631g.db') as db:\n",
    "    dft_energy_pa = [(a.energy - sum(map(atomref.get, a.symbols))) / a.natoms  for a in db.select('')]"
   ]
  },
  {
   "cell_type": "markdown",
   "id": "6505fb16-3e2f-4d15-ac5a-1a09c8e1ceec",
   "metadata": {},
   "source": [
    "The mean and standard deviation are in the standardization layer"
   ]
  },
  {
   "cell_type": "code",
   "execution_count": 13,
   "id": "4895c44b-82b7-49db-839c-8bcaa80cdad1",
   "metadata": {},
   "outputs": [
    {
     "name": "stdout",
     "output_type": "stream",
     "text": [
      "Values with TTM - Mean -0.13, St. Dev. 0.005\n"
     ]
    }
   ],
   "source": [
    "std_layer = before_atomrefs = model.output_modules[0].standardize\n",
    "print(f'Values with TTM - Mean {std_layer.mean[0]:.2f}, St. Dev. {std_layer.stddev[0]:.3f}')"
   ]
  },
  {
   "cell_type": "code",
   "execution_count": 14,
   "id": "7256f831-ac77-41fe-9b21-54a1b2369f89",
   "metadata": {},
   "outputs": [
    {
     "name": "stdout",
     "output_type": "stream",
     "text": [
      "Values with DFT - Mean -3.16, St. Dev. 0.084\n"
     ]
    }
   ],
   "source": [
    "std_layer.mean = torch.from_numpy(np.mean(dft_energy_pa)[None])\n",
    "std_layer.stddev = torch.from_numpy(np.std(dft_energy_pa)[None])\n",
    "print(f'Values with DFT - Mean {std_layer.mean[0]:.2f}, St. Dev. {std_layer.stddev[0]:.3f}')"
   ]
  },
  {
   "cell_type": "markdown",
   "id": "c5d6266d-13d8-4266-aaa8-a3f6600f958d",
   "metadata": {},
   "source": [
    "We will now have a ~3 eV offset per atom, which accounts for the difference in bonding"
   ]
  },
  {
   "cell_type": "code",
   "execution_count": 15,
   "id": "d6d95564-5432-4d7e-ab07-2583d48c26f7",
   "metadata": {},
   "outputs": [],
   "source": [
    "spk_calc = SpkCalculator(model, energy='energy', forces='forces')\n",
    "spk_eng_new = spk_calc.get_potential_energy(atoms)"
   ]
  },
  {
   "cell_type": "code",
   "execution_count": 16,
   "id": "76ab87e9-4666-447a-b16c-806e4890b312",
   "metadata": {},
   "outputs": [
    {
     "name": "stdout",
     "output_type": "stream",
     "text": [
      "Energy of water - Psi4: -2078.55 eV, SchNet -2045.49 eV\n"
     ]
    }
   ],
   "source": [
    "print(f'Energy of water - Psi4: {psi4_eng:.2f} eV, SchNet {spk_eng_new:.2f} eV')"
   ]
  },
  {
   "cell_type": "markdown",
   "id": "a1398253-01b4-4a39-9f8f-8f58f4cc7627",
   "metadata": {},
   "source": [
    "## Save Updated Model\n",
    "For us to use later"
   ]
  },
  {
   "cell_type": "code",
   "execution_count": 17,
   "id": "c0bdaef1-6198-4aba-8f25-beee8f0b6fc2",
   "metadata": {},
   "outputs": [],
   "source": [
    "torch.save(model, 'starting-psi4-model')"
   ]
  },
  {
   "cell_type": "code",
   "execution_count": null,
   "id": "e18f36a6-1936-43fd-903b-585dbefbe6d7",
   "metadata": {},
   "outputs": [],
   "source": []
  }
 ],
 "metadata": {
  "kernelspec": {
   "display_name": "Python 3 (ipykernel)",
   "language": "python",
   "name": "python3"
  },
  "language_info": {
   "codemirror_mode": {
    "name": "ipython",
    "version": 3
   },
   "file_extension": ".py",
   "mimetype": "text/x-python",
   "name": "python",
   "nbconvert_exporter": "python",
   "pygments_lexer": "ipython3",
   "version": "3.10.4"
  }
 },
 "nbformat": 4,
 "nbformat_minor": 5
}
