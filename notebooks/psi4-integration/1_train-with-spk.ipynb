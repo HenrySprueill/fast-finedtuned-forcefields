{
 "cells": [
  {
   "cell_type": "markdown",
   "id": "105abe79-c0ec-4675-a8a8-fb9e0f492b65",
   "metadata": {},
   "source": [
    "# Learning to Train with the New SPK\n",
    "A few APIs have changed for the better"
   ]
  },
  {
   "cell_type": "code",
   "execution_count": 1,
   "id": "b4815a31-cd14-4414-aa44-1f2366b10c6b",
   "metadata": {
    "execution": {
     "iopub.execute_input": "2022-09-22T11:30:48.391428Z",
     "iopub.status.busy": "2022-09-22T11:30:48.391227Z",
     "iopub.status.idle": "2022-09-22T11:30:50.288784Z",
     "shell.execute_reply": "2022-09-22T11:30:50.288258Z"
    }
   },
   "outputs": [
    {
     "name": "stderr",
     "output_type": "stream",
     "text": [
      "/lambda_stor/homes/lward/fast-finedtuned-forcefields/env/lib/python3.10/site-packages/tqdm/auto.py:22: TqdmWarning: IProgress not found. Please update jupyter and ipywidgets. See https://ipywidgets.readthedocs.io/en/stable/user_install.html\n",
      "  from .autonotebook import tqdm as notebook_tqdm\n"
     ]
    }
   ],
   "source": [
    "%matplotlib inline \n",
    "from matplotlib import pyplot as plt\n",
    "from fff.learning.spk import ase_to_spkdata\n",
    "from schnetpack import train as trn\n",
    "import schnetpack as spk\n",
    "from pathlib import Path\n",
    "from random import shuffle\n",
    "from tqdm import tqdm\n",
    "from ase.db import connect\n",
    "import pandas as pd\n",
    "import shutil\n",
    "import torch"
   ]
  },
  {
   "cell_type": "markdown",
   "id": "872ae1f5-d98a-40a2-a1d5-c7690684e15f",
   "metadata": {},
   "source": [
    "## Create the Data Loader\n",
    "We'll connect to the dataset I made via an external script and use the \"same data\" "
   ]
  },
  {
   "cell_type": "markdown",
   "id": "de21a2c0-cf0d-4d9f-8508-950b54b7b4b0",
   "metadata": {},
   "source": [
    "Load in the initial training set and convert it to spk training data"
   ]
  },
  {
   "cell_type": "code",
   "execution_count": 2,
   "id": "d7a491f1-3d50-46c7-a64a-82d8ae3965e7",
   "metadata": {
    "execution": {
     "iopub.execute_input": "2022-09-22T11:30:50.291688Z",
     "iopub.status.busy": "2022-09-22T11:30:50.291475Z",
     "iopub.status.idle": "2022-09-22T11:30:51.537887Z",
     "shell.execute_reply": "2022-09-22T11:30:51.537416Z"
    }
   },
   "outputs": [],
   "source": [
    "with connect('../initial-database/initial-psi4-631g.db') as db:\n",
    "    all_strcs = [a.toatoms() for a in db.select('')]\n",
    "shuffle(all_strcs)"
   ]
  },
  {
   "cell_type": "markdown",
   "id": "e2be31e0-85a1-40dd-a7bf-eab713e627f1",
   "metadata": {},
   "source": [
    "Save the first 10% as validation"
   ]
  },
  {
   "cell_type": "code",
   "execution_count": 3,
   "id": "bf837358-0aab-40e8-9bfa-21ae5094358e",
   "metadata": {
    "execution": {
     "iopub.execute_input": "2022-09-22T11:30:51.540685Z",
     "iopub.status.busy": "2022-09-22T11:30:51.540473Z",
     "iopub.status.idle": "2022-09-22T11:30:51.546199Z",
     "shell.execute_reply": "2022-09-22T11:30:51.545785Z"
    }
   },
   "outputs": [],
   "source": [
    "data_dir = Path('data')\n",
    "if data_dir.exists():\n",
    "    shutil.rmtree(data_dir)\n",
    "data_dir.mkdir()"
   ]
  },
  {
   "cell_type": "code",
   "execution_count": 4,
   "id": "8b07d2ac-b55d-463f-ad8f-790b474e6c82",
   "metadata": {
    "execution": {
     "iopub.execute_input": "2022-09-22T11:30:51.548510Z",
     "iopub.status.busy": "2022-09-22T11:30:51.548343Z",
     "iopub.status.idle": "2022-09-22T11:30:51.550914Z",
     "shell.execute_reply": "2022-09-22T11:30:51.550522Z"
    }
   },
   "outputs": [],
   "source": [
    "cut = len(all_strcs) // 10"
   ]
  },
  {
   "cell_type": "code",
   "execution_count": 5,
   "id": "0f598606-d111-4e85-b3dc-70f0671d3419",
   "metadata": {
    "execution": {
     "iopub.execute_input": "2022-09-22T11:30:51.552880Z",
     "iopub.status.busy": "2022-09-22T11:30:51.552723Z",
     "iopub.status.idle": "2022-09-22T11:30:52.019556Z",
     "shell.execute_reply": "2022-09-22T11:30:52.019098Z"
    }
   },
   "outputs": [],
   "source": [
    "val_data = ase_to_spkdata(all_strcs[:cut], 'data/valid.db')"
   ]
  },
  {
   "cell_type": "code",
   "execution_count": 6,
   "id": "b58d2969-2cad-47fc-a854-6d2bf8a6a95f",
   "metadata": {
    "execution": {
     "iopub.execute_input": "2022-09-22T11:30:52.022286Z",
     "iopub.status.busy": "2022-09-22T11:30:52.022081Z",
     "iopub.status.idle": "2022-09-22T11:30:55.905949Z",
     "shell.execute_reply": "2022-09-22T11:30:55.905303Z"
    }
   },
   "outputs": [],
   "source": [
    "data = ase_to_spkdata(all_strcs[cut:], 'data/train.db')"
   ]
  },
  {
   "cell_type": "markdown",
   "id": "575ed427-0cc9-45da-93f5-a24908840186",
   "metadata": {},
   "source": [
    "Make the laoders"
   ]
  },
  {
   "cell_type": "code",
   "execution_count": 7,
   "id": "8de43347-6230-4613-b99f-c38cc04fb2f9",
   "metadata": {
    "execution": {
     "iopub.execute_input": "2022-09-22T11:30:55.909035Z",
     "iopub.status.busy": "2022-09-22T11:30:55.908811Z",
     "iopub.status.idle": "2022-09-22T11:30:55.923192Z",
     "shell.execute_reply": "2022-09-22T11:30:55.922762Z"
    }
   },
   "outputs": [],
   "source": [
    "loader = spk.AtomsLoader(data, batch_size=64, shuffle=True, num_workers=8, drop_last=True, pin_memory=True)"
   ]
  },
  {
   "cell_type": "code",
   "execution_count": 8,
   "id": "b6d7bc71-3234-4901-8e6d-d78b6de573e8",
   "metadata": {
    "execution": {
     "iopub.execute_input": "2022-09-22T11:30:55.925404Z",
     "iopub.status.busy": "2022-09-22T11:30:55.925227Z",
     "iopub.status.idle": "2022-09-22T11:30:55.927900Z",
     "shell.execute_reply": "2022-09-22T11:30:55.927509Z"
    }
   },
   "outputs": [],
   "source": [
    "val_loader = spk.AtomsLoader(val_data, batch_size=64, num_workers=8, pin_memory=True)"
   ]
  },
  {
   "cell_type": "markdown",
   "id": "b1164e99-f0b6-4e1e-a8ea-ca83e1675f23",
   "metadata": {},
   "source": [
    "## Load the Model\n",
    "Get the one we've already converted"
   ]
  },
  {
   "cell_type": "code",
   "execution_count": 9,
   "id": "d5bc3d45-857d-453b-8220-36ac85fbe7d9",
   "metadata": {
    "execution": {
     "iopub.execute_input": "2022-09-22T11:30:55.930028Z",
     "iopub.status.busy": "2022-09-22T11:30:55.929858Z",
     "iopub.status.idle": "2022-09-22T11:30:57.500717Z",
     "shell.execute_reply": "2022-09-22T11:30:57.500182Z"
    }
   },
   "outputs": [],
   "source": [
    "model = torch.load('starting-psi4-model', map_location='cuda')"
   ]
  },
  {
   "cell_type": "markdown",
   "id": "c2208d60-8b9a-4c05-a303-c4e4316226f1",
   "metadata": {},
   "source": [
    "## Train the model\n",
    "Use both the energy and the forces\n",
    "\n",
    "First define the loss function"
   ]
  },
  {
   "cell_type": "code",
   "execution_count": 10,
   "id": "783432a4-c5e8-4fd1-be20-70df0d1ce5c6",
   "metadata": {
    "execution": {
     "iopub.execute_input": "2022-09-22T11:30:57.503514Z",
     "iopub.status.busy": "2022-09-22T11:30:57.503305Z",
     "iopub.status.idle": "2022-09-22T11:30:57.539302Z",
     "shell.execute_reply": "2022-09-22T11:30:57.538826Z"
    }
   },
   "outputs": [],
   "source": [
    "if Path('test').exists():\n",
    "    shutil.rmtree('test')"
   ]
  },
  {
   "cell_type": "code",
   "execution_count": 11,
   "id": "34e46801-c5f7-4f36-9223-85b6dc05a177",
   "metadata": {
    "execution": {
     "iopub.execute_input": "2022-09-22T11:30:57.542062Z",
     "iopub.status.busy": "2022-09-22T11:30:57.541852Z",
     "iopub.status.idle": "2022-09-22T11:30:57.545544Z",
     "shell.execute_reply": "2022-09-22T11:30:57.545121Z"
    }
   },
   "outputs": [],
   "source": [
    "# tradeoff\n",
    "rho_tradeoff = 0.9\n",
    "\n",
    "# loss function\n",
    "def loss(batch, result):\n",
    "    # compute the mean squared error on the energies\n",
    "    diff_energy = batch['energy']-result['energy']\n",
    "    err_sq_energy = torch.mean(diff_energy ** 2)\n",
    "\n",
    "    # compute the mean squared error on the forces\n",
    "    diff_forces = batch['forces']-result['forces']\n",
    "    err_sq_forces = torch.mean(diff_forces ** 2)\n",
    "\n",
    "    # build the combined loss function\n",
    "    err_sq = rho_tradeoff*err_sq_energy + (1-rho_tradeoff)*err_sq_forces\n",
    "\n",
    "    return err_sq"
   ]
  },
  {
   "cell_type": "markdown",
   "id": "af7989eb-13ad-4e60-8676-b2d70d5cb3ec",
   "metadata": {},
   "source": [
    "Now the optimizer"
   ]
  },
  {
   "cell_type": "code",
   "execution_count": 12,
   "id": "ec88afce-6d79-402e-a030-0a730239d423",
   "metadata": {
    "execution": {
     "iopub.execute_input": "2022-09-22T11:30:57.547749Z",
     "iopub.status.busy": "2022-09-22T11:30:57.547565Z",
     "iopub.status.idle": "2022-09-22T11:30:57.552468Z",
     "shell.execute_reply": "2022-09-22T11:30:57.552044Z"
    }
   },
   "outputs": [],
   "source": [
    "optimizer = torch.optim.Adam(model.parameters(), lr=5e-4)"
   ]
  },
  {
   "cell_type": "markdown",
   "id": "6e695431-5f9f-4e10-9fc3-b52be31aab7c",
   "metadata": {},
   "source": [
    "Now the training metrics"
   ]
  },
  {
   "cell_type": "code",
   "execution_count": 13,
   "id": "7a182c95-f968-4278-ae55-88883958a4e5",
   "metadata": {
    "execution": {
     "iopub.execute_input": "2022-09-22T11:30:57.554557Z",
     "iopub.status.busy": "2022-09-22T11:30:57.554393Z",
     "iopub.status.idle": "2022-09-22T11:30:57.557610Z",
     "shell.execute_reply": "2022-09-22T11:30:57.557202Z"
    }
   },
   "outputs": [],
   "source": [
    "# set up metrics\n",
    "metrics = [\n",
    "    spk.metrics.MeanAbsoluteError('energy'),\n",
    "    spk.metrics.MeanAbsoluteError('forces')\n",
    "]\n",
    "\n",
    "# construct hooks\n",
    "hooks = [\n",
    "    trn.CSVHook(log_path='test', metrics=metrics),\n",
    "    trn.ReduceLROnPlateauHook(\n",
    "        optimizer,\n",
    "        patience=8, factor=0.8, min_lr=1e-6,\n",
    "        stop_after_min=True\n",
    "    )\n",
    "]"
   ]
  },
  {
   "cell_type": "markdown",
   "id": "c134a8ec-c1b6-4e42-8928-59e5b35c671c",
   "metadata": {},
   "source": [
    "Run the fitting"
   ]
  },
  {
   "cell_type": "code",
   "execution_count": 14,
   "id": "5d33a55d-c7a6-411f-a643-135d6b9b9a5b",
   "metadata": {
    "execution": {
     "iopub.execute_input": "2022-09-22T11:30:57.559750Z",
     "iopub.status.busy": "2022-09-22T11:30:57.559573Z",
     "iopub.status.idle": "2022-09-22T11:30:57.577542Z",
     "shell.execute_reply": "2022-09-22T11:30:57.577081Z"
    }
   },
   "outputs": [],
   "source": [
    "trainer = trn.Trainer(\n",
    "    model_path='test',\n",
    "    model=model,\n",
    "    hooks=hooks,\n",
    "    loss_fn=loss,\n",
    "    optimizer=optimizer,\n",
    "    train_loader=loader,\n",
    "    validation_loader=loader,\n",
    ")"
   ]
  },
  {
   "cell_type": "code",
   "execution_count": 15,
   "id": "1254df30-3854-4f0b-9c7e-a0a14f681085",
   "metadata": {
    "execution": {
     "iopub.execute_input": "2022-09-22T11:30:57.580203Z",
     "iopub.status.busy": "2022-09-22T11:30:57.579988Z",
     "iopub.status.idle": "2022-09-22T13:30:38.647662Z",
     "shell.execute_reply": "2022-09-22T13:30:38.646825Z"
    }
   },
   "outputs": [],
   "source": [
    "trainer.train(device='cuda', n_epochs=1024)"
   ]
  },
  {
   "cell_type": "markdown",
   "id": "4179902a-2c8e-433a-8e7e-0fb539cb0dec",
   "metadata": {},
   "source": [
    "## Plot the Learning Curve\n",
    "Show how the accuracy improves with training"
   ]
  },
  {
   "cell_type": "code",
   "execution_count": 16,
   "id": "eeeae17d-8cac-4836-943d-17aac4e98a2e",
   "metadata": {
    "execution": {
     "iopub.execute_input": "2022-09-22T13:30:38.652318Z",
     "iopub.status.busy": "2022-09-22T13:30:38.651954Z",
     "iopub.status.idle": "2022-09-22T13:30:38.662489Z",
     "shell.execute_reply": "2022-09-22T13:30:38.662113Z"
    }
   },
   "outputs": [],
   "source": [
    "train_log = pd.read_csv('test/log.csv')"
   ]
  },
  {
   "cell_type": "code",
   "execution_count": 17,
   "id": "dd946eef-e5e6-4dca-bc7c-8967cb64bf1b",
   "metadata": {
    "execution": {
     "iopub.execute_input": "2022-09-22T13:30:38.664911Z",
     "iopub.status.busy": "2022-09-22T13:30:38.664672Z",
     "iopub.status.idle": "2022-09-22T13:30:39.491725Z",
     "shell.execute_reply": "2022-09-22T13:30:39.491299Z"
    }
   },
   "outputs": [
    {
     "data": {
      "image/png": "[encoded data removed]",
      "text/plain": [
       "<Figure size 640x480 with 1 Axes>"
      ]
     },
     "metadata": {},
     "output_type": "display_data"
    }
   ],
   "source": [
    "fig, ax = plt.subplots()\n",
    "\n",
    "ax.plot(train_log['Train loss'], 'k--', label='Train')\n",
    "ax.plot(train_log['Validation loss'], 'r-', label='Validation')\n",
    "\n",
    "ax.set_xlabel('Epoch')\n",
    "ax.set_ylabel('Loss')\n",
    "ax.set_yscale('log')"
   ]
  },
  {
   "cell_type": "code",
   "execution_count": 18,
   "id": "c1a91044-0420-4667-8dd7-c78d2496fadc",
   "metadata": {
    "execution": {
     "iopub.execute_input": "2022-09-22T13:30:39.494722Z",
     "iopub.status.busy": "2022-09-22T13:30:39.494453Z",
     "iopub.status.idle": "2022-09-22T13:30:39.697238Z",
     "shell.execute_reply": "2022-09-22T13:30:39.696785Z"
    }
   },
   "outputs": [
    {
     "data": {
      "image/png": "[encoded data removed]",
      "text/plain": [
       "<Figure size 640x480 with 1 Axes>"
      ]
     },
     "metadata": {},
     "output_type": "display_data"
    }
   ],
   "source": [
    "fig, ax = plt.subplots()\n",
    "\n",
    "ax.plot(train_log['MAE_energy'], 'r-', label='Train')\n",
    "\n",
    "ax.set_xlabel('Epoch')\n",
    "ax.set_ylabel('MAE, Energy (eV)')\n",
    "ax.set_yscale('log')"
   ]
  },
  {
   "cell_type": "code",
   "execution_count": null,
   "id": "be75bc82-c740-4c0e-b5f1-051ad7c69129",
   "metadata": {},
   "outputs": [],
   "source": []
  }
 ],
 "metadata": {
  "kernelspec": {
   "display_name": "Python 3 (ipykernel)",
   "language": "python",
   "name": "python3"
  },
  "language_info": {
   "codemirror_mode": {
    "name": "ipython",
    "version": 3
   },
   "file_extension": ".py",
   "mimetype": "text/x-python",
   "name": "python",
   "nbconvert_exporter": "python",
   "pygments_lexer": "ipython3",
   "version": "3.10.4"
  }
 },
 "nbformat": 4,
 "nbformat_minor": 5
}
