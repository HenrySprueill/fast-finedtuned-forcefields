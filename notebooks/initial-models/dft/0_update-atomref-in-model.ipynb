{
 "cells": [
  {
   "cell_type": "markdown",
   "id": "babd0081-6295-4618-9f5d-634cb0aeee6a",
   "metadata": {},
   "source": [
    "# Reset the Mean Layers\n",
    "Our implementation of SchNet does not use atomrefs, but that is equivalent to normalizing by mean given"
   ]
  },
  {
   "cell_type": "code",
   "execution_count": 1,
   "id": "393e7512-adb0-4677-80a5-8b56cca5ce63",
   "metadata": {},
   "outputs": [
    {
     "name": "stderr",
     "output_type": "stream",
     "text": [
      "/home/lward/miniconda3/envs/fastforce/lib/python3.10/site-packages/tqdm/auto.py:22: TqdmWarning: IProgress not found. Please update jupyter and ipywidgets. See https://ipywidgets.readthedocs.io/en/stable/user_install.html\n",
      "  from .autonotebook import tqdm as notebook_tqdm\n"
     ]
    }
   ],
   "source": [
    "from fff.learning.gc.ase import SchnetCalculator\n",
    "from fff.learning.gc.models import load_pretrained_model\n",
    "from ase.calculators.psi4 import Psi4\n",
    "from ase.db import connect\n",
    "from ase import Atoms, units, build\n",
    "import numpy as np\n",
    "import torch"
   ]
  },
  {
   "cell_type": "markdown",
   "id": "dafb66cd-f9e6-44d5-96b4-a5ecb3c36df7",
   "metadata": {},
   "source": [
    "## Get the isolated atom energies\n",
    "Used to normalize the energies of SchNetPack models"
   ]
  },
  {
   "cell_type": "markdown",
   "id": "9f87453b-fe3b-4f6c-bcc4-cb1e2872ffe6",
   "metadata": {},
   "source": [
    "## Update these values in the network\n",
    "The atomrefs are stored as an \"Embedding\" layer"
   ]
  },
  {
   "cell_type": "code",
   "execution_count": 2,
   "id": "ab790a20-48bf-4507-8882-0587e23246f3",
   "metadata": {},
   "outputs": [],
   "source": [
    "model = load_pretrained_model('initial-models/finetune_ttm_alstep_023.pt')"
   ]
  },
  {
   "cell_type": "markdown",
   "id": "5c946439-1339-4130-8160-5bc498cb68b4",
   "metadata": {},
   "source": [
    "Make a calculator to show how poorly it works"
   ]
  },
  {
   "cell_type": "code",
   "execution_count": 3,
   "id": "e64dd77c-e954-4364-bf2e-7947146375e0",
   "metadata": {},
   "outputs": [],
   "source": [
    "water = build.molecule('H2O')"
   ]
  },
  {
   "cell_type": "code",
   "execution_count": 4,
   "id": "c48a5b10-88a4-403f-b74d-587071d7eb12",
   "metadata": {},
   "outputs": [
    {
     "name": "stdout",
     "output_type": "stream",
     "text": [
      "  Threads set to 1 by Python driver.\n",
      "  Threads set to 1 by Python driver.\n"
     ]
    },
    {
     "name": "stderr",
     "output_type": "stream",
     "text": [
      "/home/lward/miniconda3/envs/fastforce/lib/python3.10/site-packages/psi4/driver/procrouting/empirical_dispersion.py:212: FutureWarning: Using the `local_options` keyword argument is deprecated in favor of using `task_config`, in version 0.30.0 it will stop working.\n",
      "  jobrec = qcng.compute(\n"
     ]
    }
   ],
   "source": [
    "psi4_eng = Psi4(method='pbe0-d3', basis='aug-cc-pvdz').get_potential_energy(water)"
   ]
  },
  {
   "cell_type": "code",
   "execution_count": 5,
   "id": "cbfa47c1-6003-4606-944c-0b023412bc34",
   "metadata": {},
   "outputs": [],
   "source": [
    "spk_calc = SchnetCalculator(model, 'cpu')\n",
    "spk_eng = spk_calc.get_potential_energy(water)"
   ]
  },
  {
   "cell_type": "code",
   "execution_count": 6,
   "id": "e2b41a7d-b2c6-41c6-a87a-0e7b5e3eb530",
   "metadata": {},
   "outputs": [
    {
     "name": "stdout",
     "output_type": "stream",
     "text": [
      "Energy of water - Psi4: -2077.86 eV, SchNet -0.02 eV\n"
     ]
    }
   ],
   "source": [
    "print(f'Energy of water - Psi4: {psi4_eng:.2f} eV, SchNet {spk_eng:.2f} eV')"
   ]
  },
  {
   "cell_type": "markdown",
   "id": "bbf701a5-902e-4380-8f41-cf2625c10c6f",
   "metadata": {},
   "source": [
    "We're really far off"
   ]
  },
  {
   "cell_type": "markdown",
   "id": "9312fe08-c031-4713-b306-05c2f22fbf25",
   "metadata": {},
   "source": [
    "## Update the mean and standard deviation\n",
    "These are other features that will adjust for TTM and DFT having different energies per water (0 for TTM, ~-9 eV for others)"
   ]
  },
  {
   "cell_type": "code",
   "execution_count": 7,
   "id": "508a6009-2bc1-42b8-8f8e-be3f45a729a0",
   "metadata": {},
   "outputs": [],
   "source": [
    "dft_energy_per_atom = []\n",
    "with connect('../initial-database/initial-psi4.db') as db:\n",
    "    dft_energy_pa = [a.energy / a.natoms  for a in db.select(basis='aug-cc-pvdz', method='pbe0-d3')]"
   ]
  },
  {
   "cell_type": "code",
   "execution_count": 8,
   "id": "2756543f-6c5d-4e25-beed-3eecd03df005",
   "metadata": {},
   "outputs": [
    {
     "data": {
      "text/plain": [
       "-0.0064343237318098545"
      ]
     },
     "execution_count": 8,
     "metadata": {},
     "output_type": "execute_result"
    }
   ],
   "source": [
    "model.lin2.bias.item()"
   ]
  },
  {
   "cell_type": "markdown",
   "id": "6505fb16-3e2f-4d15-ac5a-1a09c8e1ceec",
   "metadata": {},
   "source": [
    "The mean and standard deviation are in the standardization layer"
   ]
  },
  {
   "cell_type": "code",
   "execution_count": 9,
   "id": "7256f831-ac77-41fe-9b21-54a1b2369f89",
   "metadata": {},
   "outputs": [
    {
     "name": "stdout",
     "output_type": "stream",
     "text": [
      "Values with DFT - Mean -692.71, St. Dev. 0.059\n"
     ]
    }
   ],
   "source": [
    "mean = np.mean(dft_energy_pa) - model.lin2.bias.item()  # Average\n",
    "std = np.std(dft_energy_pa)\n",
    "print(f'Values with DFT - Mean {mean:.2f}, St. Dev. {std:.3f}')"
   ]
  },
  {
   "cell_type": "markdown",
   "id": "c5d6266d-13d8-4266-aaa8-a3f6600f958d",
   "metadata": {},
   "source": [
    "We will now have a ~3 eV offset per atom, which accounts for the difference in bonding"
   ]
  },
  {
   "cell_type": "code",
   "execution_count": 10,
   "id": "5702641d-3689-409c-9fdb-24d30b2aadae",
   "metadata": {},
   "outputs": [],
   "source": [
    "model = load_pretrained_model('finetune_ttm_alstep132.pt', mean=mean, std=std)\n",
    "spk_calc = SchnetCalculator(model, 'cpu')"
   ]
  },
  {
   "cell_type": "code",
   "execution_count": 11,
   "id": "d6d95564-5432-4d7e-ab07-2583d48c26f7",
   "metadata": {},
   "outputs": [],
   "source": [
    "spk_eng_new = spk_calc.get_potential_energy(water)"
   ]
  },
  {
   "cell_type": "code",
   "execution_count": 12,
   "id": "76ab87e9-4666-447a-b16c-806e4890b312",
   "metadata": {},
   "outputs": [
    {
     "name": "stdout",
     "output_type": "stream",
     "text": [
      "Energy of water - Psi4: -2077.86 eV, SchNet -2078.13 eV\n"
     ]
    }
   ],
   "source": [
    "print(f'Energy of water - Psi4: {psi4_eng:.2f} eV, SchNet {spk_eng_new:.2f} eV')"
   ]
  },
  {
   "cell_type": "markdown",
   "id": "869988be-a57b-4d46-979c-cf17a88a6d22",
   "metadata": {},
   "source": [
    "Much closer"
   ]
  },
  {
   "cell_type": "markdown",
   "id": "a1398253-01b4-4a39-9f8f-8f58f4cc7627",
   "metadata": {},
   "source": [
    "## Save Updated Model\n",
    "For us to use later"
   ]
  },
  {
   "cell_type": "code",
   "execution_count": 13,
   "id": "c0bdaef1-6198-4aba-8f25-beee8f0b6fc2",
   "metadata": {},
   "outputs": [],
   "source": [
    "torch.save(model, 'starting-psi4-model')"
   ]
  },
  {
   "cell_type": "code",
   "execution_count": null,
   "id": "e18f36a6-1936-43fd-903b-585dbefbe6d7",
   "metadata": {},
   "outputs": [],
   "source": []
  }
 ],
 "metadata": {
  "kernelspec": {
   "display_name": "Python 3 (ipykernel)",
   "language": "python",
   "name": "python3"
  },
  "language_info": {
   "codemirror_mode": {
    "name": "ipython",
    "version": 3
   },
   "file_extension": ".py",
   "mimetype": "text/x-python",
   "name": "python",
   "nbconvert_exporter": "python",
   "pygments_lexer": "ipython3",
   "version": "3.10.6"
  }
 },
 "nbformat": 4,
 "nbformat_minor": 5
}
