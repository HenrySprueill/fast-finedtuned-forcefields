{
 "cells": [
  {
   "cell_type": "markdown",
   "id": "0d0e38b7-5e8e-4464-a7fb-a776d91083c4",
   "metadata": {},
   "source": [
    "# Compare Energies with Different Methods\n",
    "We have a database computed with TTM, DFT and MP2. Let's see how they compare"
   ]
  },
  {
   "cell_type": "code",
   "execution_count": 1,
   "id": "1f0badd1-a203-4c05-ae50-6ef41149073a",
   "metadata": {},
   "outputs": [],
   "source": [
    "%matplotlib inline\n",
    "from matplotlib import pyplot as plt\n",
    "from ase.db import connect\n",
    "from ase import units\n",
    "import pandas as pd"
   ]
  },
  {
   "cell_type": "markdown",
   "id": "4b26f20b-3413-48ab-9a02-e8ceba6ea754",
   "metadata": {},
   "source": [
    "## Load in the Data\n",
    "Get the data from the different databases, combine them into a single dataframe"
   ]
  },
  {
   "cell_type": "code",
   "execution_count": 2,
   "id": "6ce7eb98-c67b-4a09-bb4b-7cf39e9095c4",
   "metadata": {},
   "outputs": [],
   "source": [
    "def load_database_to_pandas(path: str, name: str) -> pd.DataFrame:\n",
    "    \"\"\"Read an ASE database to a Pandas dataframe\n",
    "    \n",
    "    Args:\n",
    "        path: Path to the ASE databases\n",
    "    Returns:\n",
    "        Dataframe with the filename as the key\n",
    "    \"\"\"\n",
    "    with connect(path) as db:\n",
    "        results = []\n",
    "        for row in db.select(\"\"):\n",
    "            results.append({'filename': row['filename'],\n",
    "                            'n_waters': int(row.natoms // 3),\n",
    "                            f'runtime_{name}': row['runtime'],\n",
    "                            f'energy_{name}': row['energy']})\n",
    "        data = pd.DataFrame(results)\n",
    "\n",
    "    data.set_index('filename', inplace=True)\n",
    "    return data"
   ]
  },
  {
   "cell_type": "code",
   "execution_count": 3,
   "id": "a1c457d4-3838-4963-a78e-0743c75a265f",
   "metadata": {},
   "outputs": [],
   "source": [
    "data = pd.concat([\n",
    "    load_database_to_pandas(path, name)\n",
    "    for path, name in [\n",
    "        ('initial-ttm.db', 'ttm'), ('initial-psi4.db', 'dft'),\n",
    "        ('initial.db', 'mp2')\n",
    "    ]\n",
    "],\n",
    "    axis=1)"
   ]
  },
  {
   "cell_type": "markdown",
   "id": "b7b62faa-5fb8-4eef-88ef-14da2bed1fb0",
   "metadata": {},
   "source": [
    "Convert TTM to eV"
   ]
  },
  {
   "cell_type": "code",
   "execution_count": 4,
   "id": "881c90f1-8ab0-4db9-99b5-9128154e5a88",
   "metadata": {},
   "outputs": [],
   "source": [
    "data['energy_ttm'] /= units.Hartree"
   ]
  },
  {
   "cell_type": "markdown",
   "id": "0432ba5f-8cc1-4ed3-8d09-efd56ff9ea30",
   "metadata": {},
   "source": [
    "Drop duplicate columns"
   ]
  },
  {
   "cell_type": "code",
   "execution_count": 5,
   "id": "40da54f9-29ca-4e22-92be-90fa8410d766",
   "metadata": {},
   "outputs": [],
   "source": [
    "data = data.loc[:,~data.columns.duplicated()].copy()"
   ]
  },
  {
   "cell_type": "code",
   "execution_count": 6,
   "id": "5bb53f90-c087-4c61-a830-0f66075ef3f3",
   "metadata": {},
   "outputs": [
    {
     "data": {
      "text/html": [
       "<div>\n",
       "<style scoped>\n",
       "    .dataframe tbody tr th:only-of-type {\n",
       "        vertical-align: middle;\n",
       "    }\n",
       "\n",
       "    .dataframe tbody tr th {\n",
       "        vertical-align: top;\n",
       "    }\n",
       "\n",
       "    .dataframe thead th {\n",
       "        text-align: right;\n",
       "    }\n",
       "</style>\n",
       "<table border=\"1\" class=\"dataframe\">\n",
       "  <thead>\n",
       "    <tr style=\"text-align: right;\">\n",
       "      <th></th>\n",
       "      <th>n_waters</th>\n",
       "      <th>runtime_ttm</th>\n",
       "      <th>energy_ttm</th>\n",
       "      <th>runtime_dft</th>\n",
       "      <th>energy_dft</th>\n",
       "      <th>runtime_mp2</th>\n",
       "      <th>energy_mp2</th>\n",
       "    </tr>\n",
       "    <tr>\n",
       "      <th>filename</th>\n",
       "      <th></th>\n",
       "      <th></th>\n",
       "      <th></th>\n",
       "      <th></th>\n",
       "      <th></th>\n",
       "      <th></th>\n",
       "      <th></th>\n",
       "    </tr>\n",
       "  </thead>\n",
       "  <tbody>\n",
       "    <tr>\n",
       "      <th>mctbp_10002.xyz</th>\n",
       "      <td>9</td>\n",
       "      <td>0.003316</td>\n",
       "      <td>-2.783179</td>\n",
       "      <td>4.414176</td>\n",
       "      <td>-18614.680465</td>\n",
       "      <td>413.422554</td>\n",
       "      <td>-18680.458656</td>\n",
       "    </tr>\n",
       "    <tr>\n",
       "      <th>mctbp_10200.xyz</th>\n",
       "      <td>9</td>\n",
       "      <td>0.001862</td>\n",
       "      <td>-2.454002</td>\n",
       "      <td>4.068678</td>\n",
       "      <td>-18613.705891</td>\n",
       "      <td>330.860819</td>\n",
       "      <td>-18680.140512</td>\n",
       "    </tr>\n",
       "    <tr>\n",
       "      <th>mctbp_10597.xyz</th>\n",
       "      <td>9</td>\n",
       "      <td>0.001298</td>\n",
       "      <td>-2.379269</td>\n",
       "      <td>4.361022</td>\n",
       "      <td>-18614.052246</td>\n",
       "      <td>607.606075</td>\n",
       "      <td>-18679.932392</td>\n",
       "    </tr>\n",
       "    <tr>\n",
       "      <th>mctbp_1075.xyz</th>\n",
       "      <td>4</td>\n",
       "      <td>0.000624</td>\n",
       "      <td>-0.745407</td>\n",
       "      <td>1.100244</td>\n",
       "      <td>-8271.778945</td>\n",
       "      <td>98.875375</td>\n",
       "      <td>-8301.918930</td>\n",
       "    </tr>\n",
       "    <tr>\n",
       "      <th>mctbp_10767.xyz</th>\n",
       "      <td>9</td>\n",
       "      <td>0.001234</td>\n",
       "      <td>-1.860024</td>\n",
       "      <td>4.116375</td>\n",
       "      <td>-18612.928818</td>\n",
       "      <td>674.078150</td>\n",
       "      <td>-18679.324015</td>\n",
       "    </tr>\n",
       "  </tbody>\n",
       "</table>\n",
       "</div>"
      ],
      "text/plain": [
       "                 n_waters  runtime_ttm  energy_ttm  runtime_dft    energy_dft  \\\n",
       "filename                                                                        \n",
       "mctbp_10002.xyz         9     0.003316   -2.783179     4.414176 -18614.680465   \n",
       "mctbp_10200.xyz         9     0.001862   -2.454002     4.068678 -18613.705891   \n",
       "mctbp_10597.xyz         9     0.001298   -2.379269     4.361022 -18614.052246   \n",
       "mctbp_1075.xyz          4     0.000624   -0.745407     1.100244  -8271.778945   \n",
       "mctbp_10767.xyz         9     0.001234   -1.860024     4.116375 -18612.928818   \n",
       "\n",
       "                 runtime_mp2    energy_mp2  \n",
       "filename                                    \n",
       "mctbp_10002.xyz   413.422554 -18680.458656  \n",
       "mctbp_10200.xyz   330.860819 -18680.140512  \n",
       "mctbp_10597.xyz   607.606075 -18679.932392  \n",
       "mctbp_1075.xyz     98.875375  -8301.918930  \n",
       "mctbp_10767.xyz   674.078150 -18679.324015  "
      ]
     },
     "execution_count": 6,
     "metadata": {},
     "output_type": "execute_result"
    }
   ],
   "source": [
    "data.head()"
   ]
  },
  {
   "cell_type": "markdown",
   "id": "ea19048f-fed3-43cc-9b1a-c180a0314458",
   "metadata": {},
   "source": [
    "Compute the energy per water"
   ]
  },
  {
   "cell_type": "code",
   "execution_count": 13,
   "id": "5087ccaf-df94-4203-a1c7-cbaf5c0c9b1a",
   "metadata": {},
   "outputs": [
    {
     "name": "stdout",
     "output_type": "stream",
     "text": [
      "Reference energy for dft: -2068.58 eV/water\n",
      "Reference energy for ttm: -0.40 eV/water\n",
      "Reference energy for mp2: -2075.73 eV/water\n"
     ]
    }
   ],
   "source": [
    "for name in ['dft', 'ttm', 'mp2']:\n",
    "    ref_energy = data[f'energy_per_water_{name}'][lowest_energy]\n",
    "    data[f'energy_normed_{name}'] = data[f'energy_per_water_{name}'] - ref_energy\n",
    "    print(f'Reference energy for {name}: {ref_energy:.2f} eV/water')"
   ]
  },
  {
   "cell_type": "markdown",
   "id": "501a8600-fd56-4fda-aa18-409ca239f4a5",
   "metadata": {},
   "source": [
    "Normalize by the energy above the most-stable cluster"
   ]
  },
  {
   "cell_type": "code",
   "execution_count": 8,
   "id": "aceb93c9-d5b8-4ec0-b05c-915455ab53ec",
   "metadata": {},
   "outputs": [],
   "source": [
    "lowest_energy = data['energy_per_water_mp2'].idxmin()"
   ]
  },
  {
   "cell_type": "code",
   "execution_count": 9,
   "id": "0d30c7b4-c3d8-43a8-81d5-d676907d8a5f",
   "metadata": {},
   "outputs": [],
   "source": [
    "for name in ['dft', 'ttm', 'mp2']:\n",
    "    data[f'energy_normed_{name}'] = data[f'energy_per_water_{name}'] - data[f'energy_per_water_{name}'][lowest_energy]"
   ]
  },
  {
   "cell_type": "code",
   "execution_count": 10,
   "id": "69d458ba-7aff-4f19-a613-4e6300896767",
   "metadata": {},
   "outputs": [
    {
     "data": {
      "text/html": [
       "<div>\n",
       "<style scoped>\n",
       "    .dataframe tbody tr th:only-of-type {\n",
       "        vertical-align: middle;\n",
       "    }\n",
       "\n",
       "    .dataframe tbody tr th {\n",
       "        vertical-align: top;\n",
       "    }\n",
       "\n",
       "    .dataframe thead th {\n",
       "        text-align: right;\n",
       "    }\n",
       "</style>\n",
       "<table border=\"1\" class=\"dataframe\">\n",
       "  <thead>\n",
       "    <tr style=\"text-align: right;\">\n",
       "      <th></th>\n",
       "      <th>energy_normed_dft</th>\n",
       "      <th>energy_normed_ttm</th>\n",
       "      <th>energy_normed_mp2</th>\n",
       "    </tr>\n",
       "    <tr>\n",
       "      <th>filename</th>\n",
       "      <th></th>\n",
       "      <th></th>\n",
       "      <th></th>\n",
       "    </tr>\n",
       "  </thead>\n",
       "  <tbody>\n",
       "    <tr>\n",
       "      <th>min_1930862.xyz</th>\n",
       "      <td>0.000000</td>\n",
       "      <td>0.000000</td>\n",
       "      <td>0.000000</td>\n",
       "    </tr>\n",
       "    <tr>\n",
       "      <th>min_2249639.xyz</th>\n",
       "      <td>-0.000656</td>\n",
       "      <td>-0.001221</td>\n",
       "      <td>0.000512</td>\n",
       "    </tr>\n",
       "    <tr>\n",
       "      <th>min_1933997.xyz</th>\n",
       "      <td>-0.000186</td>\n",
       "      <td>0.000814</td>\n",
       "      <td>0.001784</td>\n",
       "    </tr>\n",
       "    <tr>\n",
       "      <th>min_1932988.xyz</th>\n",
       "      <td>-0.000881</td>\n",
       "      <td>0.000609</td>\n",
       "      <td>0.002286</td>\n",
       "    </tr>\n",
       "    <tr>\n",
       "      <th>min_1943025.xyz</th>\n",
       "      <td>0.014988</td>\n",
       "      <td>0.002038</td>\n",
       "      <td>0.003530</td>\n",
       "    </tr>\n",
       "    <tr>\n",
       "      <th>min_1948890.xyz</th>\n",
       "      <td>0.000047</td>\n",
       "      <td>0.002591</td>\n",
       "      <td>0.003737</td>\n",
       "    </tr>\n",
       "    <tr>\n",
       "      <th>min_1937085.xyz</th>\n",
       "      <td>0.011075</td>\n",
       "      <td>0.001326</td>\n",
       "      <td>0.003898</td>\n",
       "    </tr>\n",
       "    <tr>\n",
       "      <th>min_1982257.xyz</th>\n",
       "      <td>0.015655</td>\n",
       "      <td>0.004937</td>\n",
       "      <td>0.004617</td>\n",
       "    </tr>\n",
       "    <tr>\n",
       "      <th>min_2278464.xyz</th>\n",
       "      <td>-0.006570</td>\n",
       "      <td>0.002193</td>\n",
       "      <td>0.005126</td>\n",
       "    </tr>\n",
       "    <tr>\n",
       "      <th>min_2288973.xyz</th>\n",
       "      <td>0.012834</td>\n",
       "      <td>0.002696</td>\n",
       "      <td>0.005271</td>\n",
       "    </tr>\n",
       "    <tr>\n",
       "      <th>min_2324410.xyz</th>\n",
       "      <td>0.014599</td>\n",
       "      <td>0.003925</td>\n",
       "      <td>0.005559</td>\n",
       "    </tr>\n",
       "    <tr>\n",
       "      <th>min_1947854.xyz</th>\n",
       "      <td>0.007943</td>\n",
       "      <td>0.002501</td>\n",
       "      <td>0.005605</td>\n",
       "    </tr>\n",
       "    <tr>\n",
       "      <th>min_2296651.xyz</th>\n",
       "      <td>0.015777</td>\n",
       "      <td>0.003014</td>\n",
       "      <td>0.005961</td>\n",
       "    </tr>\n",
       "    <tr>\n",
       "      <th>min_2419372.xyz</th>\n",
       "      <td>0.008758</td>\n",
       "      <td>0.006216</td>\n",
       "      <td>0.006000</td>\n",
       "    </tr>\n",
       "    <tr>\n",
       "      <th>min_2274474.xyz</th>\n",
       "      <td>-0.012050</td>\n",
       "      <td>0.001972</td>\n",
       "      <td>0.006125</td>\n",
       "    </tr>\n",
       "  </tbody>\n",
       "</table>\n",
       "</div>"
      ],
      "text/plain": [
       "                 energy_normed_dft  energy_normed_ttm  energy_normed_mp2\n",
       "filename                                                                \n",
       "min_1930862.xyz           0.000000           0.000000           0.000000\n",
       "min_2249639.xyz          -0.000656          -0.001221           0.000512\n",
       "min_1933997.xyz          -0.000186           0.000814           0.001784\n",
       "min_1932988.xyz          -0.000881           0.000609           0.002286\n",
       "min_1943025.xyz           0.014988           0.002038           0.003530\n",
       "min_1948890.xyz           0.000047           0.002591           0.003737\n",
       "min_1937085.xyz           0.011075           0.001326           0.003898\n",
       "min_1982257.xyz           0.015655           0.004937           0.004617\n",
       "min_2278464.xyz          -0.006570           0.002193           0.005126\n",
       "min_2288973.xyz           0.012834           0.002696           0.005271\n",
       "min_2324410.xyz           0.014599           0.003925           0.005559\n",
       "min_1947854.xyz           0.007943           0.002501           0.005605\n",
       "min_2296651.xyz           0.015777           0.003014           0.005961\n",
       "min_2419372.xyz           0.008758           0.006216           0.006000\n",
       "min_2274474.xyz          -0.012050           0.001972           0.006125"
      ]
     },
     "execution_count": 10,
     "metadata": {},
     "output_type": "execute_result"
    }
   ],
   "source": [
    "data[[c for c in data.columns if 'normed' in c]].sort_values('energy_normed_mp2').head(15)"
   ]
  },
  {
   "cell_type": "code",
   "execution_count": 11,
   "id": "c032784a-3cad-417d-9bfb-b687c656f936",
   "metadata": {},
   "outputs": [
    {
     "data": {
      "text/plain": [
       "n_waters                    9.000000\n",
       "runtime_ttm                 0.003316\n",
       "energy_ttm                 -2.783179\n",
       "runtime_dft                 4.414176\n",
       "energy_dft             -18614.680465\n",
       "runtime_mp2               413.422554\n",
       "energy_mp2             -18680.458656\n",
       "energy_per_water_dft    -2068.297829\n",
       "energy_per_water_ttm       -0.309242\n",
       "energy_per_water_mp2    -2075.606517\n",
       "energy_normed_dft           0.283034\n",
       "energy_normed_ttm           0.091388\n",
       "energy_normed_mp2           0.123520\n",
       "Name: mctbp_10002.xyz, dtype: float64"
      ]
     },
     "execution_count": 11,
     "metadata": {},
     "output_type": "execute_result"
    }
   ],
   "source": [
    "data.iloc[0]"
   ]
  },
  {
   "cell_type": "markdown",
   "id": "8d349478-fa23-4172-9410-2086b90ea835",
   "metadata": {},
   "source": [
    "## Plot\n",
    "Show how different things are between TTM and DFT"
   ]
  },
  {
   "cell_type": "code",
   "execution_count": 12,
   "id": "077151f7-0ffd-4908-9cfc-0cae3b9e3418",
   "metadata": {},
   "outputs": [
    {
     "data": {
      "image/png": "[encoded data removed]",
      "text/plain": [
       "<Figure size 252x252 with 1 Axes>"
      ]
     },
     "metadata": {
      "needs_background": "light"
     },
     "output_type": "display_data"
    }
   ],
   "source": [
    "fig, ax = plt.subplots(figsize=(3.5, 3.5))\n",
    "\n",
    "for name in ['ttm', 'dft']:\n",
    "    ax.scatter(data[f'energy_normed_{name}'], data['energy_normed_mp2'], label=name.upper(), s=16)\n",
    "    \n",
    "ax.legend()\n",
    "\n",
    "# Set the xlim\n",
    "ax.set_xlabel('Energy (eV/water)')\n",
    "ax.set_ylabel('Energy, MP2 (eV/water)')\n",
    "ax.set_xlim([0, 0.1])\n",
    "ax.set_ylim([0, 0.1])\n",
    "\n",
    "max_lim = max(ax.get_xlim() + ax.get_ylim())\n",
    "ax.plot([0, max_lim], [0, max_lim], 'k--')\n",
    "\n",
    "fig.tight_layout()"
   ]
  },
  {
   "cell_type": "code",
   "execution_count": null,
   "id": "d09e10ab-f90f-4438-8173-16b71ac917b2",
   "metadata": {},
   "outputs": [],
   "source": []
  }
 ],
 "metadata": {
  "kernelspec": {
   "display_name": "fff",
   "language": "python",
   "name": "fff"
  },
  "language_info": {
   "codemirror_mode": {
    "name": "ipython",
    "version": 3
   },
   "file_extension": ".py",
   "mimetype": "text/x-python",
   "name": "python",
   "nbconvert_exporter": "python",
   "pygments_lexer": "ipython3",
   "version": "3.10.4"
  }
 },
 "nbformat": 4,
 "nbformat_minor": 5
}
