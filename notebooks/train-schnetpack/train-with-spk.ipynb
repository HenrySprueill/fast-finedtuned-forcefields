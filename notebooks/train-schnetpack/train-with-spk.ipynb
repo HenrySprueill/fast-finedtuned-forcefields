{
 "cells": [
  {
   "cell_type": "markdown",
   "id": "105abe79-c0ec-4675-a8a8-fb9e0f492b65",
   "metadata": {},
   "source": [
    "# Learning to Train with the New SPK\n",
    "A few APIs have changed for the better"
   ]
  },
  {
   "cell_type": "code",
   "execution_count": 1,
   "id": "b4815a31-cd14-4414-aa44-1f2366b10c6b",
   "metadata": {},
   "outputs": [
    {
     "name": "stderr",
     "output_type": "stream",
     "text": [
      "/home/lward/miniconda3/envs/fastforce/lib/python3.10/site-packages/tqdm/auto.py:22: TqdmWarning: IProgress not found. Please update jupyter and ipywidgets. See https://ipywidgets.readthedocs.io/en/stable/user_install.html\n",
      "  from .autonotebook import tqdm as notebook_tqdm\n"
     ]
    }
   ],
   "source": [
    "from schnetpack import train as trn\n",
    "import schnetpack as spk\n",
    "from tqdm import tqdm\n",
    "import torch"
   ]
  },
  {
   "cell_type": "markdown",
   "id": "872ae1f5-d98a-40a2-a1d5-c7690684e15f",
   "metadata": {},
   "source": [
    "## Create the Data Loader\n",
    "We'll connect to the dataset I made via an external script and use the \"same data\" "
   ]
  },
  {
   "cell_type": "code",
   "execution_count": 2,
   "id": "6c9aaf4e-c2d5-4b9a-9f5b-b082fdad9825",
   "metadata": {},
   "outputs": [],
   "source": [
    "data = spk.AtomsData(\n",
    "    './data/test.db',\n",
    ")"
   ]
  },
  {
   "cell_type": "code",
   "execution_count": 3,
   "id": "8de43347-6230-4613-b99f-c38cc04fb2f9",
   "metadata": {},
   "outputs": [],
   "source": [
    "loader = spk.AtomsLoader(data, batch_size=64, shuffle=True, num_workers=8)"
   ]
  },
  {
   "cell_type": "markdown",
   "id": "3ed8706d-5c2e-4955-b4f4-00ec61a454f8",
   "metadata": {},
   "source": [
    "Get the means, which we'll need later"
   ]
  },
  {
   "cell_type": "code",
   "execution_count": 4,
   "id": "2f670632-03eb-433e-95a1-5261e57e4b87",
   "metadata": {},
   "outputs": [
    {
     "name": "stdout",
     "output_type": "stream",
     "text": [
      "CPU times: user 9.36 s, sys: 5.81 s, total: 15.2 s\n",
      "Wall time: 31.2 s\n"
     ]
    }
   ],
   "source": [
    "%%time\n",
    "means, stddevs = loader.get_statistics(\n",
    "    'energy', divide_by_atoms=True\n",
    ")"
   ]
  },
  {
   "cell_type": "markdown",
   "id": "b1164e99-f0b6-4e1e-a8ea-ca83e1675f23",
   "metadata": {},
   "source": [
    "## Make the Model\n",
    "Use some default settings"
   ]
  },
  {
   "cell_type": "code",
   "execution_count": 5,
   "id": "06e846a0-15f3-4c13-8dbc-c79556d09b7c",
   "metadata": {},
   "outputs": [],
   "source": [
    "n_features = 32\n",
    "\n",
    "schnet = spk.representation.SchNet(\n",
    "    n_atom_basis=n_features,\n",
    "    n_filters=n_features,\n",
    "    n_gaussians=25,\n",
    "    n_interactions=3,\n",
    "    cutoff=5.,\n",
    "    cutoff_network=spk.nn.cutoff.CosineCutoff\n",
    ")"
   ]
  },
  {
   "cell_type": "markdown",
   "id": "b79d6c5e-2437-4759-b123-30e2c79b099f",
   "metadata": {},
   "source": [
    "We need both the forces and energy as outputs"
   ]
  },
  {
   "cell_type": "code",
   "execution_count": 6,
   "id": "e0e0f468-9894-40d8-9b3d-0c8dc4a744ee",
   "metadata": {},
   "outputs": [],
   "source": [
    "energy_model = spk.atomistic.Atomwise(\n",
    "    n_in=n_features,\n",
    "    property='energy',\n",
    "    mean=means['energy'],\n",
    "    stddev=stddevs['energy'],\n",
    "    derivative='forces',\n",
    "    negative_dr=True\n",
    ")"
   ]
  },
  {
   "cell_type": "markdown",
   "id": "6476b30f-0e6d-4e08-9763-eaf180caa9ae",
   "metadata": {},
   "source": [
    "Combine it all together"
   ]
  },
  {
   "cell_type": "code",
   "execution_count": 7,
   "id": "d5bc3d45-857d-453b-8220-36ac85fbe7d9",
   "metadata": {},
   "outputs": [],
   "source": [
    "model = spk.AtomisticModel(representation=schnet, output_modules=energy_model)"
   ]
  },
  {
   "cell_type": "markdown",
   "id": "c2208d60-8b9a-4c05-a303-c4e4316226f1",
   "metadata": {},
   "source": [
    "## Train the model\n",
    "Use both the energy and the forces\n",
    "\n",
    "First define the loss function"
   ]
  },
  {
   "cell_type": "code",
   "execution_count": 8,
   "id": "34e46801-c5f7-4f36-9223-85b6dc05a177",
   "metadata": {},
   "outputs": [],
   "source": [
    "# tradeoff\n",
    "rho_tradeoff = 0.1\n",
    "\n",
    "# loss function\n",
    "def loss(batch, result):\n",
    "    # compute the mean squared error on the energies\n",
    "    diff_energy = batch['energy']-result['energy']\n",
    "    err_sq_energy = torch.mean(diff_energy ** 2)\n",
    "\n",
    "    # compute the mean squared error on the forces\n",
    "    diff_forces = batch['forces']-result['forces']\n",
    "    err_sq_forces = torch.mean(diff_forces ** 2)\n",
    "\n",
    "    # build the combined loss function\n",
    "    err_sq = rho_tradeoff*err_sq_energy + (1-rho_tradeoff)*err_sq_forces\n",
    "\n",
    "    return err_sq"
   ]
  },
  {
   "cell_type": "markdown",
   "id": "af7989eb-13ad-4e60-8676-b2d70d5cb3ec",
   "metadata": {},
   "source": [
    "Now the optimizer"
   ]
  },
  {
   "cell_type": "code",
   "execution_count": 9,
   "id": "ec88afce-6d79-402e-a030-0a730239d423",
   "metadata": {},
   "outputs": [],
   "source": [
    "optimizer = torch.optim.Adam(model.parameters(), lr=5e-4)"
   ]
  },
  {
   "cell_type": "markdown",
   "id": "6e695431-5f9f-4e10-9fc3-b52be31aab7c",
   "metadata": {},
   "source": [
    "Now the training metrics"
   ]
  },
  {
   "cell_type": "code",
   "execution_count": 10,
   "id": "7a182c95-f968-4278-ae55-88883958a4e5",
   "metadata": {},
   "outputs": [],
   "source": [
    "# set up metrics\n",
    "metrics = [\n",
    "    spk.metrics.MeanAbsoluteError('energy'),\n",
    "    spk.metrics.MeanAbsoluteError('forces')\n",
    "]\n",
    "\n",
    "# construct hooks\n",
    "hooks = [\n",
    "    trn.CSVHook(log_path='test', metrics=metrics),\n",
    "    trn.ReduceLROnPlateauHook(\n",
    "        optimizer,\n",
    "        patience=5, factor=0.8, min_lr=1e-6,\n",
    "        stop_after_min=True\n",
    "    )\n",
    "]"
   ]
  },
  {
   "cell_type": "markdown",
   "id": "c134a8ec-c1b6-4e42-8928-59e5b35c671c",
   "metadata": {},
   "source": [
    "Run the fitting"
   ]
  },
  {
   "cell_type": "code",
   "execution_count": 11,
   "id": "5d33a55d-c7a6-411f-a643-135d6b9b9a5b",
   "metadata": {},
   "outputs": [],
   "source": [
    "trainer = trn.Trainer(\n",
    "    model_path='test',\n",
    "    model=model,\n",
    "    hooks=hooks,\n",
    "    loss_fn=loss,\n",
    "    optimizer=optimizer,\n",
    "    train_loader=loader,\n",
    "    validation_loader=loader,\n",
    ")"
   ]
  },
  {
   "cell_type": "code",
   "execution_count": 12,
   "id": "1254df30-3854-4f0b-9c7e-a0a14f681085",
   "metadata": {},
   "outputs": [],
   "source": [
    "trainer.train(device='cuda', n_epochs=2)"
   ]
  },
  {
   "cell_type": "code",
   "execution_count": null,
   "id": "d6a86363-a528-4383-bc94-9262fb3ea577",
   "metadata": {},
   "outputs": [],
   "source": []
  }
 ],
 "metadata": {
  "kernelspec": {
   "display_name": "Python 3 (ipykernel)",
   "language": "python",
   "name": "python3"
  },
  "language_info": {
   "codemirror_mode": {
    "name": "ipython",
    "version": 3
   },
   "file_extension": ".py",
   "mimetype": "text/x-python",
   "name": "python",
   "nbconvert_exporter": "python",
   "pygments_lexer": "ipython3",
   "version": "3.10.4"
  }
 },
 "nbformat": 4,
 "nbformat_minor": 5
}
