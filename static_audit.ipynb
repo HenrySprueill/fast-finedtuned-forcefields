{
 "cells": [
  {
   "cell_type": "code",
   "execution_count": 29,
   "id": "e4452358",
   "metadata": {},
   "outputs": [],
   "source": [
    "import json\n",
    "import os.path as op\n",
    "import os\n",
    "import torch \n",
    "import tqdm\n",
    "import pandas as pd\n",
    "import scipy.stats as st\n",
    "from scipy.spatial import distance\n",
    "import numpy as np\n",
    "import seaborn as sns\n",
    "import matplotlib.pyplot as plt\n",
    "from torch_geometric.data import DataLoader, Data\n",
    "import h5py\n",
    "from ase.md.nvtberendsen import NVTBerendsen\n",
    "from ase.md.velocitydistribution import MaxwellBoltzmannDistribution\n",
    "from ase import units\n",
    "from ase.io.trajectory import Trajectory\n",
    "import ase\n",
    "import argparse\n",
    "\n",
    "# custom functions\n",
    "from utils.data import test_dataloader, dataloader\n",
    "from utils.models import load_model\n",
    "from utils.infer import infer, infer_with_error\n",
    "from utils.model_to_ase import SchnetCalculator\n",
    "#from ttm.ase import SciPyFminLBFGSB, TTMCalculator\n",
    "\n",
    "from utils.water_dataset import PrepackedDataset\n",
    "\n",
    "\n",
    "def roundto(x, base=5):\n",
    "    return base * round(x/base)"
   ]
  },
  {
   "cell_type": "code",
   "execution_count": 15,
   "id": "c96863da",
   "metadata": {},
   "outputs": [],
   "source": [
    "basedir = '/people/herm379/exalearn/IPU_trained_models/fast-finedtuned-forcefields/'\n",
    "modeldir = 'finetune_results/knn_no_mean_std_take4'"
   ]
  },
  {
   "cell_type": "code",
   "execution_count": 17,
   "id": "f848b242",
   "metadata": {},
   "outputs": [
    {
     "data": {
      "text/plain": [
       "Namespace(create_splits=True, splitdir='./data/splits/', datadir='./data/cached_dataset/', energy_coeff=0.05, mae_std_from_val=True, max_to_add=1, n_epochs_initial=50, n_epochs_al=10, n_epochs_end=50, n_al_iters=50, save_models=True, start_lr=0.001, datasets='mctbp_1000', n_train=[5000], n_to_examine=[5000], mean='None', std='None', start_model='./pretrained_models/2-7milweights', neighbor_method='knn', load_state=True, clip_value=200.0, batch_size=128)"
      ]
     },
     "execution_count": 17,
     "metadata": {},
     "output_type": "execute_result"
    }
   ],
   "source": [
    "with open(op.join(basedir, modeldir, 'args.json')) as f:\n",
    "    args_dict = json.load(f)\n",
    "    args = argparse.Namespace(**args_dict)\n",
    "    \n",
    "args"
   ]
  },
  {
   "cell_type": "code",
   "execution_count": 55,
   "id": "a27755d4",
   "metadata": {},
   "outputs": [
    {
     "name": "stdout",
     "output_type": "stream",
     "text": [
      "model weights loaded from /people/herm379/exalearn/IPU_trained_models/fast-finedtuned-forcefields/finetune_results/knn_no_mean_std_take4/finetune_ttm_final.pt\n"
     ]
    }
   ],
   "source": [
    "import sys\n",
    "sys.path.insert(0, '/people/herm379/exalearn/IPU_trained_models/pnnl_sandbox/schnet')\n",
    "from model import SchNet\n",
    "\n",
    "# get final model\n",
    "finalmodel=[x for x in os.listdir(op.join(basedir, modeldir)) if x.endswith('final.pt')][0]\n",
    "    \n",
    "# load state dict of trained model\n",
    "state=torch.load(op.join(basedir, modeldir, finalmodel))\n",
    "# remove module. from statedict keys (artifact of parallel gpu training)\n",
    "state = {k.replace('module.',''):v for k,v in state.items()}\n",
    "\n",
    "# extract model params from model state dict\n",
    "num_gaussians = state['basis_expansion.offset'].shape[0]\n",
    "num_filters = state['interactions.0.mlp.0.weight'].shape[0]\n",
    "num_interactions = len([key for key in state.keys() if '.lin.bias' in key])\n",
    "\n",
    "# load model architecture\n",
    "net = SchNet(num_features = num_filters,\n",
    "             num_interactions = num_interactions,\n",
    "             num_gaussians = num_gaussians,\n",
    "             cutoff = 6.0)   \n",
    "\n",
    "# load trained weights into model\n",
    "net.load_state_dict(state)\n",
    "print(f'model weights loaded from {op.join(basedir, modeldir, finalmodel)}')"
   ]
  },
  {
   "cell_type": "code",
   "execution_count": 27,
   "id": "618b3e54",
   "metadata": {},
   "outputs": [],
   "source": [
    "dataset=op.join(basedir, args.datadir, args.datasets+'_data.hdf5')\n",
    "split=op.join(basedir, args.splitdir, 'split_00_'+args.datasets+'.npz')"
   ]
  },
  {
   "cell_type": "code",
   "execution_count": 31,
   "id": "d38c92e2",
   "metadata": {},
   "outputs": [],
   "source": [
    "dataset = PrepackedDataset(None, \n",
    "                           split, \n",
    "                           args.datasets, \n",
    "                           directory=op.join(basedir, args.datadir))\n",
    "\n",
    "\n",
    "test_data=dataset.load_data('test')\n",
    "len(test_data)"
   ]
  },
  {
   "cell_type": "code",
   "execution_count": 33,
   "id": "3004c26e",
   "metadata": {},
   "outputs": [],
   "source": [
    "loader = DataLoader(test_data, batch_size=128, shuffle=False)"
   ]
  },
  {
   "cell_type": "code",
   "execution_count": 60,
   "id": "503dcedf",
   "metadata": {},
   "outputs": [
    {
     "name": "stdout",
     "output_type": "stream",
     "text": [
      "2022-10-11T12:11:47\n",
      "2022-10-11T12:48:28\n",
      "14.349704\n",
      "0.49629974\n"
     ]
    },
    {
     "data": {
      "text/html": [
       "<div>\n",
       "<style scoped>\n",
       "    .dataframe tbody tr th:only-of-type {\n",
       "        vertical-align: middle;\n",
       "    }\n",
       "\n",
       "    .dataframe tbody tr th {\n",
       "        vertical-align: top;\n",
       "    }\n",
       "\n",
       "    .dataframe thead th {\n",
       "        text-align: right;\n",
       "    }\n",
       "</style>\n",
       "<table border=\"1\" class=\"dataframe\">\n",
       "  <thead>\n",
       "    <tr style=\"text-align: right;\">\n",
       "      <th></th>\n",
       "      <th>size</th>\n",
       "      <th>e_actual</th>\n",
       "      <th>e_pred</th>\n",
       "      <th>fme_mse</th>\n",
       "      <th>fae_mse</th>\n",
       "    </tr>\n",
       "  </thead>\n",
       "  <tbody>\n",
       "    <tr>\n",
       "      <th>0</th>\n",
       "      <td>51</td>\n",
       "      <td>-27.144539</td>\n",
       "      <td>-27.248909</td>\n",
       "      <td>14.114537</td>\n",
       "      <td>0.527713</td>\n",
       "    </tr>\n",
       "    <tr>\n",
       "      <th>1</th>\n",
       "      <td>51</td>\n",
       "      <td>-100.147491</td>\n",
       "      <td>-99.706276</td>\n",
       "      <td>10.984165</td>\n",
       "      <td>0.451937</td>\n",
       "    </tr>\n",
       "    <tr>\n",
       "      <th>2</th>\n",
       "      <td>51</td>\n",
       "      <td>-111.174843</td>\n",
       "      <td>-111.014404</td>\n",
       "      <td>13.253590</td>\n",
       "      <td>0.530813</td>\n",
       "    </tr>\n",
       "    <tr>\n",
       "      <th>3</th>\n",
       "      <td>51</td>\n",
       "      <td>-196.418289</td>\n",
       "      <td>-197.363831</td>\n",
       "      <td>11.854053</td>\n",
       "      <td>0.487858</td>\n",
       "    </tr>\n",
       "    <tr>\n",
       "      <th>4</th>\n",
       "      <td>51</td>\n",
       "      <td>-143.303055</td>\n",
       "      <td>-142.600525</td>\n",
       "      <td>15.832561</td>\n",
       "      <td>0.546724</td>\n",
       "    </tr>\n",
       "  </tbody>\n",
       "</table>\n",
       "</div>"
      ],
      "text/plain": [
       "   size    e_actual      e_pred    fme_mse   fae_mse\n",
       "0    51  -27.144539  -27.248909  14.114537  0.527713\n",
       "1    51 -100.147491  -99.706276  10.984165  0.451937\n",
       "2    51 -111.174843 -111.014404  13.253590  0.530813\n",
       "3    51 -196.418289 -197.363831  11.854053  0.487858\n",
       "4    51 -143.303055 -142.600525  15.832561  0.546724"
      ]
     },
     "execution_count": 60,
     "metadata": {},
     "output_type": "execute_result"
    }
   ],
   "source": [
    "from datetime import datetime\n",
    "from utils.infer import force_magnitude_error, force_angular_error\n",
    "\n",
    "fme_all = np.array(())\n",
    "fae_all = np.array(())\n",
    "\n",
    "df = pd.DataFrame()\n",
    "print(datetime.now().isoformat(timespec='seconds'))\n",
    "for data in loader:\n",
    "    # get predicted values\n",
    "    data.pos.requires_grad=True\n",
    "    e = net(data)\n",
    "    \n",
    "    f = torch.autograd.grad(e, data.pos, grad_outputs=torch.ones_like(e), retain_graph=False)[0]\n",
    "    \n",
    "    # force errors \n",
    "    fme  = force_magnitude_error(data.f, f).numpy()\n",
    "    fae  = force_angular_error(data.f, f).numpy()\n",
    "    \n",
    "    fme_all = np.concatenate((fme_all, fme))\n",
    "    fme_all = np.concatenate((fae_all, fae))\n",
    "    \n",
    "    # get means of individual samples\n",
    "    start = 0\n",
    "    fme_individual = []\n",
    "    fae_individual = []\n",
    "    for size in data.size.numpy()*3:\n",
    "        fme_individual.append(np.mean(np.abs(fme[start:start+size])))\n",
    "        fae_individual.append(np.mean(np.abs(fae[start:start+size])))\n",
    "        start += size\n",
    "    \n",
    "    tmp = pd.DataFrame({'size': size, 'e_actual': data.y.numpy(), 'e_pred': e.detach().numpy(),\n",
    "                        'fme_mae':fme_individual, 'fae_mae':fae_individual})\n",
    "    df = pd.concat([df, tmp])\n",
    "\n",
    "print(datetime.now().isoformat(timespec='seconds'))\n",
    "# all data together \n",
    "print(np.mean(np.abs(fme)))\n",
    "print(np.mean(np.abs(fae)))   \n",
    "\n",
    "df.head()"
   ]
  },
  {
   "cell_type": "code",
   "execution_count": 62,
   "id": "0eb08815",
   "metadata": {},
   "outputs": [
    {
     "data": {
      "text/html": [
       "<div>\n",
       "<style scoped>\n",
       "    .dataframe tbody tr th:only-of-type {\n",
       "        vertical-align: middle;\n",
       "    }\n",
       "\n",
       "    .dataframe tbody tr th {\n",
       "        vertical-align: top;\n",
       "    }\n",
       "\n",
       "    .dataframe thead th {\n",
       "        text-align: right;\n",
       "    }\n",
       "</style>\n",
       "<table border=\"1\" class=\"dataframe\">\n",
       "  <thead>\n",
       "    <tr style=\"text-align: right;\">\n",
       "      <th></th>\n",
       "      <th>size</th>\n",
       "      <th>e_actual</th>\n",
       "      <th>e_pred</th>\n",
       "      <th>fme_mse</th>\n",
       "      <th>fae_mse</th>\n",
       "      <th>e_diff</th>\n",
       "      <th>e_mae</th>\n",
       "      <th>e_actual_round</th>\n",
       "      <th>e_water</th>\n",
       "      <th>e_water_round</th>\n",
       "    </tr>\n",
       "  </thead>\n",
       "  <tbody>\n",
       "    <tr>\n",
       "      <th>0</th>\n",
       "      <td>51</td>\n",
       "      <td>-27.144539</td>\n",
       "      <td>-27.248909</td>\n",
       "      <td>14.114537</td>\n",
       "      <td>0.527713</td>\n",
       "      <td>0.104370</td>\n",
       "      <td>0.104370</td>\n",
       "      <td>-25</td>\n",
       "      <td>-0.532246</td>\n",
       "      <td>0</td>\n",
       "    </tr>\n",
       "    <tr>\n",
       "      <th>1</th>\n",
       "      <td>51</td>\n",
       "      <td>-100.147491</td>\n",
       "      <td>-99.706276</td>\n",
       "      <td>10.984165</td>\n",
       "      <td>0.451937</td>\n",
       "      <td>-0.441216</td>\n",
       "      <td>0.441216</td>\n",
       "      <td>-100</td>\n",
       "      <td>-1.963676</td>\n",
       "      <td>-2</td>\n",
       "    </tr>\n",
       "    <tr>\n",
       "      <th>2</th>\n",
       "      <td>51</td>\n",
       "      <td>-111.174843</td>\n",
       "      <td>-111.014404</td>\n",
       "      <td>13.253590</td>\n",
       "      <td>0.530813</td>\n",
       "      <td>-0.160439</td>\n",
       "      <td>0.160439</td>\n",
       "      <td>-110</td>\n",
       "      <td>-2.179899</td>\n",
       "      <td>-2</td>\n",
       "    </tr>\n",
       "    <tr>\n",
       "      <th>3</th>\n",
       "      <td>51</td>\n",
       "      <td>-196.418289</td>\n",
       "      <td>-197.363831</td>\n",
       "      <td>11.854053</td>\n",
       "      <td>0.487858</td>\n",
       "      <td>0.945541</td>\n",
       "      <td>0.945541</td>\n",
       "      <td>-195</td>\n",
       "      <td>-3.851339</td>\n",
       "      <td>-4</td>\n",
       "    </tr>\n",
       "    <tr>\n",
       "      <th>4</th>\n",
       "      <td>51</td>\n",
       "      <td>-143.303055</td>\n",
       "      <td>-142.600525</td>\n",
       "      <td>15.832561</td>\n",
       "      <td>0.546724</td>\n",
       "      <td>-0.702530</td>\n",
       "      <td>0.702530</td>\n",
       "      <td>-145</td>\n",
       "      <td>-2.809864</td>\n",
       "      <td>-2</td>\n",
       "    </tr>\n",
       "  </tbody>\n",
       "</table>\n",
       "</div>"
      ],
      "text/plain": [
       "   size    e_actual      e_pred    fme_mse   fae_mse    e_diff     e_mae  \\\n",
       "0    51  -27.144539  -27.248909  14.114537  0.527713  0.104370  0.104370   \n",
       "1    51 -100.147491  -99.706276  10.984165  0.451937 -0.441216  0.441216   \n",
       "2    51 -111.174843 -111.014404  13.253590  0.530813 -0.160439  0.160439   \n",
       "3    51 -196.418289 -197.363831  11.854053  0.487858  0.945541  0.945541   \n",
       "4    51 -143.303055 -142.600525  15.832561  0.546724 -0.702530  0.702530   \n",
       "\n",
       "   e_actual_round   e_water  e_water_round  \n",
       "0             -25 -0.532246              0  \n",
       "1            -100 -1.963676             -2  \n",
       "2            -110 -2.179899             -2  \n",
       "3            -195 -3.851339             -4  \n",
       "4            -145 -2.809864             -2  "
      ]
     },
     "execution_count": 62,
     "metadata": {},
     "output_type": "execute_result"
    }
   ],
   "source": [
    "import seaborn as sns\n",
    "import matplotlib.pyplot as plt\n",
    "\n",
    "\n",
    "def myround(x, base=5):\n",
    "    return base * round(x/base)\n",
    "\n",
    "df['e_diff']=df['e_actual']-df['e_pred']\n",
    "df['e_mae']=df['e_diff'].apply(lambda x: np.mean(np.abs(x)))\n",
    "df['e_actual_round'] = df['e_actual'].apply(lambda x: myround(x))\n",
    "\n",
    "df['e_water'] = df['e_actual']/df['size']\n",
    "df['e_water_round'] = df['e_water'].apply(lambda x: myround(x, 2))\n",
    "df.head()"
   ]
  },
  {
   "cell_type": "code",
   "execution_count": 63,
   "id": "d30252c6",
   "metadata": {},
   "outputs": [
    {
     "data": {
      "image/png": "[encoded data removed]",
      "text/plain": [
       "<Figure size 432x288 with 1 Axes>"
      ]
     },
     "metadata": {
      "needs_background": "light"
     },
     "output_type": "display_data"
    },
    {
     "data": {
      "image/png": "[encoded data removed]",
      "text/plain": [
       "<Figure size 432x288 with 1 Axes>"
      ]
     },
     "metadata": {
      "needs_background": "light"
     },
     "output_type": "display_data"
    },
    {
     "data": {
      "image/png": "[encoded data removed]",
      "text/plain": [
       "<Figure size 432x288 with 1 Axes>"
      ]
     },
     "metadata": {
      "needs_background": "light"
     },
     "output_type": "display_data"
    }
   ],
   "source": [
    "for y in ['e_mae','fme_mae', 'fae_mae']:\n",
    "    sns.lineplot(data=df, x='e_water_round', y=y)\n",
    "    if y !='fae_mae':\n",
    "        plt.yscale('log')\n",
    "    plt.show()"
   ]
  },
  {
   "cell_type": "code",
   "execution_count": null,
   "id": "ec512be1",
   "metadata": {},
   "outputs": [],
   "source": []
  }
 ],
 "metadata": {
  "kernelspec": {
   "display_name": "Python 3 (ipykernel)",
   "language": "python",
   "name": "python3"
  },
  "language_info": {
   "codemirror_mode": {
    "name": "ipython",
    "version": 3
   },
   "file_extension": ".py",
   "mimetype": "text/x-python",
   "name": "python",
   "nbconvert_exporter": "python",
   "pygments_lexer": "ipython3",
   "version": "3.9.6"
  }
 },
 "nbformat": 4,
 "nbformat_minor": 5
}
